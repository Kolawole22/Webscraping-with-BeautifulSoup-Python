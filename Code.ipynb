{
 "cells": [
  {
   "cell_type": "markdown",
   "id": "9bd4d0a9",
   "metadata": {},
   "source": [
    "I was curious to know the most in demand data visualization and statistical tools in the world of data analysis, so i wrote a code\n",
    "that webscraped data analysts job listings from indeed website using BeautifilSoup and requests packages, after which i performed\n",
    "data cleaning and manipulation using pandas and numpy. Then I made visualizations using plotly\n"
   ]
  },
  {
   "cell_type": "code",
   "execution_count": 1,
   "id": "8b6b6deb-34c0-414a-983e-db851ff0e80e",
   "metadata": {},
   "outputs": [],
   "source": [
    "from bs4 import BeautifulSoup\n",
    "import requests\n",
    "import time\n",
    "#import urllib\n",
    "import re\n",
    "#from urllib.request import urlopen\n",
    "import lxml\n",
    "import pandas as pd\n",
    "import numpy as np\n",
    "import seaborn as sns\n",
    "import matplotlib.pyplot as plt\n",
    "import plotly.express as px\n",
    "%matplotlib inline\n",
    "import warnings\n",
    "warnings.filterwarnings('ignore', category= FutureWarning)\n",
    "#import cchardet\n"
   ]
  },
  {
   "cell_type": "markdown",
   "id": "7e77d78c",
   "metadata": {},
   "source": [
    "I wrote a piece of code that scraped the job title, salary, Company and location over 1500 data analysts jobs posted on Indeed"
   ]
  },
  {
   "cell_type": "code",
   "execution_count": 449,
   "id": "64fca65f",
   "metadata": {},
   "outputs": [],
   "source": [
    "url_links = []\n",
    "sub_links = []\n",
    "titles = []\n",
    "salaries = []\n",
    "links = []\n",
    "desc = []\n",
    "companies = []\n",
    "location = []\n",
    "\n",
    "headers = {\n",
    "    'User-Agent': 'Mozilla/5.0 (Windows NT 10.0; Win64; x64) AppleWebKit/537.36 (KHTML, like Gecko) Chrome/102.0.5005.124 Safari/537.36 Edg/102.0.1245.41'}\n",
    "\n",
    "# url is the job search link in the form 'https://www.indeed.com/jobs?q=data%20analyst&l=usa&start='\n",
    "\n",
    "\n",
    "def indeed_job_scraper(url, no_of_pages):\n",
    "    print('getting links.....')\n",
    "    n = no_of_pages * 10\n",
    "    search_pages = range(0, n, 10)\n",
    "    for i in search_pages:\n",
    "        page = url + str(i)\n",
    "        url_links.append(page)\n",
    "#  This iterates through job search pages and appends to the url_links list\n",
    "\n",
    "    for j in url_links:\n",
    "        conn = requests.get(j, headers=headers)\n",
    "        soup = BeautifulSoup(conn.text, 'lxml')\n",
    "        body = soup.html.body\n",
    "#   Creates a BeautifulSoup instance\n",
    "\n",
    "        job_pages = body.find_all(name='a', attrs={'class': 'jcs-JobTitle'})\n",
    "        for k in job_pages:\n",
    "            job_sub_links = k.get('href')\n",
    "            sub_links.append(job_sub_links)\n",
    "#    This extracts the links from all the Job listings and appends to the  sub_link list\n",
    "\n",
    "    for y in sub_links:\n",
    "        link = 'https://www.indeed.com' + y\n",
    "        links.append(link)\n",
    "#     Some links were not loading so i added https://www.indeed.com to every link\n",
    "\n",
    "    print(len(links))\n",
    "    print('scraping job listings....')\n",
    "\n",
    "#    req = requests.session()\n",
    "    for z in links:\n",
    "        try:\n",
    "            title_link = requests.get(z, headers=headers)\n",
    "        except:\n",
    "            print('connection refused by the server')\n",
    "            time.sleep(20)\n",
    "            print('scraping pages.......')\n",
    "            continue\n",
    "        soup = BeautifulSoup(title_link.text, 'lxml')\n",
    "        try:\n",
    "            title = soup.html.body.find('h1').text\n",
    "        except AttributeError:\n",
    "            title = 'Na'\n",
    "#    Gets all job titles\n",
    "\n",
    "#        c = soup.html.find('div', {'Class' : 'icl-u-lg-mr--sm icl-u-xs-mr--xs'})\n",
    "        try:\n",
    "            company = soup.html.body.find(\n",
    "                'div', {'class': 'icl-u-textColor--success'}).text\n",
    "        except AttributeError:\n",
    "            company = 'Na'\n",
    "#      Gets all company names\n",
    "\n",
    "        try:\n",
    "            locations = soup.html.body.find('div', attrs={\n",
    "                                            'class': 'icl-u-xs-mt--xs icl-u-textColor--secondary jobsearch-JobInfoHeader-subtitle jobsearch-DesktopStickyContainer-subtitle'}).find_all('div', attrs={'class': ''})[3].text\n",
    "        except (AttributeError, TypeError):\n",
    "            locations = 'Na'\n",
    "#       Gets all locations\n",
    "\n",
    "        try:\n",
    "            salary = soup.html.body.find('div', id='salaryInfoAndJobType').text\n",
    "        except AttributeError:\n",
    "            salary = 'Na'\n",
    "            continue\n",
    "#       Gets all salaries\n",
    "\n",
    "        description = soup.html.body.find(\n",
    "            'div', id='jobDescriptionText').text.replace('\\n', '')\n",
    "#        Gets all job descriptions\n",
    "\n",
    "        titles.append(title)\n",
    "        salaries.append(salary)\n",
    "        desc.append(description)\n",
    "        companies.append(company)\n",
    "        location.append(locations)\n",
    "        for n in range(20, 680, 20):\n",
    "            if len(location) == n:\n",
    "                print('appended ' + str(n) + ' job listings')\n",
    "\n",
    "    print('Finished')\n"
   ]
  },
  {
   "cell_type": "code",
   "execution_count": 450,
   "id": "60ac620c",
   "metadata": {},
   "outputs": [
    {
     "name": "stdout",
     "output_type": "stream",
     "text": [
      "getting links.....\n",
      "105\n",
      "scraping job listings....\n",
      "appended 20 job listings\n",
      "appended 40 job listings\n",
      "appended 60 job listings\n",
      "appended 80 job listings\n",
      "Finished\n"
     ]
    }
   ],
   "source": [
    "indeed_job_scraper(\n",
    "    'https://www.indeed.com/jobs?q=data%20analyst%20%20%2445%2C000&fromage=1&start', 7)\n"
   ]
  },
  {
   "cell_type": "markdown",
   "id": "c853ba6e",
   "metadata": {},
   "source": [
    "Create a dictionary that stores the Job Title, Salary, Company Name, and Location and then convert it to a DataFrame."
   ]
  },
  {
   "cell_type": "code",
   "execution_count": 451,
   "id": "5a3e9c08",
   "metadata": {},
   "outputs": [
    {
     "data": {
      "text/html": [
       "<div>\n",
       "<style scoped>\n",
       "    .dataframe tbody tr th:only-of-type {\n",
       "        vertical-align: middle;\n",
       "    }\n",
       "\n",
       "    .dataframe tbody tr th {\n",
       "        vertical-align: top;\n",
       "    }\n",
       "\n",
       "    .dataframe thead th {\n",
       "        text-align: right;\n",
       "    }\n",
       "</style>\n",
       "<table border=\"1\" class=\"dataframe\">\n",
       "  <thead>\n",
       "    <tr style=\"text-align: right;\">\n",
       "      <th></th>\n",
       "      <th>titles</th>\n",
       "      <th>salary</th>\n",
       "      <th>company</th>\n",
       "      <th>job_desc</th>\n",
       "      <th>location</th>\n",
       "    </tr>\n",
       "  </thead>\n",
       "  <tbody>\n",
       "    <tr>\n",
       "      <th>0</th>\n",
       "      <td>Data Analyst</td>\n",
       "      <td>$71,872 - $88,073 a year -  Full-time</td>\n",
       "      <td>Public Health Institute</td>\n",
       "      <td>Data AnalystPosting Number: #1312Position Titl...</td>\n",
       "      <td>Remote</td>\n",
       "    </tr>\n",
       "    <tr>\n",
       "      <th>1</th>\n",
       "      <td>Data Analyst</td>\n",
       "      <td>$80,000 - $95,000 a year -  Full-time</td>\n",
       "      <td>Na</td>\n",
       "      <td>About Montaro: Montaro is a leading Amazon dig...</td>\n",
       "      <td>Remote</td>\n",
       "    </tr>\n",
       "    <tr>\n",
       "      <th>2</th>\n",
       "      <td>Customer Data Analyst</td>\n",
       "      <td>$79,800 - $119,800 a year -  Full-time</td>\n",
       "      <td>Renaissance</td>\n",
       "      <td>Company Description  When you join Renaissanc...</td>\n",
       "      <td>Remote</td>\n",
       "    </tr>\n",
       "    <tr>\n",
       "      <th>3</th>\n",
       "      <td>Reporting/Data Analyst</td>\n",
       "      <td>Full-time</td>\n",
       "      <td>TMF Health Quality Institute</td>\n",
       "      <td>*This position is on the Analytics team ...</td>\n",
       "      <td>Remote</td>\n",
       "    </tr>\n",
       "    <tr>\n",
       "      <th>4</th>\n",
       "      <td>Data Analyst, REMOTE!</td>\n",
       "      <td>Full-time</td>\n",
       "      <td>Elkay</td>\n",
       "      <td>Data Analyst, REMOTE!  Dare to design + build...</td>\n",
       "      <td>Oak Brook, IL 60523</td>\n",
       "    </tr>\n",
       "    <tr>\n",
       "      <th>5</th>\n",
       "      <td>Junior Business Analyst</td>\n",
       "      <td>Full-time</td>\n",
       "      <td>NexInfo Solutions</td>\n",
       "      <td>\"Business Analysis\"        Full Time      ...</td>\n",
       "      <td>Remote</td>\n",
       "    </tr>\n",
       "    <tr>\n",
       "      <th>6</th>\n",
       "      <td>Senior Data Analyst</td>\n",
       "      <td>Full-time</td>\n",
       "      <td>Karna</td>\n",
       "      <td>Overview:     Karna, LLC is recruiting for a ...</td>\n",
       "      <td>Atlanta, GA</td>\n",
       "    </tr>\n",
       "    <tr>\n",
       "      <th>7</th>\n",
       "      <td>Data Analyst</td>\n",
       "      <td>Full-time</td>\n",
       "      <td>Na</td>\n",
       "      <td>Position: Data Analyst Mid-LevelRequisition: 2...</td>\n",
       "      <td></td>\n",
       "    </tr>\n",
       "    <tr>\n",
       "      <th>8</th>\n",
       "      <td>Business Intelligence / Data Analyst</td>\n",
       "      <td>Full-time</td>\n",
       "      <td>Southern New Hampshire University</td>\n",
       "      <td>We are one growing team with one powerful go...</td>\n",
       "      <td>Remote</td>\n",
       "    </tr>\n",
       "    <tr>\n",
       "      <th>9</th>\n",
       "      <td>Sr Platform Data Analyst</td>\n",
       "      <td>$84,000 - $112,000 a year -  Full-time</td>\n",
       "      <td>GHX</td>\n",
       "      <td>GHX is building an industry leading data platf...</td>\n",
       "      <td>Remote</td>\n",
       "    </tr>\n",
       "    <tr>\n",
       "      <th>10</th>\n",
       "      <td>Sr Data Analyst</td>\n",
       "      <td>Full-time</td>\n",
       "      <td>KCAS</td>\n",
       "      <td>FlowMetric, a KCAS company, is looking for a D...</td>\n",
       "      <td>Remote</td>\n",
       "    </tr>\n",
       "    <tr>\n",
       "      <th>11</th>\n",
       "      <td>Master Data Analyst</td>\n",
       "      <td>Full-time</td>\n",
       "      <td>Na</td>\n",
       "      <td>Position Summary: As part of the Information T...</td>\n",
       "      <td>Cypress, CA 90630</td>\n",
       "    </tr>\n",
       "    <tr>\n",
       "      <th>12</th>\n",
       "      <td>Data Analyst</td>\n",
       "      <td>$80,000 - $95,000 a year -  Full-time</td>\n",
       "      <td>Na</td>\n",
       "      <td>About Montaro: Montaro is a leading Amazon dig...</td>\n",
       "      <td>Remote</td>\n",
       "    </tr>\n",
       "    <tr>\n",
       "      <th>13</th>\n",
       "      <td>Reporting/Data Analyst</td>\n",
       "      <td>Full-time</td>\n",
       "      <td>TMF Health Quality Institute</td>\n",
       "      <td>*This position is on the Analytics team ...</td>\n",
       "      <td>Remote</td>\n",
       "    </tr>\n",
       "    <tr>\n",
       "      <th>14</th>\n",
       "      <td>Reporting Data Analyst</td>\n",
       "      <td>$65,300 - $108,800 a year -  Full-time</td>\n",
       "      <td>Symetra</td>\n",
       "      <td>Symetra has an exciting opportunity to join ou...</td>\n",
       "      <td>Bellevue, WA 98004</td>\n",
       "    </tr>\n",
       "    <tr>\n",
       "      <th>15</th>\n",
       "      <td>Data Analyst</td>\n",
       "      <td>$71,872 - $88,073 a year -  Full-time</td>\n",
       "      <td>Public Health Institute</td>\n",
       "      <td>Data AnalystPosting Number: #1312Position Titl...</td>\n",
       "      <td>Remote</td>\n",
       "    </tr>\n",
       "    <tr>\n",
       "      <th>16</th>\n",
       "      <td>Data Science Analyst - Artificial Intelligence</td>\n",
       "      <td>$89,772 - $134,638 a year -  Full-time</td>\n",
       "      <td>Mayo Clinic</td>\n",
       "      <td>Why Mayo Clinic Mayo Clinic is the nation's be...</td>\n",
       "      <td>Rochester, MN</td>\n",
       "    </tr>\n",
       "    <tr>\n",
       "      <th>17</th>\n",
       "      <td>Customer Data Analyst</td>\n",
       "      <td>$79,800 - $119,800 a year -  Full-time</td>\n",
       "      <td>Renaissance</td>\n",
       "      <td>Company Description  When you join Renaissanc...</td>\n",
       "      <td>Remote</td>\n",
       "    </tr>\n",
       "    <tr>\n",
       "      <th>18</th>\n",
       "      <td>Sr Data Analyst</td>\n",
       "      <td>Full-time</td>\n",
       "      <td>KCAS</td>\n",
       "      <td>FlowMetric, a KCAS company, is looking for a D...</td>\n",
       "      <td>Remote</td>\n",
       "    </tr>\n",
       "    <tr>\n",
       "      <th>19</th>\n",
       "      <td>Business Intelligence / Data Analyst</td>\n",
       "      <td>Full-time</td>\n",
       "      <td>Southern New Hampshire University</td>\n",
       "      <td>We are one growing team with one powerful go...</td>\n",
       "      <td>Remote</td>\n",
       "    </tr>\n",
       "    <tr>\n",
       "      <th>20</th>\n",
       "      <td>Data Analyst</td>\n",
       "      <td>Full-time</td>\n",
       "      <td>Dollar Shave Club</td>\n",
       "      <td>ABOUT DSC: We disrupted the shaving industry i...</td>\n",
       "      <td>Marina del Rey, CA 90292</td>\n",
       "    </tr>\n",
       "    <tr>\n",
       "      <th>21</th>\n",
       "      <td>Data Analyst</td>\n",
       "      <td>Full-time</td>\n",
       "      <td>Na</td>\n",
       "      <td>Position: Data Analyst Mid-LevelRequisition: 2...</td>\n",
       "      <td></td>\n",
       "    </tr>\n",
       "    <tr>\n",
       "      <th>22</th>\n",
       "      <td>Data Analyst</td>\n",
       "      <td>$74,500 - $90,000 a year -  Full-time</td>\n",
       "      <td>University of North Carolina at Chapel Hill</td>\n",
       "      <td>Posting Information   Department      Infor...</td>\n",
       "      <td>Chapel Hill, NC 27599</td>\n",
       "    </tr>\n",
       "    <tr>\n",
       "      <th>23</th>\n",
       "      <td>Junior Business Analyst</td>\n",
       "      <td>Full-time</td>\n",
       "      <td>NexInfo Solutions</td>\n",
       "      <td>\"Business Analysis\"        Full Time      ...</td>\n",
       "      <td>Remote</td>\n",
       "    </tr>\n",
       "    <tr>\n",
       "      <th>24</th>\n",
       "      <td>Data Analyst, REMOTE!</td>\n",
       "      <td>Full-time</td>\n",
       "      <td>Elkay</td>\n",
       "      <td>Data Analyst, REMOTE!  Dare to design + build...</td>\n",
       "      <td>Oak Brook, IL 60523</td>\n",
       "    </tr>\n",
       "    <tr>\n",
       "      <th>25</th>\n",
       "      <td>Data Analyst</td>\n",
       "      <td>$71,872 - $88,073 a year -  Full-time</td>\n",
       "      <td>Public Health Institute</td>\n",
       "      <td>Data AnalystPosting Number: #1312Position Titl...</td>\n",
       "      <td>Remote</td>\n",
       "    </tr>\n",
       "    <tr>\n",
       "      <th>26</th>\n",
       "      <td>Data Analyst</td>\n",
       "      <td>$80,000 - $95,000 a year -  Full-time</td>\n",
       "      <td>Na</td>\n",
       "      <td>About Montaro: Montaro is a leading Amazon dig...</td>\n",
       "      <td>Remote</td>\n",
       "    </tr>\n",
       "    <tr>\n",
       "      <th>27</th>\n",
       "      <td>Customer Data Analyst</td>\n",
       "      <td>$79,800 - $119,800 a year -  Full-time</td>\n",
       "      <td>Renaissance</td>\n",
       "      <td>Company Description  When you join Renaissanc...</td>\n",
       "      <td>Remote</td>\n",
       "    </tr>\n",
       "    <tr>\n",
       "      <th>28</th>\n",
       "      <td>Reporting/Data Analyst</td>\n",
       "      <td>Full-time</td>\n",
       "      <td>TMF Health Quality Institute</td>\n",
       "      <td>*This position is on the Analytics team ...</td>\n",
       "      <td>Remote</td>\n",
       "    </tr>\n",
       "    <tr>\n",
       "      <th>29</th>\n",
       "      <td>Data Analyst, REMOTE!</td>\n",
       "      <td>Full-time</td>\n",
       "      <td>Elkay</td>\n",
       "      <td>Data Analyst, REMOTE!  Dare to design + build...</td>\n",
       "      <td>Oak Brook, IL 60523</td>\n",
       "    </tr>\n",
       "    <tr>\n",
       "      <th>30</th>\n",
       "      <td>Junior Business Analyst</td>\n",
       "      <td>Full-time</td>\n",
       "      <td>NexInfo Solutions</td>\n",
       "      <td>\"Business Analysis\"        Full Time      ...</td>\n",
       "      <td>Remote</td>\n",
       "    </tr>\n",
       "    <tr>\n",
       "      <th>31</th>\n",
       "      <td>Senior Data Analyst</td>\n",
       "      <td>Full-time</td>\n",
       "      <td>Karna</td>\n",
       "      <td>Overview:     Karna, LLC is recruiting for a ...</td>\n",
       "      <td>Atlanta, GA</td>\n",
       "    </tr>\n",
       "    <tr>\n",
       "      <th>32</th>\n",
       "      <td>Data Analyst</td>\n",
       "      <td>Full-time</td>\n",
       "      <td>Na</td>\n",
       "      <td>Position: Data Analyst Mid-LevelRequisition: 2...</td>\n",
       "      <td></td>\n",
       "    </tr>\n",
       "    <tr>\n",
       "      <th>33</th>\n",
       "      <td>Business Intelligence / Data Analyst</td>\n",
       "      <td>Full-time</td>\n",
       "      <td>Southern New Hampshire University</td>\n",
       "      <td>We are one growing team with one powerful go...</td>\n",
       "      <td>Remote</td>\n",
       "    </tr>\n",
       "    <tr>\n",
       "      <th>34</th>\n",
       "      <td>Sr Platform Data Analyst</td>\n",
       "      <td>$84,000 - $112,000 a year -  Full-time</td>\n",
       "      <td>GHX</td>\n",
       "      <td>GHX is building an industry leading data platf...</td>\n",
       "      <td>Remote</td>\n",
       "    </tr>\n",
       "    <tr>\n",
       "      <th>35</th>\n",
       "      <td>Sr Data Analyst</td>\n",
       "      <td>Full-time</td>\n",
       "      <td>KCAS</td>\n",
       "      <td>FlowMetric, a KCAS company, is looking for a D...</td>\n",
       "      <td>Remote</td>\n",
       "    </tr>\n",
       "    <tr>\n",
       "      <th>36</th>\n",
       "      <td>Master Data Analyst</td>\n",
       "      <td>Full-time</td>\n",
       "      <td>Na</td>\n",
       "      <td>Position Summary: As part of the Information T...</td>\n",
       "      <td>Cypress, CA 90630</td>\n",
       "    </tr>\n",
       "    <tr>\n",
       "      <th>37</th>\n",
       "      <td>Data Analyst</td>\n",
       "      <td>$71,872 - $88,073 a year -  Full-time</td>\n",
       "      <td>Public Health Institute</td>\n",
       "      <td>Data AnalystPosting Number: #1312Position Titl...</td>\n",
       "      <td>Remote</td>\n",
       "    </tr>\n",
       "    <tr>\n",
       "      <th>38</th>\n",
       "      <td>Data Analyst</td>\n",
       "      <td>$80,000 - $95,000 a year -  Full-time</td>\n",
       "      <td>Na</td>\n",
       "      <td>About Montaro: Montaro is a leading Amazon dig...</td>\n",
       "      <td>Remote</td>\n",
       "    </tr>\n",
       "    <tr>\n",
       "      <th>39</th>\n",
       "      <td>Customer Data Analyst</td>\n",
       "      <td>$79,800 - $119,800 a year -  Full-time</td>\n",
       "      <td>Renaissance</td>\n",
       "      <td>Company Description  When you join Renaissanc...</td>\n",
       "      <td>Remote</td>\n",
       "    </tr>\n",
       "  </tbody>\n",
       "</table>\n",
       "</div>"
      ],
      "text/plain": [
       "                                            titles  \\\n",
       "0                                     Data Analyst   \n",
       "1                                     Data Analyst   \n",
       "2                            Customer Data Analyst   \n",
       "3                           Reporting/Data Analyst   \n",
       "4                            Data Analyst, REMOTE!   \n",
       "5                          Junior Business Analyst   \n",
       "6                              Senior Data Analyst   \n",
       "7                                     Data Analyst   \n",
       "8             Business Intelligence / Data Analyst   \n",
       "9                         Sr Platform Data Analyst   \n",
       "10                                 Sr Data Analyst   \n",
       "11                             Master Data Analyst   \n",
       "12                                    Data Analyst   \n",
       "13                          Reporting/Data Analyst   \n",
       "14                          Reporting Data Analyst   \n",
       "15                                    Data Analyst   \n",
       "16  Data Science Analyst - Artificial Intelligence   \n",
       "17                           Customer Data Analyst   \n",
       "18                                 Sr Data Analyst   \n",
       "19            Business Intelligence / Data Analyst   \n",
       "20                                    Data Analyst   \n",
       "21                                    Data Analyst   \n",
       "22                                    Data Analyst   \n",
       "23                         Junior Business Analyst   \n",
       "24                           Data Analyst, REMOTE!   \n",
       "25                                    Data Analyst   \n",
       "26                                    Data Analyst   \n",
       "27                           Customer Data Analyst   \n",
       "28                          Reporting/Data Analyst   \n",
       "29                           Data Analyst, REMOTE!   \n",
       "30                         Junior Business Analyst   \n",
       "31                             Senior Data Analyst   \n",
       "32                                    Data Analyst   \n",
       "33            Business Intelligence / Data Analyst   \n",
       "34                        Sr Platform Data Analyst   \n",
       "35                                 Sr Data Analyst   \n",
       "36                             Master Data Analyst   \n",
       "37                                    Data Analyst   \n",
       "38                                    Data Analyst   \n",
       "39                           Customer Data Analyst   \n",
       "\n",
       "                                    salary  \\\n",
       "0    $71,872 - $88,073 a year -  Full-time   \n",
       "1    $80,000 - $95,000 a year -  Full-time   \n",
       "2   $79,800 - $119,800 a year -  Full-time   \n",
       "3                                Full-time   \n",
       "4                                Full-time   \n",
       "5                                Full-time   \n",
       "6                                Full-time   \n",
       "7                                Full-time   \n",
       "8                                Full-time   \n",
       "9   $84,000 - $112,000 a year -  Full-time   \n",
       "10                               Full-time   \n",
       "11                               Full-time   \n",
       "12   $80,000 - $95,000 a year -  Full-time   \n",
       "13                               Full-time   \n",
       "14  $65,300 - $108,800 a year -  Full-time   \n",
       "15   $71,872 - $88,073 a year -  Full-time   \n",
       "16  $89,772 - $134,638 a year -  Full-time   \n",
       "17  $79,800 - $119,800 a year -  Full-time   \n",
       "18                               Full-time   \n",
       "19                               Full-time   \n",
       "20                               Full-time   \n",
       "21                               Full-time   \n",
       "22   $74,500 - $90,000 a year -  Full-time   \n",
       "23                               Full-time   \n",
       "24                               Full-time   \n",
       "25   $71,872 - $88,073 a year -  Full-time   \n",
       "26   $80,000 - $95,000 a year -  Full-time   \n",
       "27  $79,800 - $119,800 a year -  Full-time   \n",
       "28                               Full-time   \n",
       "29                               Full-time   \n",
       "30                               Full-time   \n",
       "31                               Full-time   \n",
       "32                               Full-time   \n",
       "33                               Full-time   \n",
       "34  $84,000 - $112,000 a year -  Full-time   \n",
       "35                               Full-time   \n",
       "36                               Full-time   \n",
       "37   $71,872 - $88,073 a year -  Full-time   \n",
       "38   $80,000 - $95,000 a year -  Full-time   \n",
       "39  $79,800 - $119,800 a year -  Full-time   \n",
       "\n",
       "                                        company  \\\n",
       "0                       Public Health Institute   \n",
       "1                                            Na   \n",
       "2                                   Renaissance   \n",
       "3                  TMF Health Quality Institute   \n",
       "4                                         Elkay   \n",
       "5                             NexInfo Solutions   \n",
       "6                                         Karna   \n",
       "7                                            Na   \n",
       "8             Southern New Hampshire University   \n",
       "9                                           GHX   \n",
       "10                                         KCAS   \n",
       "11                                           Na   \n",
       "12                                           Na   \n",
       "13                 TMF Health Quality Institute   \n",
       "14                                      Symetra   \n",
       "15                      Public Health Institute   \n",
       "16                                  Mayo Clinic   \n",
       "17                                  Renaissance   \n",
       "18                                         KCAS   \n",
       "19            Southern New Hampshire University   \n",
       "20                            Dollar Shave Club   \n",
       "21                                           Na   \n",
       "22  University of North Carolina at Chapel Hill   \n",
       "23                            NexInfo Solutions   \n",
       "24                                        Elkay   \n",
       "25                      Public Health Institute   \n",
       "26                                           Na   \n",
       "27                                  Renaissance   \n",
       "28                 TMF Health Quality Institute   \n",
       "29                                        Elkay   \n",
       "30                            NexInfo Solutions   \n",
       "31                                        Karna   \n",
       "32                                           Na   \n",
       "33            Southern New Hampshire University   \n",
       "34                                          GHX   \n",
       "35                                         KCAS   \n",
       "36                                           Na   \n",
       "37                      Public Health Institute   \n",
       "38                                           Na   \n",
       "39                                  Renaissance   \n",
       "\n",
       "                                             job_desc  \\\n",
       "0   Data AnalystPosting Number: #1312Position Titl...   \n",
       "1   About Montaro: Montaro is a leading Amazon dig...   \n",
       "2    Company Description  When you join Renaissanc...   \n",
       "3         *This position is on the Analytics team ...   \n",
       "4    Data Analyst, REMOTE!  Dare to design + build...   \n",
       "5       \"Business Analysis\"        Full Time      ...   \n",
       "6    Overview:     Karna, LLC is recruiting for a ...   \n",
       "7   Position: Data Analyst Mid-LevelRequisition: 2...   \n",
       "8     We are one growing team with one powerful go...   \n",
       "9   GHX is building an industry leading data platf...   \n",
       "10  FlowMetric, a KCAS company, is looking for a D...   \n",
       "11  Position Summary: As part of the Information T...   \n",
       "12  About Montaro: Montaro is a leading Amazon dig...   \n",
       "13        *This position is on the Analytics team ...   \n",
       "14  Symetra has an exciting opportunity to join ou...   \n",
       "15  Data AnalystPosting Number: #1312Position Titl...   \n",
       "16  Why Mayo Clinic Mayo Clinic is the nation's be...   \n",
       "17   Company Description  When you join Renaissanc...   \n",
       "18  FlowMetric, a KCAS company, is looking for a D...   \n",
       "19    We are one growing team with one powerful go...   \n",
       "20  ABOUT DSC: We disrupted the shaving industry i...   \n",
       "21  Position: Data Analyst Mid-LevelRequisition: 2...   \n",
       "22     Posting Information   Department      Infor...   \n",
       "23      \"Business Analysis\"        Full Time      ...   \n",
       "24   Data Analyst, REMOTE!  Dare to design + build...   \n",
       "25  Data AnalystPosting Number: #1312Position Titl...   \n",
       "26  About Montaro: Montaro is a leading Amazon dig...   \n",
       "27   Company Description  When you join Renaissanc...   \n",
       "28        *This position is on the Analytics team ...   \n",
       "29   Data Analyst, REMOTE!  Dare to design + build...   \n",
       "30      \"Business Analysis\"        Full Time      ...   \n",
       "31   Overview:     Karna, LLC is recruiting for a ...   \n",
       "32  Position: Data Analyst Mid-LevelRequisition: 2...   \n",
       "33    We are one growing team with one powerful go...   \n",
       "34  GHX is building an industry leading data platf...   \n",
       "35  FlowMetric, a KCAS company, is looking for a D...   \n",
       "36  Position Summary: As part of the Information T...   \n",
       "37  Data AnalystPosting Number: #1312Position Titl...   \n",
       "38  About Montaro: Montaro is a leading Amazon dig...   \n",
       "39   Company Description  When you join Renaissanc...   \n",
       "\n",
       "                    location  \n",
       "0                     Remote  \n",
       "1                     Remote  \n",
       "2                     Remote  \n",
       "3                     Remote  \n",
       "4        Oak Brook, IL 60523  \n",
       "5                     Remote  \n",
       "6                Atlanta, GA  \n",
       "7                             \n",
       "8                     Remote  \n",
       "9                     Remote  \n",
       "10                    Remote  \n",
       "11         Cypress, CA 90630  \n",
       "12                    Remote  \n",
       "13                    Remote  \n",
       "14        Bellevue, WA 98004  \n",
       "15                    Remote  \n",
       "16             Rochester, MN  \n",
       "17                    Remote  \n",
       "18                    Remote  \n",
       "19                    Remote  \n",
       "20  Marina del Rey, CA 90292  \n",
       "21                            \n",
       "22     Chapel Hill, NC 27599  \n",
       "23                    Remote  \n",
       "24       Oak Brook, IL 60523  \n",
       "25                    Remote  \n",
       "26                    Remote  \n",
       "27                    Remote  \n",
       "28                    Remote  \n",
       "29       Oak Brook, IL 60523  \n",
       "30                    Remote  \n",
       "31               Atlanta, GA  \n",
       "32                            \n",
       "33                    Remote  \n",
       "34                    Remote  \n",
       "35                    Remote  \n",
       "36         Cypress, CA 90630  \n",
       "37                    Remote  \n",
       "38                    Remote  \n",
       "39                    Remote  "
      ]
     },
     "execution_count": 451,
     "metadata": {},
     "output_type": "execute_result"
    }
   ],
   "source": [
    "job_list = {'titles': titles, 'salary': salaries,\n",
    "            'company': companies, 'job_desc': desc, 'location': location}\n",
    "df = pd.DataFrame.from_dict(job_list)\n",
    "df.head(40)\n"
   ]
  },
  {
   "cell_type": "markdown",
   "id": "576d6b83",
   "metadata": {},
   "source": [
    "Data Cleansing and Wrangling"
   ]
  },
  {
   "cell_type": "code",
   "execution_count": 786,
   "id": "857878ad",
   "metadata": {},
   "outputs": [
    {
     "data": {
      "text/plain": [
       "(1756, 5)"
      ]
     },
     "execution_count": 786,
     "metadata": {},
     "output_type": "execute_result"
    }
   ],
   "source": [
    "df.shape\n"
   ]
  },
  {
   "cell_type": "code",
   "execution_count": 14,
   "id": "a8f3e2d9",
   "metadata": {},
   "outputs": [],
   "source": [
    "df.drop_duplicates(inplace=True)\n"
   ]
  },
  {
   "cell_type": "markdown",
   "id": "829f9d59",
   "metadata": {},
   "source": [
    "Data Wrangling"
   ]
  },
  {
   "cell_type": "markdown",
   "id": "5f5314f9",
   "metadata": {},
   "source": [
    "Remove the strings in the salary column"
   ]
  },
  {
   "cell_type": "code",
   "execution_count": null,
   "id": "7216a1a7-a9b3-4c6a-9130-3feec481116a",
   "metadata": {},
   "outputs": [],
   "source": [
    "a = ['Full-time', 'Contract', 'Part-time', ',']\n",
    "b = ['', '', '', '']\n",
    "hourly = df[df['salary'].str.contains('hour')].replace(a, b, regex=True)\n",
    "hourly[['salary_min', 'salary_max']\n",
    "       ] = hourly.salary.str.split('-', 1, expand=True)\n",
    "hourly['salary_min'] = hourly['salary_min'].str.replace('an hour', '')\n",
    "hourly['salary_min'] = hourly['salary_min'].str.replace('$', '')\n",
    "hourly['salary_min'] = hourly['salary_min'].str.replace('Up to', '')\n",
    "hourly['salary_min'] = hourly['salary_min'].str.replace('From', '')\n",
    "\n",
    "hourly['salary_max'] = hourly['salary_max'].str.replace('an hour', '')\n",
    "hourly['salary_max'] = hourly['salary_max'].str.replace('$', '')\n",
    "hourly['salary_max'] = hourly['salary_max'].str.replace('-', '')\n",
    "hourly['salary_max'] = hourly['salary_max'].str.replace('Temporary', '')\n",
    "hourly['salary_max'] = hourly['salary_max'].str.replace(\n",
    "    'None', '0', regex=True)\n",
    "\n",
    "yearly = df[df['salary'].str.contains('year')].replace(a, b, regex=True)\n",
    "yearly[['salary_min', 'salary_max']\n",
    "       ] = yearly.salary.str.split('-', 1, expand=True)\n",
    "yearly['salary_min'] = yearly['salary_min'].str.replace('a year', '')\n",
    "yearly['salary_min'] = yearly['salary_min'].str.replace('$', '')\n",
    "yearly['salary_max'] = yearly['salary_max'].str.replace('a year', '')\n",
    "yearly['salary_max'] = yearly['salary_max'].str.replace('$', '')\n",
    "yearly['salary_max'] = yearly['salary_max'].str.replace('-', '')\n",
    "yearly['salary_min'] = yearly['salary_min'].str.replace('Up to', '')\n",
    "yearly['salary_min'] = yearly['salary_min'].str.replace('From', '')\n",
    "yearly['salary_max'] = yearly['salary_max'].str.replace('Temporary', '')\n",
    "yearly['salary_max'] = yearly['salary_max'].str.replace('Seasonal', '')\n",
    "\n",
    "monthly = df[df['salary'].str.contains('month')].replace(a, b, regex=True)\n",
    "monthly[['salary_min', 'salary_max']\n",
    "        ] = monthly.salary.str.split('-', 1, expand=True)\n",
    "monthly['salary_min'] = monthly['salary_min'].str.replace('a month', '')\n",
    "monthly['salary_min'] = monthly['salary_min'].str.replace('$', '')\n",
    "monthly['salary_max'] = monthly['salary_max'].str.replace('a month', '')\n",
    "monthly['salary_max'] = monthly['salary_max'].str.replace('$', '')\n",
    "monthly['salary_max'] = monthly['salary_max'].str.replace('-', '')\n",
    "monthly['salary_min'] = monthly['salary_min'].str.replace('Up to', '')\n",
    "monthly['salary_min'] = monthly['salary_min'].str.replace('From', '')\n",
    "monthly['salary_max'] = monthly['salary_max'].str.replace('Temporary', '')\n",
    "monthly['salary_max'] = monthly['salary_max'].str.replace('Seasonal', '')\n",
    "\n",
    "weekly = df[df['salary'].str.contains('week')].replace(a, b, regex=True)\n",
    "weekly[['salary_min', 'salary_max']\n",
    "       ] = weekly.salary.str.split('-', 1, expand=True)\n",
    "weekly['salary_min'] = weekly['salary_min'].str.replace('a week', '')\n",
    "weekly['salary_min'] = weekly['salary_min'].str.replace('$', '')\n",
    "weekly['salary_max'] = weekly['salary_max'].str.replace('a week', '')\n",
    "weekly['salary_max'] = weekly['salary_max'].str.replace('$', '')\n",
    "weekly['salary_max'] = weekly['salary_max'].str.replace('-', '')\n",
    "weekly['salary_min'] = weekly['salary_min'].str.replace('Up to', '')\n",
    "weekly['salary_min'] = weekly['salary_min'].str.replace('From', '')\n",
    "weekly['salary_max'] = weekly['salary_max'].str.replace('Temporary', '')\n",
    "weekly['salary_max'] = weekly['salary_max'].str.replace('Seasonal', '')\n",
    "\n",
    "hourly['salary_max'].fillna(np.nan, inplace=True)\n",
    "yearly['salary_max'].fillna(np.nan, inplace=True)\n",
    "monthly['salary_max'].fillna(np.nan, inplace=True)\n",
    "weekly['salary_max'].fillna(np.nan, inplace=True)\n",
    "\n",
    "hourly['salary_max'] = hourly['salary_max'].replace(\n",
    "    r'^\\s*$', np.nan, regex=True)\n",
    "yearly['salary_max'] = yearly['salary_max'].replace(\n",
    "    r'^\\s*$', np.nan, regex=True)\n",
    "monthly['salary_max'] = monthly['salary_max'].replace(\n",
    "    r'^\\s*$', np.nan, regex=True)\n",
    "weekly['salary_max'] = weekly['salary_max'].replace(\n",
    "    r'^\\s*$', np.nan, regex=True)\n",
    "\n",
    "hourly['salary_max'] = hourly['salary_max'].astype(float)\n",
    "hourly['salary_min'] = hourly['salary_min'].astype(float)\n",
    "yearly['salary_max'] = yearly['salary_max'].astype(float)\n",
    "yearly['salary_min'] = yearly['salary_min'].astype(float)\n",
    "monthly['salary_max'] = monthly['salary_max'].astype(float)\n",
    "monthly['salary_min'] = monthly['salary_min'].astype(float)\n",
    "weekly['salary_max'] = weekly['salary_max'].astype(float)\n",
    "weekly['salary_min'] = weekly['salary_min'].astype(float)\n",
    "\n",
    "hourly['salary_max'].fillna(hourly['salary_min'], inplace=True)\n",
    "yearly['salary_max'].fillna(yearly['salary_min'], inplace=True)\n",
    "monthly['salary_max'].fillna(monthly['salary_min'], inplace=True)\n",
    "weekly['salary_max'].fillna(weekly['salary_min'], inplace=True)\n"
   ]
  },
  {
   "cell_type": "markdown",
   "id": "0c14a4f3",
   "metadata": {},
   "source": [
    "Convert all Salary formats to Yearly"
   ]
  },
  {
   "cell_type": "code",
   "execution_count": 16,
   "id": "a50b9ef4-839a-4bee-9a6f-0765ae9602d2",
   "metadata": {},
   "outputs": [],
   "source": [
    "hourly['salary'] = (hourly['salary_min'] + hourly['salary_max'])/2\n",
    "yearly['salary'] = (yearly['salary_min'] + yearly['salary_max'])/2\n",
    "monthly['salary'] = (monthly['salary_min'] + monthly['salary_max'])/2\n",
    "weekly['salary'] = (weekly['salary_min'] + weekly['salary_max'])/2\n",
    "\n",
    "hourly['salary_min'] = hourly['salary_min']*2000\n",
    "hourly['salary_max'] = hourly['salary_max']*2000\n",
    "\n",
    "monthly['salary_min'] = monthly['salary_min']*12\n",
    "monthly['salary_max'] = monthly['salary_max']*12\n",
    "\n",
    "weekly['salary_min'] = weekly['salary_min']*50\n",
    "weekly['salary_max'] = weekly['salary_max']*50\n"
   ]
  },
  {
   "cell_type": "code",
   "execution_count": 17,
   "id": "4a16505f-6e1c-43e4-8e18-db8ce0c7a733",
   "metadata": {},
   "outputs": [],
   "source": [
    "hourly.drop(['salary'], axis=1, inplace=True)\n",
    "yearly.drop(['salary'], axis=1, inplace=True)\n",
    "monthly.drop(['salary'], axis=1, inplace=True)\n",
    "weekly.drop(['salary'], axis=1, inplace=True)"
   ]
  },
  {
   "cell_type": "markdown",
   "id": "980206f7",
   "metadata": {},
   "source": [
    "Drop the rows that contain strings in the salary column and Concatenate with the dataframes with cleaned salary column"
   ]
  },
  {
   "cell_type": "code",
   "execution_count": 18,
   "id": "389db529-002e-4c37-85bf-723288fe9d1e",
   "metadata": {},
   "outputs": [],
   "source": [
    "df_drop = df[df['salary'].str.contains('year')].index\n",
    "\n",
    "df_drop1 = df[df['salary'].str.contains('hour')].index\n",
    "\n",
    "df_drop2 = df[df['salary'].str.contains('month')].index\n",
    "\n",
    "df_drop3 = df[df['salary'].str.contains('week')].index\n",
    "\n",
    "df.drop(df_drop, axis=0, inplace=True)\n",
    "\n",
    "df.drop(df_drop1, axis=0, inplace=True)\n",
    "\n",
    "df.drop(df_drop2, axis=0, inplace=True)\n",
    "\n",
    "df.drop(df_drop3, axis=0, inplace=True)\n"
   ]
  },
  {
   "cell_type": "code",
   "execution_count": 20,
   "id": "98f8f4ff-984b-4fd5-9ed1-449dd7021631",
   "metadata": {},
   "outputs": [],
   "source": [
    "df.drop(['salary'], axis=1, inplace=True)\n",
    "df = pd.concat([df, yearly, hourly, weekly, monthly], axis=0)"
   ]
  },
  {
   "cell_type": "code",
   "execution_count": 21,
   "id": "ae803dae-b050-453a-89b5-aedc88421dac",
   "metadata": {},
   "outputs": [
    {
     "data": {
      "text/html": [
       "<div>\n",
       "<style scoped>\n",
       "    .dataframe tbody tr th:only-of-type {\n",
       "        vertical-align: middle;\n",
       "    }\n",
       "\n",
       "    .dataframe tbody tr th {\n",
       "        vertical-align: top;\n",
       "    }\n",
       "\n",
       "    .dataframe thead th {\n",
       "        text-align: right;\n",
       "    }\n",
       "</style>\n",
       "<table border=\"1\" class=\"dataframe\">\n",
       "  <thead>\n",
       "    <tr style=\"text-align: right;\">\n",
       "      <th></th>\n",
       "      <th>titles</th>\n",
       "      <th>company</th>\n",
       "      <th>job_desc</th>\n",
       "      <th>location</th>\n",
       "      <th>salary_min</th>\n",
       "      <th>salary_max</th>\n",
       "    </tr>\n",
       "  </thead>\n",
       "  <tbody>\n",
       "    <tr>\n",
       "      <th>0</th>\n",
       "      <td>Entry Level Data Center Analyst</td>\n",
       "      <td>Align</td>\n",
       "      <td>Why Align For over three decades, many of the ...</td>\n",
       "      <td>New York, NY 10004</td>\n",
       "      <td>NaN</td>\n",
       "      <td>NaN</td>\n",
       "    </tr>\n",
       "    <tr>\n",
       "      <th>1</th>\n",
       "      <td>Statistical Data Analyst</td>\n",
       "      <td>University of South Florida</td>\n",
       "      <td>Dept Number/Name: 0-6414-000 / College of Publ...</td>\n",
       "      <td>Tampa FL 33620</td>\n",
       "      <td>50000.0</td>\n",
       "      <td>61050.0</td>\n",
       "    </tr>\n",
       "    <tr>\n",
       "      <th>2</th>\n",
       "      <td>Data/Requirements Analyst</td>\n",
       "      <td>Empower AI Inc.</td>\n",
       "      <td>Overview:     Empower AI is AI for government...</td>\n",
       "      <td>Remote</td>\n",
       "      <td>NaN</td>\n",
       "      <td>NaN</td>\n",
       "    </tr>\n",
       "    <tr>\n",
       "      <th>3</th>\n",
       "      <td>BI Analyst I or BI Analyst II</td>\n",
       "      <td>City of Plano, Texas</td>\n",
       "      <td>We are looking for a passionate and skilled BI...</td>\n",
       "      <td>Plano, TX</td>\n",
       "      <td>NaN</td>\n",
       "      <td>NaN</td>\n",
       "    </tr>\n",
       "    <tr>\n",
       "      <th>4</th>\n",
       "      <td>Senior Data Analyst - Supply</td>\n",
       "      <td>StubHub</td>\n",
       "      <td>Senior Data Analyst – Supply StubHub is lookin...</td>\n",
       "      <td>New York, NY 10018</td>\n",
       "      <td>NaN</td>\n",
       "      <td>NaN</td>\n",
       "    </tr>\n",
       "  </tbody>\n",
       "</table>\n",
       "</div>"
      ],
      "text/plain": [
       "                            titles                      company  \\\n",
       "0  Entry Level Data Center Analyst                        Align   \n",
       "1         Statistical Data Analyst  University of South Florida   \n",
       "2        Data/Requirements Analyst              Empower AI Inc.   \n",
       "3    BI Analyst I or BI Analyst II         City of Plano, Texas   \n",
       "4     Senior Data Analyst - Supply                      StubHub   \n",
       "\n",
       "                                            job_desc            location  \\\n",
       "0  Why Align For over three decades, many of the ...  New York, NY 10004   \n",
       "1  Dept Number/Name: 0-6414-000 / College of Publ...      Tampa FL 33620   \n",
       "2   Overview:     Empower AI is AI for government...              Remote   \n",
       "3  We are looking for a passionate and skilled BI...           Plano, TX   \n",
       "4  Senior Data Analyst – Supply StubHub is lookin...  New York, NY 10018   \n",
       "\n",
       "   salary_min  salary_max  \n",
       "0         NaN         NaN  \n",
       "1     50000.0     61050.0  \n",
       "2         NaN         NaN  \n",
       "3         NaN         NaN  \n",
       "4         NaN         NaN  "
      ]
     },
     "execution_count": 21,
     "metadata": {},
     "output_type": "execute_result"
    }
   ],
   "source": [
    "df = df.sample(frac=1).reset_index(drop=True)\n",
    "df.head()"
   ]
  },
  {
   "cell_type": "code",
   "execution_count": 22,
   "id": "f67674e8-8cbb-4bc4-90f2-f0663c1e2b08",
   "metadata": {},
   "outputs": [
    {
     "data": {
      "text/plain": [
       "(1756, 6)"
      ]
     },
     "execution_count": 22,
     "metadata": {},
     "output_type": "execute_result"
    }
   ],
   "source": [
    "df.shape\n"
   ]
  },
  {
   "cell_type": "code",
   "execution_count": null,
   "id": "9ac1b3d2-65ab-4277-8a6c-a0b6fc46bd26",
   "metadata": {},
   "outputs": [],
   "source": [
    "df.to_csv('clean_indeed_data_analysts_job_listings.csv', index=False)"
   ]
  },
  {
   "cell_type": "markdown",
   "id": "7b3b06a7",
   "metadata": {},
   "source": [
    "some rows contain 'Remote' as the location, so create a new dataframe df_remote containing such rows and then drop the rows from the main dataframe\n",
    " from the df_remote dataframe, get the locations by creating a list of US States and their abbreviations and then search for the list items in their respective rows from the job_desc column."
   ]
  },
  {
   "cell_type": "code",
   "execution_count": 23,
   "id": "d1ff898d-c517-4193-83d4-22ad98f4f504",
   "metadata": {},
   "outputs": [],
   "source": [
    "df_remote = df[df['location'].str.contains('Remote', na=False)]\n",
    "df_remote_drop = df[df['location'].str.contains('Remote', na=False)].index\n",
    "df.drop(df_remote_drop, axis=0, inplace=True)\n"
   ]
  },
  {
   "cell_type": "markdown",
   "id": "39462282",
   "metadata": {},
   "source": [
    "create a list of US states and create a new dataframe column by searching the for the list items in the dataframe location column"
   ]
  },
  {
   "cell_type": "code",
   "execution_count": null,
   "id": "4a50339a-742b-4b5f-b495-c361777c3545",
   "metadata": {},
   "outputs": [],
   "source": [
    "re_states = \"Alabama|Alaska|Arizona|Arkansas|California|Colorado|Connecticut|Delaware|Florida|Georgia|Hawaii|Idaho|Illinois|Indiana|Iowa|Kansas|Kentucky|Louisiana|Maine|Maryland|Massachusetts|Michigan|Minnesota|Mississippi|Missouri|Montana|Nebraska|Nevada|New Hampshire|New Jersey|New Mexico|New York|North Carolina|North Dakota|Ohio|Oklahoma|Oregon|Pennsylvania|Rhode Island|South Carolina|South Dakota|Tennessee|Texas|Utah|Vermont|Virginia|Washington|West Virginia|Wisconsin|Wyoming|AL | AK | AZ | AR | CA | CO | CT | DC | DE | FL | GA | HI | ID | IL | IN | IA | KS | KY | LA | ME | MD | MA | MI | MN | MS | MO | MT | NE | NV | NH | NJ | NM | NY | NC | ND | OH | OK | OR | PA | RI | SC | SD | TN | TX | UT | VT | VA | WA | WV | WI | WY |AL|AK|AZ|AR|CA|CO|CT|DC|DE|FL|GA|HI|ID|IL|IN|IA|KS|KY|LA|ME|MD|MA|MI|MN|MS|MO|MT|NE|NV|NH|NJ|NM|NY|NC|ND|OH|OK|OR|PA|RI|SC|SD|TN|TX|UT|VT|VA|WA|WV|WI|WY \"\n",
    "re_states_abv_ = \"AL|AK|AZ|AR|CA|CO|CT|DC|DE|FL|GA|HI|ID|IL|IN|IA|KS|KY|LA|ME|MD|MA|MI|MN|MS|MO|MT|NE|NV|NH|NJ|NM|NY|NC|ND|OH|OK|OR|PA|RI|SC|SD|TN|TX|UT|VT|VA|WA|WV|WI|WY\"\n",
    "\n",
    "df_remote['state'] = df_remote['job_desc'].str.findall(re_states)\n",
    "df_remote['state'] = df_remote['state'].str[0]\n"
   ]
  },
  {
   "cell_type": "code",
   "execution_count": 25,
   "id": "1f8d6fe6-88b8-4111-9142-f46fe3cdacc5",
   "metadata": {},
   "outputs": [],
   "source": [
    "states_names = [\"Alabama\", \"Alaska\", \"Arizona\", \"Arkansas\", \"California\", \"Colorado\",\n",
    "                \"Connecticut\", \"District of Columbia\", \"Delaware\", \"Florida\", \"Georgia\", \"Hawaii\", \"Idaho\", \"Illinois\",\n",
    "                \"Indiana\", \"Iowa\", \"Kansas\", \"Kentucky\", \"Louisiana\", \"Maine\", \"Maryland\",\n",
    "                \"Massachusetts\", \"Michigan\", \"Minnesota\", \"Mississippi\", \"Missouri\", \"Montana\",\n",
    "                \"Nebraska\", \"Nevada\", \"New Hampshire\", \"New Jersey\", \"New Mexico\", \"New York\",\n",
    "                \"North Carolina\", \"North Dakota\", \"Ohio\", \"Oklahoma\", \"Oregon\", \"Pennsylvania\",\n",
    "                \"Rhode Island\", \"South Carolina\", \"South Dakota\", \"Tennessee\", \"Texas\", \"Utah\",\n",
    "                \"Vermont\", \"Virginia\", \"Washington\", \"West Virginia\", \"Wisconsin\", \"Wyoming\"]\n",
    "\n",
    "states_abv = [\"AL\", \"AK\", \"AZ\", \"AR\", \"CA\", \"CO\", \"CT\", \"DC\", \"DE\", \"FL\", \"GA\",\n",
    "              \"HI\", \"ID\", \"IL\", \"IN\", \"IA\", \"KS\", \"KY\", \"LA\", \"ME\", \"MD\",\n",
    "              \"MA\", \"MI\", \"MN\", \"MS\", \"MO\", \"MT\", \"NE\", \"NV\", \"NH\", \"NJ\",\n",
    "              \"NM\", \"NY\", \"NC\", \"ND\", \"OH\", \"OK\", \"OR\", \"PA\", \"RI\", \"SC\",\n",
    "              \"SD\", \"TN\", \"TX\", \"UT\", \"VT\", \"VA\", \"WA\", \"WV\", \"WI\", \"WY\"]\n"
   ]
  },
  {
   "cell_type": "code",
   "execution_count": null,
   "id": "dd691a23-3347-4ee5-91f7-e085dd111535",
   "metadata": {},
   "outputs": [],
   "source": [
    "#df_remote.drop(['location_2'], axis=1, inplace=True)\n",
    "df_remote['state'] = df_remote['state'].replace(\n",
    "    states_abv, states_names, regex=True)\n"
   ]
  },
  {
   "cell_type": "markdown",
   "id": "417b6c48",
   "metadata": {},
   "source": [
    "Extract the Cities and States from the Location by using the split function"
   ]
  },
  {
   "cell_type": "code",
   "execution_count": 27,
   "id": "499f0fe6-d736-464d-9398-bfa3101c760b",
   "metadata": {},
   "outputs": [],
   "source": [
    "df[['city', 'state']] = df['location'].str.split(',', 1, expand=True)"
   ]
  },
  {
   "cell_type": "code",
   "execution_count": 28,
   "id": "8617aab3-e14d-40cb-8963-f4947f7ca845",
   "metadata": {},
   "outputs": [],
   "source": [
    "df.drop(['state'], axis=1, inplace=True)"
   ]
  },
  {
   "cell_type": "code",
   "execution_count": 29,
   "id": "b3c09747-63dd-468b-a549-b389dd5f7c7b",
   "metadata": {},
   "outputs": [],
   "source": [
    "df['state'] = df['location'].str.findall(re_states)\n",
    "df['state'] = df['state'].str[0]"
   ]
  },
  {
   "cell_type": "code",
   "execution_count": 30,
   "id": "a8faf33e-487d-4c2d-a142-cd8a38fd7f8d",
   "metadata": {},
   "outputs": [],
   "source": [
    "df['state'] = df['state'].replace(states_abv, states_names, regex=True)"
   ]
  },
  {
   "cell_type": "code",
   "execution_count": 31,
   "id": "008635c5-22f9-482d-8f74-c5d3769dca25",
   "metadata": {},
   "outputs": [
    {
     "data": {
      "text/html": [
       "<div>\n",
       "<style scoped>\n",
       "    .dataframe tbody tr th:only-of-type {\n",
       "        vertical-align: middle;\n",
       "    }\n",
       "\n",
       "    .dataframe tbody tr th {\n",
       "        vertical-align: top;\n",
       "    }\n",
       "\n",
       "    .dataframe thead th {\n",
       "        text-align: right;\n",
       "    }\n",
       "</style>\n",
       "<table border=\"1\" class=\"dataframe\">\n",
       "  <thead>\n",
       "    <tr style=\"text-align: right;\">\n",
       "      <th></th>\n",
       "      <th>titles</th>\n",
       "      <th>company</th>\n",
       "      <th>job_desc</th>\n",
       "      <th>location</th>\n",
       "      <th>salary_min</th>\n",
       "      <th>salary_max</th>\n",
       "      <th>city</th>\n",
       "      <th>state</th>\n",
       "    </tr>\n",
       "  </thead>\n",
       "  <tbody>\n",
       "    <tr>\n",
       "      <th>0</th>\n",
       "      <td>Entry Level Data Center Analyst</td>\n",
       "      <td>Align</td>\n",
       "      <td>Why Align For over three decades, many of the ...</td>\n",
       "      <td>New York, NY 10004</td>\n",
       "      <td>NaN</td>\n",
       "      <td>NaN</td>\n",
       "      <td>New York</td>\n",
       "      <td>New York</td>\n",
       "    </tr>\n",
       "    <tr>\n",
       "      <th>1</th>\n",
       "      <td>Statistical Data Analyst</td>\n",
       "      <td>University of South Florida</td>\n",
       "      <td>Dept Number/Name: 0-6414-000 / College of Publ...</td>\n",
       "      <td>Tampa FL 33620</td>\n",
       "      <td>50000.0</td>\n",
       "      <td>61050.0</td>\n",
       "      <td>Tampa</td>\n",
       "      <td>Florida</td>\n",
       "    </tr>\n",
       "    <tr>\n",
       "      <th>3</th>\n",
       "      <td>BI Analyst I or BI Analyst II</td>\n",
       "      <td>City of Plano, Texas</td>\n",
       "      <td>We are looking for a passionate and skilled BI...</td>\n",
       "      <td>Plano, TX</td>\n",
       "      <td>NaN</td>\n",
       "      <td>NaN</td>\n",
       "      <td>Plano</td>\n",
       "      <td>Texas</td>\n",
       "    </tr>\n",
       "    <tr>\n",
       "      <th>4</th>\n",
       "      <td>Senior Data Analyst - Supply</td>\n",
       "      <td>StubHub</td>\n",
       "      <td>Senior Data Analyst – Supply StubHub is lookin...</td>\n",
       "      <td>New York, NY 10018</td>\n",
       "      <td>NaN</td>\n",
       "      <td>NaN</td>\n",
       "      <td>New York</td>\n",
       "      <td>New York</td>\n",
       "    </tr>\n",
       "    <tr>\n",
       "      <th>5</th>\n",
       "      <td>Data Protection Analyst</td>\n",
       "      <td>Proofpoint</td>\n",
       "      <td>It's fun to work in a company where people...</td>\n",
       "      <td>Saipan, MP</td>\n",
       "      <td>NaN</td>\n",
       "      <td>NaN</td>\n",
       "      <td>Saipan</td>\n",
       "      <td>NaN</td>\n",
       "    </tr>\n",
       "  </tbody>\n",
       "</table>\n",
       "</div>"
      ],
      "text/plain": [
       "                            titles                      company  \\\n",
       "0  Entry Level Data Center Analyst                        Align   \n",
       "1         Statistical Data Analyst  University of South Florida   \n",
       "3    BI Analyst I or BI Analyst II         City of Plano, Texas   \n",
       "4     Senior Data Analyst - Supply                      StubHub   \n",
       "5          Data Protection Analyst                   Proofpoint   \n",
       "\n",
       "                                            job_desc            location  \\\n",
       "0  Why Align For over three decades, many of the ...  New York, NY 10004   \n",
       "1  Dept Number/Name: 0-6414-000 / College of Publ...      Tampa FL 33620   \n",
       "3  We are looking for a passionate and skilled BI...           Plano, TX   \n",
       "4  Senior Data Analyst – Supply StubHub is lookin...  New York, NY 10018   \n",
       "5      It's fun to work in a company where people...          Saipan, MP   \n",
       "\n",
       "   salary_min  salary_max      city      state  \n",
       "0         NaN         NaN  New York   New York  \n",
       "1     50000.0     61050.0   Tampa     Florida   \n",
       "3         NaN         NaN     Plano      Texas  \n",
       "4         NaN         NaN  New York   New York  \n",
       "5         NaN         NaN    Saipan        NaN  "
      ]
     },
     "execution_count": 31,
     "metadata": {},
     "output_type": "execute_result"
    }
   ],
   "source": [
    "num = ['1', '2', '3', '4', '5', '6', '7', '8', '9', '0']\n",
    "df['city'] = df['city'].replace(states_abv, '', regex=True)\n",
    "df['city'] = df['city'].replace(num, '', regex=True)\n",
    "df.head()"
   ]
  },
  {
   "cell_type": "code",
   "execution_count": 32,
   "id": "375e5753-6be2-4b12-b475-885be3822eb0",
   "metadata": {},
   "outputs": [
    {
     "data": {
      "text/plain": [
       "(1756, 8)"
      ]
     },
     "execution_count": 32,
     "metadata": {},
     "output_type": "execute_result"
    }
   ],
   "source": [
    "df = pd.concat([df, df_remote], axis=0)\n",
    "df.shape"
   ]
  },
  {
   "cell_type": "code",
   "execution_count": 33,
   "id": "22c72294-97fd-4319-a10a-b2c77aa571ee",
   "metadata": {},
   "outputs": [],
   "source": [
    "df.drop_duplicates(inplace=True)"
   ]
  },
  {
   "cell_type": "code",
   "execution_count": 34,
   "id": "41aa126d-f6cc-4c2b-bcbf-8836367274ef",
   "metadata": {},
   "outputs": [],
   "source": [
    "df['state'] = df['state'].str.strip()\n",
    "df['city'] = df['city'].str.strip()"
   ]
  },
  {
   "cell_type": "code",
   "execution_count": 194,
   "id": "b58e867b-313c-4f67-b112-49d94c9c4a17",
   "metadata": {},
   "outputs": [],
   "source": [
    "#df.to_csv('clean_indeed_data_analysts_job_listings.csv', index=False)\n",
    "#df.to_excel('clean_indeed_data_analysts_job_listings.xlsx', index=False)"
   ]
  },
  {
   "cell_type": "code",
   "execution_count": 2,
   "id": "691b3413-3247-4fdb-838a-45aa527df43d",
   "metadata": {},
   "outputs": [],
   "source": [
    "df = pd.read_csv('clean_indeed_data_analysts_job_listings.csv')"
   ]
  },
  {
   "cell_type": "markdown",
   "id": "aa23a7b0",
   "metadata": {},
   "source": [
    "Exploratory Data Analysis"
   ]
  },
  {
   "cell_type": "code",
   "execution_count": 3,
   "id": "9da6fc8a-5945-44f6-8d90-e71d1191a4d1",
   "metadata": {},
   "outputs": [
    {
     "data": {
      "application/vnd.plotly.v1+json": {
       "config": {
        "plotlyServerURL": "https://plot.ly"
       },
       "data": [
        {
         "alignmentgroup": "True",
         "hovertemplate": "value=%{x}<br>variable=%{y}<extra></extra>",
         "legendgroup": "",
         "marker": {
          "color": "#636efa"
         },
         "name": "",
         "notched": false,
         "offsetgroup": "",
         "orientation": "h",
         "showlegend": false,
         "type": "box",
         "x": [
          null,
          50000,
          null,
          null,
          null,
          60000,
          null,
          null,
          65000,
          null,
          null,
          null,
          null,
          null,
          null,
          null,
          76527,
          null,
          80000,
          null,
          null,
          null,
          null,
          null,
          112700,
          null,
          null,
          85000,
          99500,
          null,
          null,
          108305,
          null,
          null,
          75000,
          75504,
          null,
          54680,
          97000,
          57100,
          null,
          59539,
          null,
          75000,
          null,
          null,
          67371,
          64260,
          null,
          null,
          null,
          null,
          null,
          48276,
          null,
          null,
          null,
          null,
          null,
          null,
          null,
          42260,
          null,
          60638,
          null,
          null,
          null,
          39244,
          null,
          null,
          null,
          null,
          null,
          null,
          84000,
          null,
          null,
          null,
          null,
          null,
          null,
          null,
          null,
          null,
          47986,
          null,
          null,
          67421,
          120000,
          null,
          null,
          null,
          null,
          null,
          null,
          74500,
          null,
          null,
          80000,
          null,
          null,
          78365,
          86300,
          null,
          null,
          null,
          null,
          null,
          null,
          94000,
          null,
          null,
          null,
          null,
          null,
          null,
          null,
          47000,
          null,
          null,
          null,
          null,
          null,
          null,
          null,
          null,
          null,
          null,
          null,
          null,
          null,
          null,
          60000,
          55000,
          null,
          60000,
          null,
          72530,
          85000,
          null,
          null,
          70193,
          null,
          null,
          null,
          null,
          54228,
          null,
          null,
          69420,
          59004,
          null,
          94858,
          85294,
          null,
          null,
          null,
          null,
          null,
          57842,
          70000,
          51000,
          null,
          45650,
          64000,
          null,
          null,
          null,
          null,
          null,
          57006,
          60000,
          null,
          null,
          null,
          null,
          68100,
          null,
          null,
          null,
          99986,
          null,
          null,
          null,
          null,
          null,
          null,
          null,
          null,
          null,
          null,
          58380,
          null,
          null,
          52308,
          57656,
          75000,
          null,
          57600,
          null,
          68000,
          null,
          null,
          null,
          null,
          null,
          65000,
          69600,
          69420,
          null,
          null,
          null,
          null,
          72600,
          70000,
          null,
          58000,
          null,
          null,
          64980.00000000001,
          90762,
          null,
          52560,
          70000,
          null,
          null,
          null,
          null,
          null,
          null,
          null,
          null,
          null,
          56000,
          null,
          null,
          null,
          63100,
          null,
          null,
          null,
          null,
          null,
          115000,
          null,
          null,
          null,
          null,
          null,
          null,
          null,
          null,
          47446,
          55188,
          null,
          null,
          null,
          76131,
          null,
          80000,
          49647,
          null,
          null,
          null,
          null,
          42000,
          80000,
          null,
          null,
          null,
          null,
          null,
          null,
          110000,
          null,
          50000,
          85000,
          null,
          null,
          56000,
          null,
          53500,
          null,
          null,
          null,
          60000,
          null,
          null,
          null,
          97344,
          null,
          null,
          74088,
          73996,
          null,
          null,
          null,
          52700,
          62200,
          null,
          null,
          51600,
          null,
          null,
          null,
          83755,
          59400,
          70520,
          53874,
          null,
          74988,
          80000,
          54225,
          40680,
          null,
          110000,
          null,
          null,
          52800,
          null,
          55620,
          null,
          100000,
          null,
          null,
          48256,
          null,
          null,
          null,
          null,
          null,
          null,
          100000,
          null,
          null,
          null,
          null,
          null,
          null,
          null,
          92000,
          50000,
          null,
          112025,
          null,
          null,
          70400,
          null,
          null,
          null,
          null,
          null,
          40000,
          null,
          null,
          null,
          null,
          null,
          null,
          null,
          null,
          null,
          37640,
          null,
          63050,
          null,
          null,
          null,
          48600,
          58000,
          null,
          null,
          null,
          67499,
          null,
          70000,
          null,
          null,
          null,
          44712,
          65000,
          null,
          null,
          60000,
          85000,
          null,
          null,
          63100,
          null,
          null,
          null,
          null,
          null,
          null,
          65000,
          90000,
          null,
          66744,
          null,
          null,
          null,
          null,
          67720,
          78167,
          null,
          62444,
          null,
          85000,
          null,
          120000,
          null,
          null,
          null,
          null,
          null,
          null,
          70500,
          60380,
          null,
          null,
          null,
          null,
          null,
          95001,
          88910,
          40040,
          51612,
          null,
          83755,
          65207,
          null,
          null,
          40008,
          null,
          null,
          null,
          null,
          100000,
          87880,
          null,
          null,
          95000,
          45000,
          null,
          56759,
          53155,
          57260,
          90871,
          75000,
          50000,
          55000,
          47641,
          null,
          null,
          null,
          null,
          125000,
          null,
          null,
          null,
          65604,
          null,
          null,
          105000,
          null,
          null,
          75000,
          null,
          null,
          null,
          null,
          null,
          null,
          null,
          40040,
          null,
          null,
          null,
          75504,
          null,
          null,
          null,
          null,
          null,
          null,
          null,
          null,
          null,
          null,
          null,
          null,
          null,
          null,
          null,
          76170,
          null,
          null,
          null,
          78200,
          null,
          null,
          83755,
          null,
          49000,
          null,
          56618,
          null,
          null,
          null,
          null,
          null,
          null,
          null,
          null,
          70000,
          null,
          null,
          120000,
          null,
          null,
          null,
          70000,
          null,
          null,
          null,
          null,
          null,
          65300,
          null,
          null,
          45850,
          48000,
          null,
          null,
          null,
          null,
          67824,
          null,
          60000,
          null,
          76692,
          null,
          null,
          null,
          70000,
          85000,
          49319,
          null,
          null,
          51340,
          null,
          null,
          null,
          100000,
          null,
          null,
          null,
          null,
          120000,
          null,
          40000,
          null,
          71427,
          null,
          null,
          48980,
          75000,
          89772,
          null,
          57285,
          null,
          null,
          90000,
          62083,
          58700,
          55016,
          49220,
          null,
          72300,
          null,
          null,
          null,
          null,
          null,
          90000,
          null,
          83904,
          null,
          48000,
          null,
          null,
          null,
          105200,
          50000,
          null,
          59004,
          null,
          null,
          90000,
          null,
          null,
          null,
          null,
          null,
          60000,
          70000,
          null,
          null,
          null,
          null,
          70720,
          null,
          105200,
          74988,
          80000,
          null,
          null,
          null,
          null,
          null,
          72300,
          75000,
          null,
          null,
          null,
          72920,
          null,
          45000,
          null,
          65600,
          null,
          null,
          72000,
          null,
          87300,
          null,
          44320,
          46000,
          null,
          41280,
          null,
          null,
          null,
          36000,
          null,
          null,
          null,
          52100,
          null,
          null,
          null,
          null,
          null,
          70000,
          null,
          90495,
          null,
          null,
          null,
          null,
          null,
          null,
          null,
          null,
          48000,
          null,
          null,
          88605,
          null,
          59004,
          68200,
          null,
          null,
          null,
          null,
          54727,
          null,
          null,
          null,
          75000,
          63020,
          75181,
          null,
          null,
          63660,
          null,
          79814,
          87300,
          62000,
          74300,
          null,
          78200,
          null,
          70000,
          null,
          null,
          73710,
          null,
          102276,
          null,
          74650,
          null,
          null,
          null,
          null,
          66471,
          null,
          null,
          41420,
          null,
          null,
          55000,
          null,
          47363,
          84000,
          35000,
          65000,
          null,
          null,
          null,
          null,
          null,
          null,
          null,
          null,
          null,
          null,
          null,
          64933,
          91000,
          65800,
          null,
          120000,
          null,
          null,
          null,
          66468,
          null,
          null,
          null,
          null,
          92100,
          null,
          null,
          null,
          null,
          53640,
          80000,
          null,
          null,
          60900,
          null,
          null,
          64596,
          null,
          130000,
          100000,
          null,
          null,
          null,
          38400,
          69238,
          70000,
          null,
          null,
          null,
          45352,
          null,
          65000,
          45650,
          48400,
          85000,
          null,
          null,
          null,
          null,
          90000,
          34000,
          null,
          null,
          55000,
          null,
          null,
          null,
          null,
          58300,
          null,
          null,
          null,
          85068,
          null,
          85000,
          66100,
          null,
          null,
          null,
          null,
          null,
          98223,
          null,
          55000,
          null,
          null,
          null,
          null,
          null,
          84300,
          77174,
          60000,
          null,
          60768,
          null,
          null,
          null,
          null,
          null,
          117500,
          null,
          null,
          90992,
          null,
          null,
          null,
          65000,
          null,
          null,
          null,
          null,
          null,
          60000,
          null,
          66872,
          null,
          null,
          null,
          80000,
          80000,
          57040,
          null,
          97396,
          null,
          null,
          95000,
          null,
          59850,
          null,
          null,
          55000,
          null,
          null,
          null,
          83100,
          null,
          50000,
          null,
          null,
          60718,
          61745,
          null,
          47155,
          null,
          null,
          null,
          75606,
          null,
          null,
          null,
          null,
          null,
          null,
          60000,
          80000,
          70000,
          69000,
          null,
          null,
          null,
          null,
          36118,
          null,
          55000,
          null,
          38000,
          null,
          null,
          null,
          null,
          null,
          71180,
          null,
          null,
          69830,
          null,
          null,
          null,
          49982,
          null,
          null,
          null,
          null,
          null,
          null,
          null,
          45216,
          null,
          71600,
          null,
          null,
          63100,
          null,
          120000,
          null,
          null,
          null,
          null,
          null,
          70000,
          null,
          null,
          83100,
          85000,
          null,
          50000,
          null,
          null,
          null,
          null,
          null,
          null,
          null,
          60674,
          100011,
          null,
          null,
          63100,
          null,
          null,
          null,
          null,
          null,
          null,
          46380,
          null,
          60000,
          null,
          null,
          null,
          69600,
          null,
          null,
          87435,
          null,
          null,
          61946,
          40000,
          null,
          null,
          null,
          null,
          50780,
          80000,
          61947,
          null,
          null,
          68748,
          null,
          94500,
          null,
          65000,
          null,
          51126,
          null,
          95000,
          null,
          null,
          55000,
          null,
          75500,
          99000,
          85000,
          null,
          47218,
          46900,
          null,
          92705,
          51612,
          null,
          null,
          null,
          null,
          52800,
          null,
          null,
          85000,
          null,
          null,
          44000,
          null,
          null,
          70081,
          90000,
          null,
          87300,
          null,
          null,
          65000,
          77752,
          null,
          null,
          null,
          null,
          null,
          null,
          67464,
          40040,
          74776,
          80000,
          null,
          null,
          null,
          98040,
          null,
          null,
          null,
          67245,
          null,
          null,
          68200,
          60000,
          null,
          70000,
          null,
          null,
          null,
          55188,
          95400,
          null,
          null,
          84468,
          null,
          null,
          80496,
          50000,
          null,
          null,
          null,
          null,
          74000,
          null,
          null,
          null,
          null,
          48000,
          63500,
          42684,
          null,
          null,
          null,
          null,
          null,
          56000,
          null,
          null,
          44000,
          null,
          null,
          76000,
          null,
          null,
          null,
          null,
          null,
          51360,
          88300,
          null,
          null,
          null,
          85000,
          null,
          50000,
          63132,
          null,
          null,
          77000,
          null,
          null,
          53828,
          64973,
          63960,
          null,
          null,
          82780,
          60403,
          null,
          null,
          null,
          63565,
          47349,
          56000,
          36000,
          null,
          48800,
          null,
          null,
          null,
          null,
          null,
          null,
          110000,
          null,
          null,
          null,
          100011,
          54468,
          106000,
          83100,
          null,
          51210,
          59004,
          69675,
          55519,
          null,
          49051,
          75132,
          104000,
          null,
          null,
          38262,
          null,
          68500,
          56705,
          null,
          null,
          null,
          null,
          null,
          58716,
          null,
          92000,
          null,
          null,
          72000,
          61578,
          56618,
          null,
          120000,
          null,
          null,
          null,
          null,
          58650,
          60000,
          null,
          null,
          45001,
          56300,
          null,
          36000,
          null,
          93150,
          null,
          null,
          null,
          null,
          null,
          null,
          54225,
          null,
          null,
          72920,
          null,
          50000,
          65000,
          null,
          null,
          73653,
          null,
          80000,
          null,
          68604,
          null,
          75000,
          46800,
          null,
          null,
          null,
          null,
          null,
          null,
          null,
          null,
          null,
          null,
          47600,
          null,
          79380,
          null,
          null,
          null,
          null,
          null,
          73964,
          92404,
          95000,
          57108,
          75001,
          null,
          null,
          null,
          null,
          105000,
          null,
          39456,
          null,
          null,
          null,
          null,
          65000,
          100000,
          80000,
          null,
          null,
          null,
          null,
          null,
          49300,
          null,
          null,
          null,
          56388,
          41820,
          null,
          null,
          null,
          75000,
          null,
          69500,
          49160,
          null,
          null,
          46729,
          null,
          null,
          110000,
          55000,
          null,
          null,
          58650,
          null,
          null,
          null,
          null,
          null,
          106452,
          null,
          null,
          94600,
          null,
          null,
          null,
          null,
          68462,
          null,
          null,
          null,
          null,
          72300,
          null,
          90948,
          null,
          null,
          35000,
          null,
          55000,
          77700,
          60320,
          null,
          81951,
          null,
          null,
          70000,
          null,
          105200,
          65000,
          null,
          null,
          null,
          55000,
          50000,
          null,
          80000,
          null,
          51481,
          80000,
          null,
          81400,
          46000,
          null,
          null,
          null,
          55000,
          null,
          null,
          null,
          55188,
          57046,
          null,
          null,
          null,
          118000,
          47000,
          79200,
          null,
          49669,
          null,
          null,
          null,
          83200,
          null,
          null,
          59620,
          100000,
          null,
          null,
          null,
          null,
          null,
          null,
          41701,
          60000,
          null,
          null,
          null,
          60000,
          null,
          null,
          null,
          null,
          null,
          76107,
          null,
          96300,
          null,
          null,
          105200,
          null,
          null,
          null,
          null,
          65100,
          44760,
          null,
          54225,
          72000,
          60000,
          61740,
          null,
          null,
          67116,
          null,
          null,
          null,
          null,
          40000,
          null,
          null,
          null,
          null,
          null,
          null,
          null,
          55287,
          null,
          null,
          null,
          null,
          null,
          58000,
          100000,
          null,
          null,
          null,
          60000,
          53712,
          null,
          null,
          null,
          null,
          60000,
          58000,
          null,
          null,
          null,
          null,
          null,
          null,
          null,
          71100,
          66416,
          null,
          null,
          112700,
          null,
          44000,
          69415,
          null,
          105000,
          20000,
          null,
          55000,
          null,
          null,
          null,
          73100,
          null,
          76031,
          null,
          null,
          null,
          null,
          null,
          null,
          67245,
          85000,
          null,
          null,
          70000,
          73700,
          null,
          null,
          90000,
          null,
          null,
          58560,
          null,
          null,
          null,
          null,
          null,
          39456,
          null,
          null,
          68146,
          null,
          null,
          75400,
          null,
          null,
          60000,
          null,
          null,
          null,
          null,
          74600,
          95000,
          null,
          77124,
          null,
          null,
          76031,
          null,
          null,
          83300,
          null,
          null,
          null,
          75504,
          null,
          null,
          null,
          50000,
          null,
          92195,
          null,
          103272,
          null,
          null,
          null,
          null,
          null,
          108928,
          68436,
          null,
          null,
          null,
          89772,
          110000,
          null,
          null,
          null,
          30000,
          null,
          null,
          null,
          null,
          null,
          null,
          null,
          65688,
          64000,
          89016,
          null,
          null,
          null,
          null,
          null,
          null,
          120000,
          null,
          null,
          null,
          null,
          null,
          null,
          null,
          null,
          48300,
          null,
          null,
          null,
          79800,
          60000,
          80000,
          null,
          null,
          60000,
          null,
          null,
          null,
          null,
          73358,
          null,
          null,
          null,
          null,
          84000,
          null,
          60000,
          null,
          null,
          null,
          null,
          null,
          105000,
          null,
          null,
          null,
          null,
          null,
          120000,
          null,
          null,
          null,
          null,
          100000,
          120000,
          null,
          null,
          null,
          114800,
          null,
          null,
          null,
          null,
          71872,
          null,
          null,
          null,
          76000,
          null,
          null,
          null,
          null,
          null,
          null,
          null,
          null,
          null,
          86000,
          null,
          null,
          null,
          null,
          80000,
          null,
          null,
          null,
          null,
          69082,
          70000,
          null,
          null,
          130000,
          null,
          null,
          null,
          null,
          null,
          80000,
          75504,
          null,
          null,
          106000,
          null,
          null,
          76000,
          90000,
          null,
          null,
          null,
          null,
          null,
          null,
          null,
          null,
          null,
          null,
          null,
          null,
          null,
          130331,
          62100,
          30000,
          null,
          null,
          null,
          null,
          null,
          null,
          null,
          null,
          null,
          null,
          null,
          null,
          null,
          null,
          null,
          80000,
          null,
          null,
          null,
          null,
          110000,
          70000,
          null,
          63226,
          86000,
          null,
          null,
          null,
          null,
          null,
          90000,
          null,
          80000,
          null,
          null,
          null,
          null,
          null,
          null,
          null,
          null,
          null,
          80000,
          null,
          null,
          null,
          null,
          null,
          null,
          null,
          null,
          null,
          null,
          null,
          57000,
          110000,
          61600,
          85000,
          null,
          null,
          null,
          null,
          110000,
          null,
          null,
          null,
          null,
          null,
          44000,
          null,
          134700,
          80000,
          126233,
          125001,
          63256,
          111400,
          120000,
          99000,
          105300,
          107500,
          95000,
          130000,
          94500,
          112187,
          96000,
          113670,
          96000,
          95760,
          91000,
          64922,
          79300,
          105700,
          116800,
          83500,
          91600,
          96000,
          91000,
          107000,
          126233,
          91500,
          137500,
          58700,
          96000,
          90628,
          125001,
          96000,
          98000,
          130000,
          120000,
          99000,
          89834,
          null,
          61050,
          null,
          null,
          null,
          110000,
          null,
          null,
          65000,
          null,
          null,
          null,
          null,
          null,
          null,
          null,
          118617,
          null,
          80000,
          null,
          null,
          null,
          null,
          null,
          112700,
          null,
          null,
          90000,
          115000,
          null,
          null,
          140688,
          null,
          null,
          95000,
          86830,
          null,
          60580,
          135000,
          78500,
          null,
          89308,
          null,
          76000,
          null,
          null,
          86091,
          75600,
          null,
          null,
          null,
          null,
          null,
          63612,
          null,
          null,
          null,
          null,
          null,
          null,
          null,
          51360,
          null,
          83378,
          null,
          null,
          null,
          68285,
          null,
          null,
          null,
          null,
          null,
          null,
          102000,
          null,
          null,
          null,
          null,
          null,
          null,
          null,
          null,
          null,
          65312,
          null,
          null,
          77125,
          130000,
          null,
          null,
          null,
          null,
          null,
          null,
          90000,
          null,
          null,
          130000,
          null,
          null,
          95233,
          143800,
          null,
          null,
          null,
          null,
          null,
          null,
          105000,
          null,
          null,
          null,
          null,
          null,
          null,
          null,
          56000,
          null,
          null,
          null,
          null,
          null,
          null,
          null,
          null,
          null,
          null,
          null,
          null,
          null,
          null,
          70000,
          65000,
          null,
          60000,
          null,
          90646,
          85000,
          null,
          null,
          84232,
          null,
          null,
          null,
          null,
          72874,
          null,
          null,
          93000,
          77868,
          null,
          122227,
          132230,
          null,
          null,
          null,
          null,
          null,
          84834,
          85000,
          63996,
          null,
          62850,
          64000,
          null,
          null,
          null,
          null,
          null,
          73865,
          60000,
          null,
          null,
          null,
          null,
          112300,
          null,
          null,
          null,
          113006,
          null,
          null,
          null,
          null,
          null,
          null,
          null,
          null,
          null,
          null,
          58380,
          null,
          null,
          71400,
          72070,
          75000,
          null,
          64800,
          null,
          140000,
          null,
          null,
          null,
          null,
          null,
          85000,
          139300,
          104520,
          null,
          null,
          null,
          null,
          119700,
          70000,
          null,
          82666,
          null,
          null,
          64980.00000000001,
          114347,
          null,
          68380,
          80000,
          null,
          null,
          null,
          null,
          null,
          null,
          null,
          null,
          null,
          71000,
          null,
          null,
          null,
          137900,
          null,
          null,
          null,
          null,
          null,
          115000,
          null,
          null,
          null,
          null,
          null,
          null,
          null,
          null,
          71169,
          71746,
          null,
          null,
          null,
          92537,
          null,
          80000,
          76953,
          null,
          null,
          null,
          null,
          49200,
          80000,
          null,
          null,
          null,
          null,
          null,
          null,
          130000,
          null,
          60000,
          100000,
          null,
          null,
          67000,
          null,
          70000,
          null,
          null,
          null,
          72000,
          null,
          null,
          null,
          136260,
          null,
          null,
          128915,
          118222,
          null,
          null,
          null,
          52700,
          62200,
          null,
          null,
          72000,
          null,
          null,
          null,
          108886,
          99000,
          77740,
          86388,
          null,
          145200,
          110000,
          70493,
          40680,
          null,
          110000,
          null,
          null,
          52800,
          null,
          61940,
          null,
          100000,
          null,
          null,
          73299,
          null,
          null,
          null,
          null,
          null,
          null,
          100000,
          null,
          null,
          null,
          null,
          null,
          null,
          null,
          92000,
          60000,
          null,
          136167,
          null,
          null,
          70400,
          null,
          null,
          null,
          null,
          null,
          43000,
          null,
          null,
          null,
          null,
          null,
          null,
          null,
          null,
          null,
          41600,
          null,
          73453,
          null,
          null,
          null,
          73000,
          69000,
          null,
          null,
          null,
          84821,
          null,
          70000,
          null,
          null,
          null,
          46800,
          75000,
          null,
          null,
          78000,
          90000,
          null,
          null,
          137900,
          null,
          null,
          null,
          null,
          null,
          null,
          80000,
          90000,
          null,
          83429,
          null,
          null,
          null,
          null,
          77880,
          88610,
          null,
          81180,
          null,
          120000,
          null,
          120000,
          null,
          null,
          null,
          null,
          null,
          null,
          80000,
          60380,
          null,
          null,
          null,
          null,
          null,
          105000,
          104600,
          55020,
          84480,
          null,
          108886,
          75478,
          null,
          null,
          50004,
          null,
          null,
          null,
          null,
          110000,
          118112,
          null,
          null,
          95000,
          65000,
          null,
          76341,
          65115,
          91620,
          127229,
          95000,
          60000,
          65000,
          47641,
          null,
          null,
          null,
          null,
          140000,
          null,
          null,
          null,
          83399,
          null,
          null,
          105000,
          null,
          null,
          75000,
          null,
          null,
          null,
          null,
          null,
          null,
          null,
          55020,
          null,
          null,
          null,
          86830,
          null,
          null,
          null,
          null,
          null,
          null,
          null,
          null,
          null,
          null,
          null,
          null,
          null,
          null,
          null,
          76170,
          null,
          null,
          null,
          119800,
          null,
          null,
          108886,
          null,
          83800,
          null,
          79265,
          null,
          null,
          null,
          null,
          null,
          null,
          null,
          null,
          85000,
          null,
          null,
          130000,
          null,
          null,
          null,
          95000,
          null,
          null,
          null,
          null,
          null,
          108800,
          null,
          null,
          48550,
          52800,
          null,
          null,
          null,
          null,
          84948,
          null,
          65000,
          null,
          86304,
          null,
          null,
          null,
          90000,
          95000,
          64114,
          null,
          null,
          55364,
          null,
          null,
          null,
          115000,
          null,
          null,
          null,
          null,
          120000,
          null,
          50000,
          null,
          107141,
          null,
          null,
          104780,
          80000,
          134638,
          null,
          57285,
          null,
          null,
          115000,
          80707,
          75000,
          64459,
          51540,
          null,
          142000,
          null,
          null,
          null,
          null,
          null,
          90000,
          null,
          102228,
          null,
          52416,
          null,
          null,
          null,
          136600,
          63000,
          null,
          96720,
          null,
          null,
          90000,
          null,
          null,
          null,
          null,
          null,
          72000,
          95000,
          null,
          null,
          null,
          null,
          89660,
          null,
          136600,
          145200,
          125000,
          null,
          null,
          null,
          null,
          null,
          142000,
          95000,
          null,
          null,
          null,
          72920,
          null,
          54000,
          null,
          118100,
          null,
          null,
          144000,
          null,
          149040,
          null,
          55400,
          46000,
          null,
          67668,
          null,
          null,
          null,
          48000,
          null,
          null,
          null,
          104600,
          null,
          null,
          null,
          null,
          null,
          80000,
          null,
          119165,
          null,
          null,
          null,
          null,
          null,
          null,
          null,
          null,
          48000,
          null,
          null,
          109742,
          null,
          90000,
          136900,
          null,
          null,
          null,
          null,
          71146,
          null,
          null,
          null,
          95000,
          72480,
          88144,
          null,
          null,
          98660,
          null,
          101763,
          149040,
          98000,
          130100,
          null,
          140800,
          null,
          70000,
          null,
          null,
          136890,
          null,
          124324,
          null,
          85847,
          null,
          null,
          null,
          null,
          74777,
          null,
          null,
          60840,
          null,
          null,
          70000,
          null,
          61571,
          120000,
          45000,
          65000,
          null,
          null,
          null,
          null,
          null,
          null,
          null,
          null,
          null,
          null,
          null,
          99124,
          116022,
          65800,
          null,
          120000,
          null,
          null,
          null,
          80844,
          null,
          null,
          null,
          null,
          143950,
          null,
          null,
          null,
          null,
          56320,
          90000,
          null,
          null,
          91080,
          null,
          null,
          80868,
          null,
          145000,
          104000,
          null,
          null,
          null,
          79700,
          107309,
          140000,
          null,
          null,
          null,
          57824,
          null,
          85000,
          62850,
          60500,
          100000,
          null,
          null,
          null,
          null,
          100000,
          36000,
          null,
          null,
          88000,
          null,
          null,
          null,
          null,
          96300,
          null,
          null,
          null,
          127704,
          null,
          115000,
          110700,
          null,
          null,
          null,
          null,
          null,
          142595,
          null,
          65000,
          null,
          null,
          null,
          null,
          null,
          84300,
          127337,
          90000,
          null,
          71520,
          null,
          null,
          null,
          null,
          null,
          117500,
          null,
          null,
          116017,
          null,
          null,
          null,
          70000,
          null,
          null,
          null,
          null,
          null,
          60000,
          null,
          111238,
          null,
          null,
          null,
          120000,
          110000,
          71300,
          null,
          97396,
          null,
          null,
          95000,
          null,
          59850,
          null,
          null,
          65000,
          null,
          null,
          null,
          142000,
          null,
          50000,
          null,
          null,
          90773,
          94805,
          null,
          54228,
          null,
          null,
          null,
          120000,
          null,
          null,
          null,
          null,
          null,
          null,
          60000,
          130000,
          95000,
          100000,
          null,
          null,
          null,
          null,
          58158,
          null,
          65000,
          null,
          54000,
          null,
          null,
          null,
          null,
          null,
          111060,
          null,
          null,
          95960,
          null,
          null,
          null,
          99986,
          null,
          null,
          null,
          null,
          null,
          null,
          null,
          69096,
          null,
          71600,
          null,
          null,
          137900,
          null,
          120000,
          null,
          null,
          null,
          null,
          null,
          70000,
          null,
          null,
          142000,
          130000,
          null,
          60000,
          null,
          null,
          null,
          null,
          null,
          null,
          null,
          91582,
          125980,
          null,
          null,
          137900,
          null,
          null,
          null,
          null,
          null,
          null,
          60040,
          null,
          80000,
          null,
          null,
          null,
          69600,
          null,
          null,
          87435,
          null,
          null,
          81168,
          40000,
          null,
          null,
          null,
          null,
          59537,
          100000,
          97430,
          null,
          null,
          68748,
          null,
          126000,
          null,
          75000,
          null,
          80764,
          null,
          105000,
          null,
          null,
          60000,
          null,
          135900,
          110000,
          85000,
          null,
          61960,
          69120,
          null,
          129792,
          84480,
          null,
          null,
          null,
          null,
          52800,
          null,
          null,
          95000,
          null,
          null,
          44000,
          null,
          null,
          105121,
          130000,
          null,
          149040,
          null,
          null,
          70000,
          90344,
          null,
          null,
          null,
          null,
          null,
          null,
          101460,
          55020,
          74776,
          80000,
          null,
          null,
          null,
          114480,
          null,
          null,
          null,
          96895,
          null,
          null,
          113600,
          65000,
          null,
          80000,
          null,
          null,
          null,
          69996,
          127845,
          null,
          null,
          111003,
          null,
          null,
          120744,
          70000,
          null,
          null,
          null,
          null,
          74000,
          null,
          null,
          null,
          null,
          75000,
          70000,
          55860,
          null,
          null,
          null,
          null,
          null,
          84000,
          null,
          null,
          44000,
          null,
          null,
          76000,
          null,
          null,
          null,
          null,
          null,
          76940,
          142000,
          null,
          null,
          null,
          120000,
          null,
          57500,
          76392,
          null,
          null,
          127100,
          null,
          null,
          91507,
          105750,
          63960,
          null,
          null,
          126660,
          110000,
          null,
          null,
          null,
          79457,
          110118,
          56000,
          61300,
          null,
          48800,
          null,
          null,
          null,
          null,
          null,
          null,
          110000,
          null,
          null,
          null,
          125980,
          54468,
          106000,
          142000,
          null,
          70480,
          63600,
          107997,
          66293,
          null,
          81915,
          75132,
          104000,
          null,
          null,
          62931,
          null,
          99400,
          106906,
          null,
          null,
          null,
          null,
          null,
          76081,
          null,
          140000,
          null,
          null,
          144000,
          95447,
          79265,
          null,
          130000,
          null,
          null,
          null,
          null,
          114000,
          110000,
          null,
          null,
          55000,
          84500,
          null,
          58000,
          null,
          93150,
          null,
          null,
          null,
          null,
          null,
          null,
          78627,
          null,
          null,
          72920,
          null,
          110000,
          95000,
          null,
          null,
          84695,
          null,
          100000,
          null,
          68604,
          null,
          75000,
          49200,
          null,
          null,
          null,
          null,
          null,
          null,
          null,
          null,
          null,
          null,
          76699,
          null,
          85720,
          null,
          null,
          null,
          null,
          null,
          133349,
          103043,
          130000,
          82260,
          100000,
          null,
          null,
          null,
          null,
          130000,
          null,
          76164,
          null,
          null,
          null,
          null,
          70000,
          130000,
          90000,
          null,
          null,
          null,
          null,
          null,
          96000,
          null,
          null,
          null,
          80004,
          60480,
          null,
          null,
          null,
          75000,
          null,
          115800,
          77640,
          null,
          null,
          46729,
          null,
          null,
          115000,
          65000,
          null,
          null,
          114000,
          null,
          null,
          null,
          null,
          null,
          133056,
          null,
          null,
          94600,
          null,
          null,
          null,
          null,
          89000,
          null,
          null,
          null,
          null,
          123500,
          null,
          124140,
          null,
          null,
          45000,
          null,
          57000,
          77700,
          73320,
          null,
          94244,
          null,
          null,
          96000,
          null,
          136600,
          70000,
          null,
          null,
          null,
          55000,
          80000,
          null,
          100000,
          null,
          84061,
          80000,
          null,
          146500,
          50000,
          null,
          null,
          null,
          65000,
          null,
          null,
          null,
          72792,
          57046,
          null,
          null,
          null,
          118000,
          59000,
          79200,
          null,
          86424,
          null,
          null,
          null,
          138600,
          null,
          null,
          61160,
          140000,
          null,
          null,
          null,
          null,
          null,
          null,
          41701,
          60000,
          null,
          null,
          null,
          60000,
          null,
          null,
          null,
          null,
          null,
          114858,
          null,
          117700,
          null,
          null,
          136600,
          null,
          null,
          null,
          null,
          65100,
          64980.00000000001,
          null,
          70493,
          75000,
          70000,
          97878,
          null,
          null,
          98208,
          null,
          null,
          null,
          null,
          105000,
          null,
          null,
          null,
          null,
          null,
          null,
          null,
          104233,
          null,
          null,
          null,
          null,
          null,
          58000,
          115000,
          null,
          null,
          null,
          70000,
          97164,
          null,
          null,
          null,
          null,
          70000,
          76000,
          null,
          null,
          null,
          null,
          null,
          null,
          null,
          140800,
          66416,
          null,
          null,
          112700,
          null,
          50000,
          117397,
          null,
          115000,
          30000,
          null,
          65000,
          null,
          null,
          null,
          142800,
          null,
          76031,
          null,
          null,
          null,
          null,
          null,
          null,
          96895,
          95000,
          null,
          null,
          75000,
          85000,
          null,
          null,
          140000,
          null,
          null,
          77260,
          null,
          null,
          null,
          null,
          null,
          76164,
          null,
          null,
          68146,
          null,
          null,
          75400,
          null,
          null,
          60000,
          null,
          null,
          null,
          null,
          124400,
          125000,
          null,
          98448,
          null,
          null,
          76031,
          null,
          null,
          131700,
          null,
          null,
          null,
          86830,
          null,
          null,
          null,
          60000,
          null,
          106023,
          null,
          132621,
          null,
          null,
          null,
          null,
          null,
          132459,
          68436,
          null,
          null,
          null,
          134638,
          120000,
          null,
          null,
          null,
          30000,
          null,
          null,
          null,
          null,
          null,
          null,
          null,
          107052,
          90000,
          133523,
          null,
          null,
          null,
          null,
          null,
          null,
          135000,
          null,
          null,
          null,
          null,
          null,
          null,
          null,
          null,
          79000,
          null,
          null,
          null,
          119800,
          140000,
          90000,
          null,
          null,
          60000,
          null,
          null,
          null,
          null,
          110036,
          null,
          null,
          null,
          null,
          112000,
          null,
          80000,
          null,
          null,
          null,
          null,
          null,
          125000,
          null,
          null,
          null,
          null,
          null,
          135000,
          null,
          null,
          null,
          null,
          120000,
          120000,
          null,
          null,
          null,
          140400,
          null,
          null,
          null,
          null,
          88073,
          null,
          null,
          null,
          90000,
          null,
          null,
          null,
          null,
          null,
          null,
          null,
          null,
          null,
          100000,
          null,
          null,
          null,
          null,
          86000,
          null,
          null,
          null,
          null,
          132450,
          90000,
          null,
          null,
          130000,
          null,
          null,
          null,
          null,
          null,
          100000,
          86830,
          null,
          null,
          106000,
          null,
          null,
          114000,
          110000,
          null,
          null,
          null,
          null,
          null,
          null,
          null,
          null,
          null,
          null,
          null,
          null,
          null,
          137015,
          100300,
          50000,
          null,
          null,
          null,
          null,
          null,
          null,
          null,
          null,
          null,
          null,
          null,
          null,
          null,
          null,
          null,
          85000,
          null,
          null,
          null,
          null,
          126000,
          90000,
          null,
          108664,
          95000,
          null,
          null,
          null,
          null,
          null,
          100000,
          null,
          100000,
          null,
          null,
          null,
          null,
          null,
          null,
          null,
          null,
          null,
          95000,
          null,
          null,
          null,
          null,
          null,
          null,
          null,
          null,
          null,
          null,
          null,
          72000,
          130000,
          92400,
          85000,
          null,
          null,
          null,
          null,
          140000,
          null,
          null,
          null,
          null,
          null,
          54000,
          null,
          150000,
          150000,
          150000,
          150000,
          150000,
          150000,
          150000,
          150000,
          150000,
          150000,
          150000,
          150000,
          150000,
          150000,
          150000,
          150000,
          150000,
          150000,
          150000,
          150000,
          150000,
          150000,
          150000,
          150000,
          150000,
          150000,
          150000,
          150000,
          150000,
          150000,
          150000,
          150000,
          150000,
          150000,
          150000,
          150000,
          150000,
          150000,
          150000,
          150000,
          150000
         ],
         "x0": " ",
         "xaxis": "x",
         "y": [
          "salary_min",
          "salary_min",
          "salary_min",
          "salary_min",
          "salary_min",
          "salary_min",
          "salary_min",
          "salary_min",
          "salary_min",
          "salary_min",
          "salary_min",
          "salary_min",
          "salary_min",
          "salary_min",
          "salary_min",
          "salary_min",
          "salary_min",
          "salary_min",
          "salary_min",
          "salary_min",
          "salary_min",
          "salary_min",
          "salary_min",
          "salary_min",
          "salary_min",
          "salary_min",
          "salary_min",
          "salary_min",
          "salary_min",
          "salary_min",
          "salary_min",
          "salary_min",
          "salary_min",
          "salary_min",
          "salary_min",
          "salary_min",
          "salary_min",
          "salary_min",
          "salary_min",
          "salary_min",
          "salary_min",
          "salary_min",
          "salary_min",
          "salary_min",
          "salary_min",
          "salary_min",
          "salary_min",
          "salary_min",
          "salary_min",
          "salary_min",
          "salary_min",
          "salary_min",
          "salary_min",
          "salary_min",
          "salary_min",
          "salary_min",
          "salary_min",
          "salary_min",
          "salary_min",
          "salary_min",
          "salary_min",
          "salary_min",
          "salary_min",
          "salary_min",
          "salary_min",
          "salary_min",
          "salary_min",
          "salary_min",
          "salary_min",
          "salary_min",
          "salary_min",
          "salary_min",
          "salary_min",
          "salary_min",
          "salary_min",
          "salary_min",
          "salary_min",
          "salary_min",
          "salary_min",
          "salary_min",
          "salary_min",
          "salary_min",
          "salary_min",
          "salary_min",
          "salary_min",
          "salary_min",
          "salary_min",
          "salary_min",
          "salary_min",
          "salary_min",
          "salary_min",
          "salary_min",
          "salary_min",
          "salary_min",
          "salary_min",
          "salary_min",
          "salary_min",
          "salary_min",
          "salary_min",
          "salary_min",
          "salary_min",
          "salary_min",
          "salary_min",
          "salary_min",
          "salary_min",
          "salary_min",
          "salary_min",
          "salary_min",
          "salary_min",
          "salary_min",
          "salary_min",
          "salary_min",
          "salary_min",
          "salary_min",
          "salary_min",
          "salary_min",
          "salary_min",
          "salary_min",
          "salary_min",
          "salary_min",
          "salary_min",
          "salary_min",
          "salary_min",
          "salary_min",
          "salary_min",
          "salary_min",
          "salary_min",
          "salary_min",
          "salary_min",
          "salary_min",
          "salary_min",
          "salary_min",
          "salary_min",
          "salary_min",
          "salary_min",
          "salary_min",
          "salary_min",
          "salary_min",
          "salary_min",
          "salary_min",
          "salary_min",
          "salary_min",
          "salary_min",
          "salary_min",
          "salary_min",
          "salary_min",
          "salary_min",
          "salary_min",
          "salary_min",
          "salary_min",
          "salary_min",
          "salary_min",
          "salary_min",
          "salary_min",
          "salary_min",
          "salary_min",
          "salary_min",
          "salary_min",
          "salary_min",
          "salary_min",
          "salary_min",
          "salary_min",
          "salary_min",
          "salary_min",
          "salary_min",
          "salary_min",
          "salary_min",
          "salary_min",
          "salary_min",
          "salary_min",
          "salary_min",
          "salary_min",
          "salary_min",
          "salary_min",
          "salary_min",
          "salary_min",
          "salary_min",
          "salary_min",
          "salary_min",
          "salary_min",
          "salary_min",
          "salary_min",
          "salary_min",
          "salary_min",
          "salary_min",
          "salary_min",
          "salary_min",
          "salary_min",
          "salary_min",
          "salary_min",
          "salary_min",
          "salary_min",
          "salary_min",
          "salary_min",
          "salary_min",
          "salary_min",
          "salary_min",
          "salary_min",
          "salary_min",
          "salary_min",
          "salary_min",
          "salary_min",
          "salary_min",
          "salary_min",
          "salary_min",
          "salary_min",
          "salary_min",
          "salary_min",
          "salary_min",
          "salary_min",
          "salary_min",
          "salary_min",
          "salary_min",
          "salary_min",
          "salary_min",
          "salary_min",
          "salary_min",
          "salary_min",
          "salary_min",
          "salary_min",
          "salary_min",
          "salary_min",
          "salary_min",
          "salary_min",
          "salary_min",
          "salary_min",
          "salary_min",
          "salary_min",
          "salary_min",
          "salary_min",
          "salary_min",
          "salary_min",
          "salary_min",
          "salary_min",
          "salary_min",
          "salary_min",
          "salary_min",
          "salary_min",
          "salary_min",
          "salary_min",
          "salary_min",
          "salary_min",
          "salary_min",
          "salary_min",
          "salary_min",
          "salary_min",
          "salary_min",
          "salary_min",
          "salary_min",
          "salary_min",
          "salary_min",
          "salary_min",
          "salary_min",
          "salary_min",
          "salary_min",
          "salary_min",
          "salary_min",
          "salary_min",
          "salary_min",
          "salary_min",
          "salary_min",
          "salary_min",
          "salary_min",
          "salary_min",
          "salary_min",
          "salary_min",
          "salary_min",
          "salary_min",
          "salary_min",
          "salary_min",
          "salary_min",
          "salary_min",
          "salary_min",
          "salary_min",
          "salary_min",
          "salary_min",
          "salary_min",
          "salary_min",
          "salary_min",
          "salary_min",
          "salary_min",
          "salary_min",
          "salary_min",
          "salary_min",
          "salary_min",
          "salary_min",
          "salary_min",
          "salary_min",
          "salary_min",
          "salary_min",
          "salary_min",
          "salary_min",
          "salary_min",
          "salary_min",
          "salary_min",
          "salary_min",
          "salary_min",
          "salary_min",
          "salary_min",
          "salary_min",
          "salary_min",
          "salary_min",
          "salary_min",
          "salary_min",
          "salary_min",
          "salary_min",
          "salary_min",
          "salary_min",
          "salary_min",
          "salary_min",
          "salary_min",
          "salary_min",
          "salary_min",
          "salary_min",
          "salary_min",
          "salary_min",
          "salary_min",
          "salary_min",
          "salary_min",
          "salary_min",
          "salary_min",
          "salary_min",
          "salary_min",
          "salary_min",
          "salary_min",
          "salary_min",
          "salary_min",
          "salary_min",
          "salary_min",
          "salary_min",
          "salary_min",
          "salary_min",
          "salary_min",
          "salary_min",
          "salary_min",
          "salary_min",
          "salary_min",
          "salary_min",
          "salary_min",
          "salary_min",
          "salary_min",
          "salary_min",
          "salary_min",
          "salary_min",
          "salary_min",
          "salary_min",
          "salary_min",
          "salary_min",
          "salary_min",
          "salary_min",
          "salary_min",
          "salary_min",
          "salary_min",
          "salary_min",
          "salary_min",
          "salary_min",
          "salary_min",
          "salary_min",
          "salary_min",
          "salary_min",
          "salary_min",
          "salary_min",
          "salary_min",
          "salary_min",
          "salary_min",
          "salary_min",
          "salary_min",
          "salary_min",
          "salary_min",
          "salary_min",
          "salary_min",
          "salary_min",
          "salary_min",
          "salary_min",
          "salary_min",
          "salary_min",
          "salary_min",
          "salary_min",
          "salary_min",
          "salary_min",
          "salary_min",
          "salary_min",
          "salary_min",
          "salary_min",
          "salary_min",
          "salary_min",
          "salary_min",
          "salary_min",
          "salary_min",
          "salary_min",
          "salary_min",
          "salary_min",
          "salary_min",
          "salary_min",
          "salary_min",
          "salary_min",
          "salary_min",
          "salary_min",
          "salary_min",
          "salary_min",
          "salary_min",
          "salary_min",
          "salary_min",
          "salary_min",
          "salary_min",
          "salary_min",
          "salary_min",
          "salary_min",
          "salary_min",
          "salary_min",
          "salary_min",
          "salary_min",
          "salary_min",
          "salary_min",
          "salary_min",
          "salary_min",
          "salary_min",
          "salary_min",
          "salary_min",
          "salary_min",
          "salary_min",
          "salary_min",
          "salary_min",
          "salary_min",
          "salary_min",
          "salary_min",
          "salary_min",
          "salary_min",
          "salary_min",
          "salary_min",
          "salary_min",
          "salary_min",
          "salary_min",
          "salary_min",
          "salary_min",
          "salary_min",
          "salary_min",
          "salary_min",
          "salary_min",
          "salary_min",
          "salary_min",
          "salary_min",
          "salary_min",
          "salary_min",
          "salary_min",
          "salary_min",
          "salary_min",
          "salary_min",
          "salary_min",
          "salary_min",
          "salary_min",
          "salary_min",
          "salary_min",
          "salary_min",
          "salary_min",
          "salary_min",
          "salary_min",
          "salary_min",
          "salary_min",
          "salary_min",
          "salary_min",
          "salary_min",
          "salary_min",
          "salary_min",
          "salary_min",
          "salary_min",
          "salary_min",
          "salary_min",
          "salary_min",
          "salary_min",
          "salary_min",
          "salary_min",
          "salary_min",
          "salary_min",
          "salary_min",
          "salary_min",
          "salary_min",
          "salary_min",
          "salary_min",
          "salary_min",
          "salary_min",
          "salary_min",
          "salary_min",
          "salary_min",
          "salary_min",
          "salary_min",
          "salary_min",
          "salary_min",
          "salary_min",
          "salary_min",
          "salary_min",
          "salary_min",
          "salary_min",
          "salary_min",
          "salary_min",
          "salary_min",
          "salary_min",
          "salary_min",
          "salary_min",
          "salary_min",
          "salary_min",
          "salary_min",
          "salary_min",
          "salary_min",
          "salary_min",
          "salary_min",
          "salary_min",
          "salary_min",
          "salary_min",
          "salary_min",
          "salary_min",
          "salary_min",
          "salary_min",
          "salary_min",
          "salary_min",
          "salary_min",
          "salary_min",
          "salary_min",
          "salary_min",
          "salary_min",
          "salary_min",
          "salary_min",
          "salary_min",
          "salary_min",
          "salary_min",
          "salary_min",
          "salary_min",
          "salary_min",
          "salary_min",
          "salary_min",
          "salary_min",
          "salary_min",
          "salary_min",
          "salary_min",
          "salary_min",
          "salary_min",
          "salary_min",
          "salary_min",
          "salary_min",
          "salary_min",
          "salary_min",
          "salary_min",
          "salary_min",
          "salary_min",
          "salary_min",
          "salary_min",
          "salary_min",
          "salary_min",
          "salary_min",
          "salary_min",
          "salary_min",
          "salary_min",
          "salary_min",
          "salary_min",
          "salary_min",
          "salary_min",
          "salary_min",
          "salary_min",
          "salary_min",
          "salary_min",
          "salary_min",
          "salary_min",
          "salary_min",
          "salary_min",
          "salary_min",
          "salary_min",
          "salary_min",
          "salary_min",
          "salary_min",
          "salary_min",
          "salary_min",
          "salary_min",
          "salary_min",
          "salary_min",
          "salary_min",
          "salary_min",
          "salary_min",
          "salary_min",
          "salary_min",
          "salary_min",
          "salary_min",
          "salary_min",
          "salary_min",
          "salary_min",
          "salary_min",
          "salary_min",
          "salary_min",
          "salary_min",
          "salary_min",
          "salary_min",
          "salary_min",
          "salary_min",
          "salary_min",
          "salary_min",
          "salary_min",
          "salary_min",
          "salary_min",
          "salary_min",
          "salary_min",
          "salary_min",
          "salary_min",
          "salary_min",
          "salary_min",
          "salary_min",
          "salary_min",
          "salary_min",
          "salary_min",
          "salary_min",
          "salary_min",
          "salary_min",
          "salary_min",
          "salary_min",
          "salary_min",
          "salary_min",
          "salary_min",
          "salary_min",
          "salary_min",
          "salary_min",
          "salary_min",
          "salary_min",
          "salary_min",
          "salary_min",
          "salary_min",
          "salary_min",
          "salary_min",
          "salary_min",
          "salary_min",
          "salary_min",
          "salary_min",
          "salary_min",
          "salary_min",
          "salary_min",
          "salary_min",
          "salary_min",
          "salary_min",
          "salary_min",
          "salary_min",
          "salary_min",
          "salary_min",
          "salary_min",
          "salary_min",
          "salary_min",
          "salary_min",
          "salary_min",
          "salary_min",
          "salary_min",
          "salary_min",
          "salary_min",
          "salary_min",
          "salary_min",
          "salary_min",
          "salary_min",
          "salary_min",
          "salary_min",
          "salary_min",
          "salary_min",
          "salary_min",
          "salary_min",
          "salary_min",
          "salary_min",
          "salary_min",
          "salary_min",
          "salary_min",
          "salary_min",
          "salary_min",
          "salary_min",
          "salary_min",
          "salary_min",
          "salary_min",
          "salary_min",
          "salary_min",
          "salary_min",
          "salary_min",
          "salary_min",
          "salary_min",
          "salary_min",
          "salary_min",
          "salary_min",
          "salary_min",
          "salary_min",
          "salary_min",
          "salary_min",
          "salary_min",
          "salary_min",
          "salary_min",
          "salary_min",
          "salary_min",
          "salary_min",
          "salary_min",
          "salary_min",
          "salary_min",
          "salary_min",
          "salary_min",
          "salary_min",
          "salary_min",
          "salary_min",
          "salary_min",
          "salary_min",
          "salary_min",
          "salary_min",
          "salary_min",
          "salary_min",
          "salary_min",
          "salary_min",
          "salary_min",
          "salary_min",
          "salary_min",
          "salary_min",
          "salary_min",
          "salary_min",
          "salary_min",
          "salary_min",
          "salary_min",
          "salary_min",
          "salary_min",
          "salary_min",
          "salary_min",
          "salary_min",
          "salary_min",
          "salary_min",
          "salary_min",
          "salary_min",
          "salary_min",
          "salary_min",
          "salary_min",
          "salary_min",
          "salary_min",
          "salary_min",
          "salary_min",
          "salary_min",
          "salary_min",
          "salary_min",
          "salary_min",
          "salary_min",
          "salary_min",
          "salary_min",
          "salary_min",
          "salary_min",
          "salary_min",
          "salary_min",
          "salary_min",
          "salary_min",
          "salary_min",
          "salary_min",
          "salary_min",
          "salary_min",
          "salary_min",
          "salary_min",
          "salary_min",
          "salary_min",
          "salary_min",
          "salary_min",
          "salary_min",
          "salary_min",
          "salary_min",
          "salary_min",
          "salary_min",
          "salary_min",
          "salary_min",
          "salary_min",
          "salary_min",
          "salary_min",
          "salary_min",
          "salary_min",
          "salary_min",
          "salary_min",
          "salary_min",
          "salary_min",
          "salary_min",
          "salary_min",
          "salary_min",
          "salary_min",
          "salary_min",
          "salary_min",
          "salary_min",
          "salary_min",
          "salary_min",
          "salary_min",
          "salary_min",
          "salary_min",
          "salary_min",
          "salary_min",
          "salary_min",
          "salary_min",
          "salary_min",
          "salary_min",
          "salary_min",
          "salary_min",
          "salary_min",
          "salary_min",
          "salary_min",
          "salary_min",
          "salary_min",
          "salary_min",
          "salary_min",
          "salary_min",
          "salary_min",
          "salary_min",
          "salary_min",
          "salary_min",
          "salary_min",
          "salary_min",
          "salary_min",
          "salary_min",
          "salary_min",
          "salary_min",
          "salary_min",
          "salary_min",
          "salary_min",
          "salary_min",
          "salary_min",
          "salary_min",
          "salary_min",
          "salary_min",
          "salary_min",
          "salary_min",
          "salary_min",
          "salary_min",
          "salary_min",
          "salary_min",
          "salary_min",
          "salary_min",
          "salary_min",
          "salary_min",
          "salary_min",
          "salary_min",
          "salary_min",
          "salary_min",
          "salary_min",
          "salary_min",
          "salary_min",
          "salary_min",
          "salary_min",
          "salary_min",
          "salary_min",
          "salary_min",
          "salary_min",
          "salary_min",
          "salary_min",
          "salary_min",
          "salary_min",
          "salary_min",
          "salary_min",
          "salary_min",
          "salary_min",
          "salary_min",
          "salary_min",
          "salary_min",
          "salary_min",
          "salary_min",
          "salary_min",
          "salary_min",
          "salary_min",
          "salary_min",
          "salary_min",
          "salary_min",
          "salary_min",
          "salary_min",
          "salary_min",
          "salary_min",
          "salary_min",
          "salary_min",
          "salary_min",
          "salary_min",
          "salary_min",
          "salary_min",
          "salary_min",
          "salary_min",
          "salary_min",
          "salary_min",
          "salary_min",
          "salary_min",
          "salary_min",
          "salary_min",
          "salary_min",
          "salary_min",
          "salary_min",
          "salary_min",
          "salary_min",
          "salary_min",
          "salary_min",
          "salary_min",
          "salary_min",
          "salary_min",
          "salary_min",
          "salary_min",
          "salary_min",
          "salary_min",
          "salary_min",
          "salary_min",
          "salary_min",
          "salary_min",
          "salary_min",
          "salary_min",
          "salary_min",
          "salary_min",
          "salary_min",
          "salary_min",
          "salary_min",
          "salary_min",
          "salary_min",
          "salary_min",
          "salary_min",
          "salary_min",
          "salary_min",
          "salary_min",
          "salary_min",
          "salary_min",
          "salary_min",
          "salary_min",
          "salary_min",
          "salary_min",
          "salary_min",
          "salary_min",
          "salary_min",
          "salary_min",
          "salary_min",
          "salary_min",
          "salary_min",
          "salary_min",
          "salary_min",
          "salary_min",
          "salary_min",
          "salary_min",
          "salary_min",
          "salary_min",
          "salary_min",
          "salary_min",
          "salary_min",
          "salary_min",
          "salary_min",
          "salary_min",
          "salary_min",
          "salary_min",
          "salary_min",
          "salary_min",
          "salary_min",
          "salary_min",
          "salary_min",
          "salary_min",
          "salary_min",
          "salary_min",
          "salary_min",
          "salary_min",
          "salary_min",
          "salary_min",
          "salary_min",
          "salary_min",
          "salary_min",
          "salary_min",
          "salary_min",
          "salary_min",
          "salary_min",
          "salary_min",
          "salary_min",
          "salary_min",
          "salary_min",
          "salary_min",
          "salary_min",
          "salary_min",
          "salary_min",
          "salary_min",
          "salary_min",
          "salary_min",
          "salary_min",
          "salary_min",
          "salary_min",
          "salary_min",
          "salary_min",
          "salary_min",
          "salary_min",
          "salary_min",
          "salary_min",
          "salary_min",
          "salary_min",
          "salary_min",
          "salary_min",
          "salary_min",
          "salary_min",
          "salary_min",
          "salary_min",
          "salary_min",
          "salary_min",
          "salary_min",
          "salary_min",
          "salary_min",
          "salary_min",
          "salary_min",
          "salary_min",
          "salary_min",
          "salary_min",
          "salary_min",
          "salary_min",
          "salary_min",
          "salary_min",
          "salary_min",
          "salary_min",
          "salary_min",
          "salary_min",
          "salary_min",
          "salary_min",
          "salary_min",
          "salary_min",
          "salary_min",
          "salary_min",
          "salary_min",
          "salary_min",
          "salary_min",
          "salary_min",
          "salary_min",
          "salary_min",
          "salary_min",
          "salary_min",
          "salary_min",
          "salary_min",
          "salary_min",
          "salary_min",
          "salary_min",
          "salary_min",
          "salary_min",
          "salary_min",
          "salary_min",
          "salary_min",
          "salary_min",
          "salary_min",
          "salary_min",
          "salary_min",
          "salary_min",
          "salary_min",
          "salary_min",
          "salary_min",
          "salary_min",
          "salary_min",
          "salary_min",
          "salary_min",
          "salary_min",
          "salary_min",
          "salary_min",
          "salary_min",
          "salary_min",
          "salary_min",
          "salary_min",
          "salary_min",
          "salary_min",
          "salary_min",
          "salary_min",
          "salary_min",
          "salary_min",
          "salary_min",
          "salary_min",
          "salary_min",
          "salary_min",
          "salary_min",
          "salary_min",
          "salary_min",
          "salary_min",
          "salary_min",
          "salary_min",
          "salary_min",
          "salary_min",
          "salary_min",
          "salary_min",
          "salary_min",
          "salary_min",
          "salary_min",
          "salary_min",
          "salary_min",
          "salary_min",
          "salary_min",
          "salary_min",
          "salary_min",
          "salary_min",
          "salary_min",
          "salary_min",
          "salary_min",
          "salary_min",
          "salary_min",
          "salary_min",
          "salary_min",
          "salary_min",
          "salary_min",
          "salary_min",
          "salary_min",
          "salary_min",
          "salary_min",
          "salary_min",
          "salary_min",
          "salary_min",
          "salary_min",
          "salary_min",
          "salary_min",
          "salary_min",
          "salary_min",
          "salary_min",
          "salary_min",
          "salary_min",
          "salary_min",
          "salary_min",
          "salary_min",
          "salary_min",
          "salary_min",
          "salary_min",
          "salary_min",
          "salary_min",
          "salary_min",
          "salary_min",
          "salary_min",
          "salary_min",
          "salary_min",
          "salary_min",
          "salary_min",
          "salary_min",
          "salary_min",
          "salary_min",
          "salary_min",
          "salary_min",
          "salary_min",
          "salary_min",
          "salary_min",
          "salary_min",
          "salary_min",
          "salary_min",
          "salary_min",
          "salary_min",
          "salary_min",
          "salary_min",
          "salary_min",
          "salary_min",
          "salary_min",
          "salary_min",
          "salary_min",
          "salary_min",
          "salary_min",
          "salary_min",
          "salary_min",
          "salary_min",
          "salary_min",
          "salary_min",
          "salary_min",
          "salary_min",
          "salary_min",
          "salary_min",
          "salary_min",
          "salary_min",
          "salary_min",
          "salary_min",
          "salary_min",
          "salary_min",
          "salary_min",
          "salary_min",
          "salary_min",
          "salary_min",
          "salary_min",
          "salary_min",
          "salary_min",
          "salary_min",
          "salary_min",
          "salary_min",
          "salary_min",
          "salary_min",
          "salary_min",
          "salary_min",
          "salary_min",
          "salary_min",
          "salary_min",
          "salary_min",
          "salary_min",
          "salary_min",
          "salary_min",
          "salary_min",
          "salary_min",
          "salary_min",
          "salary_min",
          "salary_min",
          "salary_min",
          "salary_min",
          "salary_min",
          "salary_min",
          "salary_min",
          "salary_min",
          "salary_min",
          "salary_min",
          "salary_min",
          "salary_min",
          "salary_min",
          "salary_min",
          "salary_min",
          "salary_min",
          "salary_min",
          "salary_min",
          "salary_min",
          "salary_min",
          "salary_min",
          "salary_min",
          "salary_min",
          "salary_min",
          "salary_min",
          "salary_min",
          "salary_min",
          "salary_min",
          "salary_min",
          "salary_min",
          "salary_min",
          "salary_min",
          "salary_min",
          "salary_min",
          "salary_min",
          "salary_min",
          "salary_min",
          "salary_min",
          "salary_min",
          "salary_min",
          "salary_min",
          "salary_min",
          "salary_min",
          "salary_min",
          "salary_min",
          "salary_min",
          "salary_min",
          "salary_min",
          "salary_min",
          "salary_min",
          "salary_min",
          "salary_min",
          "salary_min",
          "salary_min",
          "salary_min",
          "salary_min",
          "salary_min",
          "salary_min",
          "salary_min",
          "salary_min",
          "salary_min",
          "salary_min",
          "salary_min",
          "salary_min",
          "salary_min",
          "salary_min",
          "salary_min",
          "salary_min",
          "salary_min",
          "salary_min",
          "salary_min",
          "salary_min",
          "salary_min",
          "salary_min",
          "salary_min",
          "salary_min",
          "salary_min",
          "salary_min",
          "salary_min",
          "salary_min",
          "salary_min",
          "salary_min",
          "salary_min",
          "salary_min",
          "salary_min",
          "salary_min",
          "salary_min",
          "salary_min",
          "salary_min",
          "salary_min",
          "salary_min",
          "salary_min",
          "salary_min",
          "salary_min",
          "salary_min",
          "salary_min",
          "salary_min",
          "salary_min",
          "salary_min",
          "salary_min",
          "salary_min",
          "salary_min",
          "salary_min",
          "salary_min",
          "salary_min",
          "salary_min",
          "salary_min",
          "salary_min",
          "salary_min",
          "salary_min",
          "salary_min",
          "salary_min",
          "salary_min",
          "salary_min",
          "salary_min",
          "salary_min",
          "salary_min",
          "salary_min",
          "salary_min",
          "salary_min",
          "salary_min",
          "salary_min",
          "salary_min",
          "salary_min",
          "salary_min",
          "salary_min",
          "salary_min",
          "salary_min",
          "salary_min",
          "salary_min",
          "salary_min",
          "salary_min",
          "salary_min",
          "salary_min",
          "salary_min",
          "salary_min",
          "salary_min",
          "salary_min",
          "salary_min",
          "salary_min",
          "salary_min",
          "salary_min",
          "salary_min",
          "salary_min",
          "salary_min",
          "salary_min",
          "salary_min",
          "salary_min",
          "salary_min",
          "salary_min",
          "salary_min",
          "salary_min",
          "salary_min",
          "salary_min",
          "salary_min",
          "salary_min",
          "salary_min",
          "salary_min",
          "salary_min",
          "salary_min",
          "salary_min",
          "salary_min",
          "salary_min",
          "salary_min",
          "salary_min",
          "salary_min",
          "salary_min",
          "salary_min",
          "salary_min",
          "salary_min",
          "salary_min",
          "salary_min",
          "salary_min",
          "salary_min",
          "salary_min",
          "salary_min",
          "salary_min",
          "salary_min",
          "salary_min",
          "salary_min",
          "salary_min",
          "salary_min",
          "salary_min",
          "salary_min",
          "salary_min",
          "salary_min",
          "salary_min",
          "salary_min",
          "salary_min",
          "salary_min",
          "salary_min",
          "salary_min",
          "salary_min",
          "salary_min",
          "salary_min",
          "salary_min",
          "salary_min",
          "salary_min",
          "salary_min",
          "salary_min",
          "salary_min",
          "salary_min",
          "salary_min",
          "salary_min",
          "salary_min",
          "salary_min",
          "salary_min",
          "salary_min",
          "salary_min",
          "salary_min",
          "salary_min",
          "salary_min",
          "salary_min",
          "salary_min",
          "salary_min",
          "salary_min",
          "salary_min",
          "salary_min",
          "salary_min",
          "salary_min",
          "salary_min",
          "salary_min",
          "salary_min",
          "salary_min",
          "salary_min",
          "salary_min",
          "salary_min",
          "salary_min",
          "salary_min",
          "salary_min",
          "salary_min",
          "salary_min",
          "salary_min",
          "salary_min",
          "salary_min",
          "salary_min",
          "salary_min",
          "salary_min",
          "salary_min",
          "salary_min",
          "salary_min",
          "salary_min",
          "salary_min",
          "salary_min",
          "salary_min",
          "salary_min",
          "salary_min",
          "salary_min",
          "salary_min",
          "salary_min",
          "salary_min",
          "salary_min",
          "salary_min",
          "salary_min",
          "salary_min",
          "salary_min",
          "salary_min",
          "salary_min",
          "salary_min",
          "salary_min",
          "salary_min",
          "salary_min",
          "salary_min",
          "salary_min",
          "salary_min",
          "salary_min",
          "salary_min",
          "salary_min",
          "salary_min",
          "salary_min",
          "salary_min",
          "salary_min",
          "salary_min",
          "salary_min",
          "salary_min",
          "salary_min",
          "salary_min",
          "salary_min",
          "salary_min",
          "salary_min",
          "salary_min",
          "salary_min",
          "salary_min",
          "salary_min",
          "salary_min",
          "salary_min",
          "salary_min",
          "salary_min",
          "salary_min",
          "salary_min",
          "salary_min",
          "salary_min",
          "salary_min",
          "salary_min",
          "salary_min",
          "salary_min",
          "salary_min",
          "salary_min",
          "salary_min",
          "salary_min",
          "salary_min",
          "salary_min",
          "salary_min",
          "salary_min",
          "salary_min",
          "salary_min",
          "salary_min",
          "salary_min",
          "salary_min",
          "salary_min",
          "salary_min",
          "salary_min",
          "salary_min",
          "salary_min",
          "salary_min",
          "salary_min",
          "salary_min",
          "salary_min",
          "salary_min",
          "salary_min",
          "salary_min",
          "salary_min",
          "salary_min",
          "salary_min",
          "salary_min",
          "salary_min",
          "salary_min",
          "salary_min",
          "salary_min",
          "salary_min",
          "salary_min",
          "salary_min",
          "salary_min",
          "salary_min",
          "salary_min",
          "salary_min",
          "salary_min",
          "salary_min",
          "salary_min",
          "salary_min",
          "salary_min",
          "salary_min",
          "salary_min",
          "salary_min",
          "salary_min",
          "salary_min",
          "salary_min",
          "salary_min",
          "salary_min",
          "salary_min",
          "salary_min",
          "salary_min",
          "salary_min",
          "salary_min",
          "salary_min",
          "salary_min",
          "salary_min",
          "salary_min",
          "salary_min",
          "salary_min",
          "salary_min",
          "salary_min",
          "salary_min",
          "salary_min",
          "salary_min",
          "salary_min",
          "salary_min",
          "salary_min",
          "salary_min",
          "salary_min",
          "salary_min",
          "salary_min",
          "salary_min",
          "salary_min",
          "salary_min",
          "salary_min",
          "salary_min",
          "salary_min",
          "salary_min",
          "salary_min",
          "salary_min",
          "salary_min",
          "salary_min",
          "salary_min",
          "salary_min",
          "salary_min",
          "salary_min",
          "salary_min",
          "salary_min",
          "salary_min",
          "salary_min",
          "salary_min",
          "salary_min",
          "salary_min",
          "salary_min",
          "salary_min",
          "salary_min",
          "salary_min",
          "salary_min",
          "salary_min",
          "salary_min",
          "salary_min",
          "salary_min",
          "salary_min",
          "salary_min",
          "salary_min",
          "salary_min",
          "salary_min",
          "salary_min",
          "salary_min",
          "salary_min",
          "salary_min",
          "salary_min",
          "salary_min",
          "salary_min",
          "salary_min",
          "salary_min",
          "salary_min",
          "salary_min",
          "salary_min",
          "salary_min",
          "salary_min",
          "salary_min",
          "salary_min",
          "salary_min",
          "salary_min",
          "salary_min",
          "salary_min",
          "salary_min",
          "salary_min",
          "salary_min",
          "salary_min",
          "salary_min",
          "salary_min",
          "salary_min",
          "salary_min",
          "salary_min",
          "salary_min",
          "salary_min",
          "salary_min",
          "salary_min",
          "salary_min",
          "salary_min",
          "salary_min",
          "salary_min",
          "salary_min",
          "salary_min",
          "salary_min",
          "salary_min",
          "salary_min",
          "salary_min",
          "salary_min",
          "salary_min",
          "salary_min",
          "salary_min",
          "salary_min",
          "salary_min",
          "salary_min",
          "salary_min",
          "salary_min",
          "salary_min",
          "salary_min",
          "salary_min",
          "salary_min",
          "salary_min",
          "salary_min",
          "salary_min",
          "salary_min",
          "salary_min",
          "salary_min",
          "salary_min",
          "salary_min",
          "salary_min",
          "salary_min",
          "salary_min",
          "salary_min",
          "salary_min",
          "salary_min",
          "salary_min",
          "salary_min",
          "salary_min",
          "salary_min",
          "salary_min",
          "salary_min",
          "salary_min",
          "salary_min",
          "salary_min",
          "salary_min",
          "salary_min",
          "salary_min",
          "salary_min",
          "salary_min",
          "salary_min",
          "salary_min",
          "salary_min",
          "salary_min",
          "salary_min",
          "salary_min",
          "salary_min",
          "salary_min",
          "salary_min",
          "salary_min",
          "salary_min",
          "salary_min",
          "salary_min",
          "salary_min",
          "salary_min",
          "salary_min",
          "salary_min",
          "salary_min",
          "salary_min",
          "salary_min",
          "salary_min",
          "salary_min",
          "salary_min",
          "salary_min",
          "salary_min",
          "salary_min",
          "salary_min",
          "salary_min",
          "salary_min",
          "salary_min",
          "salary_min",
          "salary_min",
          "salary_min",
          "salary_min",
          "salary_min",
          "salary_min",
          "salary_min",
          "salary_min",
          "salary_min",
          "salary_min",
          "salary_min",
          "salary_min",
          "salary_min",
          "salary_min",
          "salary_min",
          "salary_min",
          "salary_min",
          "salary_min",
          "salary_min",
          "salary_min",
          "salary_min",
          "salary_min",
          "salary_min",
          "salary_min",
          "salary_min",
          "salary_min",
          "salary_min",
          "salary_min",
          "salary_min",
          "salary_min",
          "salary_min",
          "salary_min",
          "salary_min",
          "salary_min",
          "salary_min",
          "salary_min",
          "salary_min",
          "salary_min",
          "salary_min",
          "salary_min",
          "salary_max",
          "salary_max",
          "salary_max",
          "salary_max",
          "salary_max",
          "salary_max",
          "salary_max",
          "salary_max",
          "salary_max",
          "salary_max",
          "salary_max",
          "salary_max",
          "salary_max",
          "salary_max",
          "salary_max",
          "salary_max",
          "salary_max",
          "salary_max",
          "salary_max",
          "salary_max",
          "salary_max",
          "salary_max",
          "salary_max",
          "salary_max",
          "salary_max",
          "salary_max",
          "salary_max",
          "salary_max",
          "salary_max",
          "salary_max",
          "salary_max",
          "salary_max",
          "salary_max",
          "salary_max",
          "salary_max",
          "salary_max",
          "salary_max",
          "salary_max",
          "salary_max",
          "salary_max",
          "salary_max",
          "salary_max",
          "salary_max",
          "salary_max",
          "salary_max",
          "salary_max",
          "salary_max",
          "salary_max",
          "salary_max",
          "salary_max",
          "salary_max",
          "salary_max",
          "salary_max",
          "salary_max",
          "salary_max",
          "salary_max",
          "salary_max",
          "salary_max",
          "salary_max",
          "salary_max",
          "salary_max",
          "salary_max",
          "salary_max",
          "salary_max",
          "salary_max",
          "salary_max",
          "salary_max",
          "salary_max",
          "salary_max",
          "salary_max",
          "salary_max",
          "salary_max",
          "salary_max",
          "salary_max",
          "salary_max",
          "salary_max",
          "salary_max",
          "salary_max",
          "salary_max",
          "salary_max",
          "salary_max",
          "salary_max",
          "salary_max",
          "salary_max",
          "salary_max",
          "salary_max",
          "salary_max",
          "salary_max",
          "salary_max",
          "salary_max",
          "salary_max",
          "salary_max",
          "salary_max",
          "salary_max",
          "salary_max",
          "salary_max",
          "salary_max",
          "salary_max",
          "salary_max",
          "salary_max",
          "salary_max",
          "salary_max",
          "salary_max",
          "salary_max",
          "salary_max",
          "salary_max",
          "salary_max",
          "salary_max",
          "salary_max",
          "salary_max",
          "salary_max",
          "salary_max",
          "salary_max",
          "salary_max",
          "salary_max",
          "salary_max",
          "salary_max",
          "salary_max",
          "salary_max",
          "salary_max",
          "salary_max",
          "salary_max",
          "salary_max",
          "salary_max",
          "salary_max",
          "salary_max",
          "salary_max",
          "salary_max",
          "salary_max",
          "salary_max",
          "salary_max",
          "salary_max",
          "salary_max",
          "salary_max",
          "salary_max",
          "salary_max",
          "salary_max",
          "salary_max",
          "salary_max",
          "salary_max",
          "salary_max",
          "salary_max",
          "salary_max",
          "salary_max",
          "salary_max",
          "salary_max",
          "salary_max",
          "salary_max",
          "salary_max",
          "salary_max",
          "salary_max",
          "salary_max",
          "salary_max",
          "salary_max",
          "salary_max",
          "salary_max",
          "salary_max",
          "salary_max",
          "salary_max",
          "salary_max",
          "salary_max",
          "salary_max",
          "salary_max",
          "salary_max",
          "salary_max",
          "salary_max",
          "salary_max",
          "salary_max",
          "salary_max",
          "salary_max",
          "salary_max",
          "salary_max",
          "salary_max",
          "salary_max",
          "salary_max",
          "salary_max",
          "salary_max",
          "salary_max",
          "salary_max",
          "salary_max",
          "salary_max",
          "salary_max",
          "salary_max",
          "salary_max",
          "salary_max",
          "salary_max",
          "salary_max",
          "salary_max",
          "salary_max",
          "salary_max",
          "salary_max",
          "salary_max",
          "salary_max",
          "salary_max",
          "salary_max",
          "salary_max",
          "salary_max",
          "salary_max",
          "salary_max",
          "salary_max",
          "salary_max",
          "salary_max",
          "salary_max",
          "salary_max",
          "salary_max",
          "salary_max",
          "salary_max",
          "salary_max",
          "salary_max",
          "salary_max",
          "salary_max",
          "salary_max",
          "salary_max",
          "salary_max",
          "salary_max",
          "salary_max",
          "salary_max",
          "salary_max",
          "salary_max",
          "salary_max",
          "salary_max",
          "salary_max",
          "salary_max",
          "salary_max",
          "salary_max",
          "salary_max",
          "salary_max",
          "salary_max",
          "salary_max",
          "salary_max",
          "salary_max",
          "salary_max",
          "salary_max",
          "salary_max",
          "salary_max",
          "salary_max",
          "salary_max",
          "salary_max",
          "salary_max",
          "salary_max",
          "salary_max",
          "salary_max",
          "salary_max",
          "salary_max",
          "salary_max",
          "salary_max",
          "salary_max",
          "salary_max",
          "salary_max",
          "salary_max",
          "salary_max",
          "salary_max",
          "salary_max",
          "salary_max",
          "salary_max",
          "salary_max",
          "salary_max",
          "salary_max",
          "salary_max",
          "salary_max",
          "salary_max",
          "salary_max",
          "salary_max",
          "salary_max",
          "salary_max",
          "salary_max",
          "salary_max",
          "salary_max",
          "salary_max",
          "salary_max",
          "salary_max",
          "salary_max",
          "salary_max",
          "salary_max",
          "salary_max",
          "salary_max",
          "salary_max",
          "salary_max",
          "salary_max",
          "salary_max",
          "salary_max",
          "salary_max",
          "salary_max",
          "salary_max",
          "salary_max",
          "salary_max",
          "salary_max",
          "salary_max",
          "salary_max",
          "salary_max",
          "salary_max",
          "salary_max",
          "salary_max",
          "salary_max",
          "salary_max",
          "salary_max",
          "salary_max",
          "salary_max",
          "salary_max",
          "salary_max",
          "salary_max",
          "salary_max",
          "salary_max",
          "salary_max",
          "salary_max",
          "salary_max",
          "salary_max",
          "salary_max",
          "salary_max",
          "salary_max",
          "salary_max",
          "salary_max",
          "salary_max",
          "salary_max",
          "salary_max",
          "salary_max",
          "salary_max",
          "salary_max",
          "salary_max",
          "salary_max",
          "salary_max",
          "salary_max",
          "salary_max",
          "salary_max",
          "salary_max",
          "salary_max",
          "salary_max",
          "salary_max",
          "salary_max",
          "salary_max",
          "salary_max",
          "salary_max",
          "salary_max",
          "salary_max",
          "salary_max",
          "salary_max",
          "salary_max",
          "salary_max",
          "salary_max",
          "salary_max",
          "salary_max",
          "salary_max",
          "salary_max",
          "salary_max",
          "salary_max",
          "salary_max",
          "salary_max",
          "salary_max",
          "salary_max",
          "salary_max",
          "salary_max",
          "salary_max",
          "salary_max",
          "salary_max",
          "salary_max",
          "salary_max",
          "salary_max",
          "salary_max",
          "salary_max",
          "salary_max",
          "salary_max",
          "salary_max",
          "salary_max",
          "salary_max",
          "salary_max",
          "salary_max",
          "salary_max",
          "salary_max",
          "salary_max",
          "salary_max",
          "salary_max",
          "salary_max",
          "salary_max",
          "salary_max",
          "salary_max",
          "salary_max",
          "salary_max",
          "salary_max",
          "salary_max",
          "salary_max",
          "salary_max",
          "salary_max",
          "salary_max",
          "salary_max",
          "salary_max",
          "salary_max",
          "salary_max",
          "salary_max",
          "salary_max",
          "salary_max",
          "salary_max",
          "salary_max",
          "salary_max",
          "salary_max",
          "salary_max",
          "salary_max",
          "salary_max",
          "salary_max",
          "salary_max",
          "salary_max",
          "salary_max",
          "salary_max",
          "salary_max",
          "salary_max",
          "salary_max",
          "salary_max",
          "salary_max",
          "salary_max",
          "salary_max",
          "salary_max",
          "salary_max",
          "salary_max",
          "salary_max",
          "salary_max",
          "salary_max",
          "salary_max",
          "salary_max",
          "salary_max",
          "salary_max",
          "salary_max",
          "salary_max",
          "salary_max",
          "salary_max",
          "salary_max",
          "salary_max",
          "salary_max",
          "salary_max",
          "salary_max",
          "salary_max",
          "salary_max",
          "salary_max",
          "salary_max",
          "salary_max",
          "salary_max",
          "salary_max",
          "salary_max",
          "salary_max",
          "salary_max",
          "salary_max",
          "salary_max",
          "salary_max",
          "salary_max",
          "salary_max",
          "salary_max",
          "salary_max",
          "salary_max",
          "salary_max",
          "salary_max",
          "salary_max",
          "salary_max",
          "salary_max",
          "salary_max",
          "salary_max",
          "salary_max",
          "salary_max",
          "salary_max",
          "salary_max",
          "salary_max",
          "salary_max",
          "salary_max",
          "salary_max",
          "salary_max",
          "salary_max",
          "salary_max",
          "salary_max",
          "salary_max",
          "salary_max",
          "salary_max",
          "salary_max",
          "salary_max",
          "salary_max",
          "salary_max",
          "salary_max",
          "salary_max",
          "salary_max",
          "salary_max",
          "salary_max",
          "salary_max",
          "salary_max",
          "salary_max",
          "salary_max",
          "salary_max",
          "salary_max",
          "salary_max",
          "salary_max",
          "salary_max",
          "salary_max",
          "salary_max",
          "salary_max",
          "salary_max",
          "salary_max",
          "salary_max",
          "salary_max",
          "salary_max",
          "salary_max",
          "salary_max",
          "salary_max",
          "salary_max",
          "salary_max",
          "salary_max",
          "salary_max",
          "salary_max",
          "salary_max",
          "salary_max",
          "salary_max",
          "salary_max",
          "salary_max",
          "salary_max",
          "salary_max",
          "salary_max",
          "salary_max",
          "salary_max",
          "salary_max",
          "salary_max",
          "salary_max",
          "salary_max",
          "salary_max",
          "salary_max",
          "salary_max",
          "salary_max",
          "salary_max",
          "salary_max",
          "salary_max",
          "salary_max",
          "salary_max",
          "salary_max",
          "salary_max",
          "salary_max",
          "salary_max",
          "salary_max",
          "salary_max",
          "salary_max",
          "salary_max",
          "salary_max",
          "salary_max",
          "salary_max",
          "salary_max",
          "salary_max",
          "salary_max",
          "salary_max",
          "salary_max",
          "salary_max",
          "salary_max",
          "salary_max",
          "salary_max",
          "salary_max",
          "salary_max",
          "salary_max",
          "salary_max",
          "salary_max",
          "salary_max",
          "salary_max",
          "salary_max",
          "salary_max",
          "salary_max",
          "salary_max",
          "salary_max",
          "salary_max",
          "salary_max",
          "salary_max",
          "salary_max",
          "salary_max",
          "salary_max",
          "salary_max",
          "salary_max",
          "salary_max",
          "salary_max",
          "salary_max",
          "salary_max",
          "salary_max",
          "salary_max",
          "salary_max",
          "salary_max",
          "salary_max",
          "salary_max",
          "salary_max",
          "salary_max",
          "salary_max",
          "salary_max",
          "salary_max",
          "salary_max",
          "salary_max",
          "salary_max",
          "salary_max",
          "salary_max",
          "salary_max",
          "salary_max",
          "salary_max",
          "salary_max",
          "salary_max",
          "salary_max",
          "salary_max",
          "salary_max",
          "salary_max",
          "salary_max",
          "salary_max",
          "salary_max",
          "salary_max",
          "salary_max",
          "salary_max",
          "salary_max",
          "salary_max",
          "salary_max",
          "salary_max",
          "salary_max",
          "salary_max",
          "salary_max",
          "salary_max",
          "salary_max",
          "salary_max",
          "salary_max",
          "salary_max",
          "salary_max",
          "salary_max",
          "salary_max",
          "salary_max",
          "salary_max",
          "salary_max",
          "salary_max",
          "salary_max",
          "salary_max",
          "salary_max",
          "salary_max",
          "salary_max",
          "salary_max",
          "salary_max",
          "salary_max",
          "salary_max",
          "salary_max",
          "salary_max",
          "salary_max",
          "salary_max",
          "salary_max",
          "salary_max",
          "salary_max",
          "salary_max",
          "salary_max",
          "salary_max",
          "salary_max",
          "salary_max",
          "salary_max",
          "salary_max",
          "salary_max",
          "salary_max",
          "salary_max",
          "salary_max",
          "salary_max",
          "salary_max",
          "salary_max",
          "salary_max",
          "salary_max",
          "salary_max",
          "salary_max",
          "salary_max",
          "salary_max",
          "salary_max",
          "salary_max",
          "salary_max",
          "salary_max",
          "salary_max",
          "salary_max",
          "salary_max",
          "salary_max",
          "salary_max",
          "salary_max",
          "salary_max",
          "salary_max",
          "salary_max",
          "salary_max",
          "salary_max",
          "salary_max",
          "salary_max",
          "salary_max",
          "salary_max",
          "salary_max",
          "salary_max",
          "salary_max",
          "salary_max",
          "salary_max",
          "salary_max",
          "salary_max",
          "salary_max",
          "salary_max",
          "salary_max",
          "salary_max",
          "salary_max",
          "salary_max",
          "salary_max",
          "salary_max",
          "salary_max",
          "salary_max",
          "salary_max",
          "salary_max",
          "salary_max",
          "salary_max",
          "salary_max",
          "salary_max",
          "salary_max",
          "salary_max",
          "salary_max",
          "salary_max",
          "salary_max",
          "salary_max",
          "salary_max",
          "salary_max",
          "salary_max",
          "salary_max",
          "salary_max",
          "salary_max",
          "salary_max",
          "salary_max",
          "salary_max",
          "salary_max",
          "salary_max",
          "salary_max",
          "salary_max",
          "salary_max",
          "salary_max",
          "salary_max",
          "salary_max",
          "salary_max",
          "salary_max",
          "salary_max",
          "salary_max",
          "salary_max",
          "salary_max",
          "salary_max",
          "salary_max",
          "salary_max",
          "salary_max",
          "salary_max",
          "salary_max",
          "salary_max",
          "salary_max",
          "salary_max",
          "salary_max",
          "salary_max",
          "salary_max",
          "salary_max",
          "salary_max",
          "salary_max",
          "salary_max",
          "salary_max",
          "salary_max",
          "salary_max",
          "salary_max",
          "salary_max",
          "salary_max",
          "salary_max",
          "salary_max",
          "salary_max",
          "salary_max",
          "salary_max",
          "salary_max",
          "salary_max",
          "salary_max",
          "salary_max",
          "salary_max",
          "salary_max",
          "salary_max",
          "salary_max",
          "salary_max",
          "salary_max",
          "salary_max",
          "salary_max",
          "salary_max",
          "salary_max",
          "salary_max",
          "salary_max",
          "salary_max",
          "salary_max",
          "salary_max",
          "salary_max",
          "salary_max",
          "salary_max",
          "salary_max",
          "salary_max",
          "salary_max",
          "salary_max",
          "salary_max",
          "salary_max",
          "salary_max",
          "salary_max",
          "salary_max",
          "salary_max",
          "salary_max",
          "salary_max",
          "salary_max",
          "salary_max",
          "salary_max",
          "salary_max",
          "salary_max",
          "salary_max",
          "salary_max",
          "salary_max",
          "salary_max",
          "salary_max",
          "salary_max",
          "salary_max",
          "salary_max",
          "salary_max",
          "salary_max",
          "salary_max",
          "salary_max",
          "salary_max",
          "salary_max",
          "salary_max",
          "salary_max",
          "salary_max",
          "salary_max",
          "salary_max",
          "salary_max",
          "salary_max",
          "salary_max",
          "salary_max",
          "salary_max",
          "salary_max",
          "salary_max",
          "salary_max",
          "salary_max",
          "salary_max",
          "salary_max",
          "salary_max",
          "salary_max",
          "salary_max",
          "salary_max",
          "salary_max",
          "salary_max",
          "salary_max",
          "salary_max",
          "salary_max",
          "salary_max",
          "salary_max",
          "salary_max",
          "salary_max",
          "salary_max",
          "salary_max",
          "salary_max",
          "salary_max",
          "salary_max",
          "salary_max",
          "salary_max",
          "salary_max",
          "salary_max",
          "salary_max",
          "salary_max",
          "salary_max",
          "salary_max",
          "salary_max",
          "salary_max",
          "salary_max",
          "salary_max",
          "salary_max",
          "salary_max",
          "salary_max",
          "salary_max",
          "salary_max",
          "salary_max",
          "salary_max",
          "salary_max",
          "salary_max",
          "salary_max",
          "salary_max",
          "salary_max",
          "salary_max",
          "salary_max",
          "salary_max",
          "salary_max",
          "salary_max",
          "salary_max",
          "salary_max",
          "salary_max",
          "salary_max",
          "salary_max",
          "salary_max",
          "salary_max",
          "salary_max",
          "salary_max",
          "salary_max",
          "salary_max",
          "salary_max",
          "salary_max",
          "salary_max",
          "salary_max",
          "salary_max",
          "salary_max",
          "salary_max",
          "salary_max",
          "salary_max",
          "salary_max",
          "salary_max",
          "salary_max",
          "salary_max",
          "salary_max",
          "salary_max",
          "salary_max",
          "salary_max",
          "salary_max",
          "salary_max",
          "salary_max",
          "salary_max",
          "salary_max",
          "salary_max",
          "salary_max",
          "salary_max",
          "salary_max",
          "salary_max",
          "salary_max",
          "salary_max",
          "salary_max",
          "salary_max",
          "salary_max",
          "salary_max",
          "salary_max",
          "salary_max",
          "salary_max",
          "salary_max",
          "salary_max",
          "salary_max",
          "salary_max",
          "salary_max",
          "salary_max",
          "salary_max",
          "salary_max",
          "salary_max",
          "salary_max",
          "salary_max",
          "salary_max",
          "salary_max",
          "salary_max",
          "salary_max",
          "salary_max",
          "salary_max",
          "salary_max",
          "salary_max",
          "salary_max",
          "salary_max",
          "salary_max",
          "salary_max",
          "salary_max",
          "salary_max",
          "salary_max",
          "salary_max",
          "salary_max",
          "salary_max",
          "salary_max",
          "salary_max",
          "salary_max",
          "salary_max",
          "salary_max",
          "salary_max",
          "salary_max",
          "salary_max",
          "salary_max",
          "salary_max",
          "salary_max",
          "salary_max",
          "salary_max",
          "salary_max",
          "salary_max",
          "salary_max",
          "salary_max",
          "salary_max",
          "salary_max",
          "salary_max",
          "salary_max",
          "salary_max",
          "salary_max",
          "salary_max",
          "salary_max",
          "salary_max",
          "salary_max",
          "salary_max",
          "salary_max",
          "salary_max",
          "salary_max",
          "salary_max",
          "salary_max",
          "salary_max",
          "salary_max",
          "salary_max",
          "salary_max",
          "salary_max",
          "salary_max",
          "salary_max",
          "salary_max",
          "salary_max",
          "salary_max",
          "salary_max",
          "salary_max",
          "salary_max",
          "salary_max",
          "salary_max",
          "salary_max",
          "salary_max",
          "salary_max",
          "salary_max",
          "salary_max",
          "salary_max",
          "salary_max",
          "salary_max",
          "salary_max",
          "salary_max",
          "salary_max",
          "salary_max",
          "salary_max",
          "salary_max",
          "salary_max",
          "salary_max",
          "salary_max",
          "salary_max",
          "salary_max",
          "salary_max",
          "salary_max",
          "salary_max",
          "salary_max",
          "salary_max",
          "salary_max",
          "salary_max",
          "salary_max",
          "salary_max",
          "salary_max",
          "salary_max",
          "salary_max",
          "salary_max",
          "salary_max",
          "salary_max",
          "salary_max",
          "salary_max",
          "salary_max",
          "salary_max",
          "salary_max",
          "salary_max",
          "salary_max",
          "salary_max",
          "salary_max",
          "salary_max",
          "salary_max",
          "salary_max",
          "salary_max",
          "salary_max",
          "salary_max",
          "salary_max",
          "salary_max",
          "salary_max",
          "salary_max",
          "salary_max",
          "salary_max",
          "salary_max",
          "salary_max",
          "salary_max",
          "salary_max",
          "salary_max",
          "salary_max",
          "salary_max",
          "salary_max",
          "salary_max",
          "salary_max",
          "salary_max",
          "salary_max",
          "salary_max",
          "salary_max",
          "salary_max",
          "salary_max",
          "salary_max",
          "salary_max",
          "salary_max",
          "salary_max",
          "salary_max",
          "salary_max",
          "salary_max",
          "salary_max",
          "salary_max",
          "salary_max",
          "salary_max",
          "salary_max",
          "salary_max",
          "salary_max",
          "salary_max",
          "salary_max",
          "salary_max",
          "salary_max",
          "salary_max",
          "salary_max",
          "salary_max",
          "salary_max",
          "salary_max",
          "salary_max",
          "salary_max",
          "salary_max",
          "salary_max",
          "salary_max",
          "salary_max",
          "salary_max",
          "salary_max",
          "salary_max",
          "salary_max",
          "salary_max",
          "salary_max",
          "salary_max",
          "salary_max",
          "salary_max",
          "salary_max",
          "salary_max",
          "salary_max",
          "salary_max",
          "salary_max",
          "salary_max",
          "salary_max",
          "salary_max",
          "salary_max",
          "salary_max",
          "salary_max",
          "salary_max",
          "salary_max",
          "salary_max",
          "salary_max",
          "salary_max",
          "salary_max",
          "salary_max",
          "salary_max",
          "salary_max",
          "salary_max",
          "salary_max",
          "salary_max",
          "salary_max",
          "salary_max",
          "salary_max",
          "salary_max",
          "salary_max",
          "salary_max",
          "salary_max",
          "salary_max",
          "salary_max",
          "salary_max",
          "salary_max",
          "salary_max",
          "salary_max",
          "salary_max",
          "salary_max",
          "salary_max",
          "salary_max",
          "salary_max",
          "salary_max",
          "salary_max",
          "salary_max",
          "salary_max",
          "salary_max",
          "salary_max",
          "salary_max",
          "salary_max",
          "salary_max",
          "salary_max",
          "salary_max",
          "salary_max",
          "salary_max",
          "salary_max",
          "salary_max",
          "salary_max",
          "salary_max",
          "salary_max",
          "salary_max",
          "salary_max",
          "salary_max",
          "salary_max",
          "salary_max",
          "salary_max",
          "salary_max",
          "salary_max",
          "salary_max",
          "salary_max",
          "salary_max",
          "salary_max",
          "salary_max",
          "salary_max",
          "salary_max",
          "salary_max",
          "salary_max",
          "salary_max",
          "salary_max",
          "salary_max",
          "salary_max",
          "salary_max",
          "salary_max",
          "salary_max",
          "salary_max",
          "salary_max",
          "salary_max",
          "salary_max",
          "salary_max",
          "salary_max",
          "salary_max",
          "salary_max",
          "salary_max",
          "salary_max",
          "salary_max",
          "salary_max",
          "salary_max",
          "salary_max",
          "salary_max",
          "salary_max",
          "salary_max",
          "salary_max",
          "salary_max",
          "salary_max",
          "salary_max",
          "salary_max",
          "salary_max",
          "salary_max",
          "salary_max",
          "salary_max",
          "salary_max",
          "salary_max",
          "salary_max",
          "salary_max",
          "salary_max",
          "salary_max",
          "salary_max",
          "salary_max",
          "salary_max",
          "salary_max",
          "salary_max",
          "salary_max",
          "salary_max",
          "salary_max",
          "salary_max",
          "salary_max",
          "salary_max",
          "salary_max",
          "salary_max",
          "salary_max",
          "salary_max",
          "salary_max",
          "salary_max",
          "salary_max",
          "salary_max",
          "salary_max",
          "salary_max",
          "salary_max",
          "salary_max",
          "salary_max",
          "salary_max",
          "salary_max",
          "salary_max",
          "salary_max",
          "salary_max",
          "salary_max",
          "salary_max",
          "salary_max",
          "salary_max",
          "salary_max",
          "salary_max",
          "salary_max",
          "salary_max",
          "salary_max",
          "salary_max",
          "salary_max",
          "salary_max",
          "salary_max",
          "salary_max",
          "salary_max",
          "salary_max",
          "salary_max",
          "salary_max",
          "salary_max",
          "salary_max",
          "salary_max",
          "salary_max",
          "salary_max",
          "salary_max",
          "salary_max",
          "salary_max",
          "salary_max",
          "salary_max",
          "salary_max",
          "salary_max",
          "salary_max",
          "salary_max",
          "salary_max",
          "salary_max",
          "salary_max",
          "salary_max",
          "salary_max",
          "salary_max",
          "salary_max",
          "salary_max",
          "salary_max",
          "salary_max",
          "salary_max",
          "salary_max",
          "salary_max",
          "salary_max",
          "salary_max",
          "salary_max",
          "salary_max",
          "salary_max",
          "salary_max",
          "salary_max",
          "salary_max",
          "salary_max",
          "salary_max",
          "salary_max",
          "salary_max",
          "salary_max",
          "salary_max",
          "salary_max",
          "salary_max",
          "salary_max",
          "salary_max",
          "salary_max",
          "salary_max",
          "salary_max",
          "salary_max",
          "salary_max",
          "salary_max",
          "salary_max",
          "salary_max",
          "salary_max",
          "salary_max",
          "salary_max",
          "salary_max",
          "salary_max",
          "salary_max",
          "salary_max",
          "salary_max",
          "salary_max",
          "salary_max",
          "salary_max",
          "salary_max",
          "salary_max",
          "salary_max",
          "salary_max",
          "salary_max",
          "salary_max",
          "salary_max",
          "salary_max",
          "salary_max",
          "salary_max",
          "salary_max",
          "salary_max",
          "salary_max",
          "salary_max",
          "salary_max",
          "salary_max",
          "salary_max",
          "salary_max",
          "salary_max",
          "salary_max",
          "salary_max",
          "salary_max",
          "salary_max",
          "salary_max",
          "salary_max",
          "salary_max",
          "salary_max",
          "salary_max",
          "salary_max",
          "salary_max",
          "salary_max",
          "salary_max",
          "salary_max",
          "salary_max",
          "salary_max",
          "salary_max",
          "salary_max",
          "salary_max",
          "salary_max",
          "salary_max",
          "salary_max",
          "salary_max",
          "salary_max",
          "salary_max",
          "salary_max",
          "salary_max",
          "salary_max",
          "salary_max",
          "salary_max",
          "salary_max",
          "salary_max",
          "salary_max",
          "salary_max",
          "salary_max",
          "salary_max",
          "salary_max",
          "salary_max",
          "salary_max",
          "salary_max",
          "salary_max",
          "salary_max",
          "salary_max",
          "salary_max",
          "salary_max",
          "salary_max",
          "salary_max",
          "salary_max",
          "salary_max",
          "salary_max",
          "salary_max",
          "salary_max",
          "salary_max",
          "salary_max",
          "salary_max",
          "salary_max",
          "salary_max",
          "salary_max",
          "salary_max",
          "salary_max",
          "salary_max",
          "salary_max",
          "salary_max",
          "salary_max",
          "salary_max",
          "salary_max",
          "salary_max",
          "salary_max",
          "salary_max",
          "salary_max",
          "salary_max",
          "salary_max",
          "salary_max",
          "salary_max",
          "salary_max",
          "salary_max",
          "salary_max",
          "salary_max",
          "salary_max",
          "salary_max",
          "salary_max",
          "salary_max",
          "salary_max",
          "salary_max",
          "salary_max",
          "salary_max",
          "salary_max",
          "salary_max",
          "salary_max",
          "salary_max",
          "salary_max",
          "salary_max",
          "salary_max",
          "salary_max",
          "salary_max",
          "salary_max",
          "salary_max",
          "salary_max",
          "salary_max",
          "salary_max",
          "salary_max",
          "salary_max",
          "salary_max",
          "salary_max",
          "salary_max",
          "salary_max",
          "salary_max",
          "salary_max",
          "salary_max",
          "salary_max",
          "salary_max",
          "salary_max",
          "salary_max",
          "salary_max",
          "salary_max",
          "salary_max",
          "salary_max",
          "salary_max",
          "salary_max",
          "salary_max",
          "salary_max",
          "salary_max",
          "salary_max",
          "salary_max",
          "salary_max",
          "salary_max",
          "salary_max",
          "salary_max",
          "salary_max",
          "salary_max",
          "salary_max",
          "salary_max",
          "salary_max",
          "salary_max",
          "salary_max",
          "salary_max",
          "salary_max",
          "salary_max",
          "salary_max",
          "salary_max",
          "salary_max",
          "salary_max",
          "salary_max",
          "salary_max",
          "salary_max",
          "salary_max",
          "salary_max",
          "salary_max",
          "salary_max",
          "salary_max",
          "salary_max",
          "salary_max",
          "salary_max",
          "salary_max",
          "salary_max",
          "salary_max",
          "salary_max",
          "salary_max",
          "salary_max",
          "salary_max",
          "salary_max",
          "salary_max",
          "salary_max",
          "salary_max",
          "salary_max",
          "salary_max",
          "salary_max",
          "salary_max",
          "salary_max",
          "salary_max",
          "salary_max",
          "salary_max",
          "salary_max",
          "salary_max",
          "salary_max",
          "salary_max",
          "salary_max",
          "salary_max",
          "salary_max",
          "salary_max",
          "salary_max",
          "salary_max",
          "salary_max",
          "salary_max",
          "salary_max",
          "salary_max",
          "salary_max",
          "salary_max",
          "salary_max",
          "salary_max",
          "salary_max",
          "salary_max",
          "salary_max",
          "salary_max",
          "salary_max",
          "salary_max",
          "salary_max",
          "salary_max",
          "salary_max",
          "salary_max",
          "salary_max",
          "salary_max",
          "salary_max",
          "salary_max",
          "salary_max",
          "salary_max",
          "salary_max",
          "salary_max",
          "salary_max",
          "salary_max",
          "salary_max",
          "salary_max",
          "salary_max",
          "salary_max",
          "salary_max",
          "salary_max",
          "salary_max",
          "salary_max",
          "salary_max",
          "salary_max",
          "salary_max",
          "salary_max",
          "salary_max",
          "salary_max",
          "salary_max",
          "salary_max",
          "salary_max",
          "salary_max",
          "salary_max",
          "salary_max",
          "salary_max",
          "salary_max",
          "salary_max",
          "salary_max",
          "salary_max",
          "salary_max",
          "salary_max",
          "salary_max",
          "salary_max",
          "salary_max",
          "salary_max",
          "salary_max",
          "salary_max",
          "salary_max",
          "salary_max",
          "salary_max",
          "salary_max",
          "salary_max",
          "salary_max",
          "salary_max",
          "salary_max",
          "salary_max",
          "salary_max",
          "salary_max",
          "salary_max",
          "salary_max",
          "salary_max",
          "salary_max",
          "salary_max",
          "salary_max",
          "salary_max",
          "salary_max",
          "salary_max",
          "salary_max",
          "salary_max",
          "salary_max",
          "salary_max",
          "salary_max",
          "salary_max",
          "salary_max",
          "salary_max",
          "salary_max",
          "salary_max",
          "salary_max",
          "salary_max",
          "salary_max",
          "salary_max",
          "salary_max",
          "salary_max",
          "salary_max",
          "salary_max",
          "salary_max",
          "salary_max",
          "salary_max",
          "salary_max",
          "salary_max",
          "salary_max",
          "salary_max",
          "salary_max",
          "salary_max",
          "salary_max",
          "salary_max",
          "salary_max",
          "salary_max",
          "salary_max",
          "salary_max",
          "salary_max",
          "salary_max",
          "salary_max",
          "salary_max",
          "salary_max",
          "salary_max",
          "salary_max",
          "salary_max",
          "salary_max",
          "salary_max",
          "salary_max",
          "salary_max",
          "salary_max",
          "salary_max",
          "salary_max",
          "salary_max",
          "salary_max",
          "salary_max",
          "salary_max",
          "salary_max",
          "salary_max",
          "salary_max",
          "salary_max",
          "salary_max",
          "salary_max",
          "salary_max",
          "salary_max",
          "salary_max",
          "salary_max",
          "salary_max",
          "salary_max",
          "salary_max",
          "salary_max",
          "salary_max",
          "salary_max",
          "salary_max",
          "salary_max",
          "salary_max",
          "salary_max",
          "salary_max",
          "salary_max",
          "salary_max",
          "salary_max",
          "salary_max",
          "salary_max",
          "salary_max",
          "salary_max",
          "salary_max",
          "salary_max",
          "salary_max",
          "salary_max",
          "salary_max",
          "salary_max",
          "salary_max",
          "salary_max",
          "salary_max",
          "salary_max",
          "salary_max",
          "salary_max",
          "salary_max",
          "salary_max",
          "salary_max",
          "salary_max",
          "salary_max",
          "salary_max",
          "salary_max",
          "salary_max",
          "salary_max",
          "salary_max",
          "salary_max",
          "salary_max",
          "salary_max",
          "salary_max",
          "salary_max",
          "salary_max",
          "salary_max",
          "salary_max",
          "salary_max",
          "salary_max",
          "salary_max",
          "salary_max",
          "salary_max",
          "salary_max",
          "salary_max",
          "salary_max",
          "salary_max",
          "salary_max",
          "salary_max",
          "salary_max",
          "salary_max",
          "salary_max"
         ],
         "y0": " ",
         "yaxis": "y"
        }
       ],
       "layout": {
        "boxmode": "group",
        "height": 400,
        "legend": {
         "tracegroupgap": 0
        },
        "margin": {
         "t": 60
        },
        "template": {
         "data": {
          "bar": [
           {
            "error_x": {
             "color": "#2a3f5f"
            },
            "error_y": {
             "color": "#2a3f5f"
            },
            "marker": {
             "line": {
              "color": "#E5ECF6",
              "width": 0.5
             },
             "pattern": {
              "fillmode": "overlay",
              "size": 10,
              "solidity": 0.2
             }
            },
            "type": "bar"
           }
          ],
          "barpolar": [
           {
            "marker": {
             "line": {
              "color": "#E5ECF6",
              "width": 0.5
             },
             "pattern": {
              "fillmode": "overlay",
              "size": 10,
              "solidity": 0.2
             }
            },
            "type": "barpolar"
           }
          ],
          "carpet": [
           {
            "aaxis": {
             "endlinecolor": "#2a3f5f",
             "gridcolor": "white",
             "linecolor": "white",
             "minorgridcolor": "white",
             "startlinecolor": "#2a3f5f"
            },
            "baxis": {
             "endlinecolor": "#2a3f5f",
             "gridcolor": "white",
             "linecolor": "white",
             "minorgridcolor": "white",
             "startlinecolor": "#2a3f5f"
            },
            "type": "carpet"
           }
          ],
          "choropleth": [
           {
            "colorbar": {
             "outlinewidth": 0,
             "ticks": ""
            },
            "type": "choropleth"
           }
          ],
          "contour": [
           {
            "colorbar": {
             "outlinewidth": 0,
             "ticks": ""
            },
            "colorscale": [
             [
              0,
              "#0d0887"
             ],
             [
              0.1111111111111111,
              "#46039f"
             ],
             [
              0.2222222222222222,
              "#7201a8"
             ],
             [
              0.3333333333333333,
              "#9c179e"
             ],
             [
              0.4444444444444444,
              "#bd3786"
             ],
             [
              0.5555555555555556,
              "#d8576b"
             ],
             [
              0.6666666666666666,
              "#ed7953"
             ],
             [
              0.7777777777777778,
              "#fb9f3a"
             ],
             [
              0.8888888888888888,
              "#fdca26"
             ],
             [
              1,
              "#f0f921"
             ]
            ],
            "type": "contour"
           }
          ],
          "contourcarpet": [
           {
            "colorbar": {
             "outlinewidth": 0,
             "ticks": ""
            },
            "type": "contourcarpet"
           }
          ],
          "heatmap": [
           {
            "colorbar": {
             "outlinewidth": 0,
             "ticks": ""
            },
            "colorscale": [
             [
              0,
              "#0d0887"
             ],
             [
              0.1111111111111111,
              "#46039f"
             ],
             [
              0.2222222222222222,
              "#7201a8"
             ],
             [
              0.3333333333333333,
              "#9c179e"
             ],
             [
              0.4444444444444444,
              "#bd3786"
             ],
             [
              0.5555555555555556,
              "#d8576b"
             ],
             [
              0.6666666666666666,
              "#ed7953"
             ],
             [
              0.7777777777777778,
              "#fb9f3a"
             ],
             [
              0.8888888888888888,
              "#fdca26"
             ],
             [
              1,
              "#f0f921"
             ]
            ],
            "type": "heatmap"
           }
          ],
          "heatmapgl": [
           {
            "colorbar": {
             "outlinewidth": 0,
             "ticks": ""
            },
            "colorscale": [
             [
              0,
              "#0d0887"
             ],
             [
              0.1111111111111111,
              "#46039f"
             ],
             [
              0.2222222222222222,
              "#7201a8"
             ],
             [
              0.3333333333333333,
              "#9c179e"
             ],
             [
              0.4444444444444444,
              "#bd3786"
             ],
             [
              0.5555555555555556,
              "#d8576b"
             ],
             [
              0.6666666666666666,
              "#ed7953"
             ],
             [
              0.7777777777777778,
              "#fb9f3a"
             ],
             [
              0.8888888888888888,
              "#fdca26"
             ],
             [
              1,
              "#f0f921"
             ]
            ],
            "type": "heatmapgl"
           }
          ],
          "histogram": [
           {
            "marker": {
             "pattern": {
              "fillmode": "overlay",
              "size": 10,
              "solidity": 0.2
             }
            },
            "type": "histogram"
           }
          ],
          "histogram2d": [
           {
            "colorbar": {
             "outlinewidth": 0,
             "ticks": ""
            },
            "colorscale": [
             [
              0,
              "#0d0887"
             ],
             [
              0.1111111111111111,
              "#46039f"
             ],
             [
              0.2222222222222222,
              "#7201a8"
             ],
             [
              0.3333333333333333,
              "#9c179e"
             ],
             [
              0.4444444444444444,
              "#bd3786"
             ],
             [
              0.5555555555555556,
              "#d8576b"
             ],
             [
              0.6666666666666666,
              "#ed7953"
             ],
             [
              0.7777777777777778,
              "#fb9f3a"
             ],
             [
              0.8888888888888888,
              "#fdca26"
             ],
             [
              1,
              "#f0f921"
             ]
            ],
            "type": "histogram2d"
           }
          ],
          "histogram2dcontour": [
           {
            "colorbar": {
             "outlinewidth": 0,
             "ticks": ""
            },
            "colorscale": [
             [
              0,
              "#0d0887"
             ],
             [
              0.1111111111111111,
              "#46039f"
             ],
             [
              0.2222222222222222,
              "#7201a8"
             ],
             [
              0.3333333333333333,
              "#9c179e"
             ],
             [
              0.4444444444444444,
              "#bd3786"
             ],
             [
              0.5555555555555556,
              "#d8576b"
             ],
             [
              0.6666666666666666,
              "#ed7953"
             ],
             [
              0.7777777777777778,
              "#fb9f3a"
             ],
             [
              0.8888888888888888,
              "#fdca26"
             ],
             [
              1,
              "#f0f921"
             ]
            ],
            "type": "histogram2dcontour"
           }
          ],
          "mesh3d": [
           {
            "colorbar": {
             "outlinewidth": 0,
             "ticks": ""
            },
            "type": "mesh3d"
           }
          ],
          "parcoords": [
           {
            "line": {
             "colorbar": {
              "outlinewidth": 0,
              "ticks": ""
             }
            },
            "type": "parcoords"
           }
          ],
          "pie": [
           {
            "automargin": true,
            "type": "pie"
           }
          ],
          "scatter": [
           {
            "fillpattern": {
             "fillmode": "overlay",
             "size": 10,
             "solidity": 0.2
            },
            "type": "scatter"
           }
          ],
          "scatter3d": [
           {
            "line": {
             "colorbar": {
              "outlinewidth": 0,
              "ticks": ""
             }
            },
            "marker": {
             "colorbar": {
              "outlinewidth": 0,
              "ticks": ""
             }
            },
            "type": "scatter3d"
           }
          ],
          "scattercarpet": [
           {
            "marker": {
             "colorbar": {
              "outlinewidth": 0,
              "ticks": ""
             }
            },
            "type": "scattercarpet"
           }
          ],
          "scattergeo": [
           {
            "marker": {
             "colorbar": {
              "outlinewidth": 0,
              "ticks": ""
             }
            },
            "type": "scattergeo"
           }
          ],
          "scattergl": [
           {
            "marker": {
             "colorbar": {
              "outlinewidth": 0,
              "ticks": ""
             }
            },
            "type": "scattergl"
           }
          ],
          "scattermapbox": [
           {
            "marker": {
             "colorbar": {
              "outlinewidth": 0,
              "ticks": ""
             }
            },
            "type": "scattermapbox"
           }
          ],
          "scatterpolar": [
           {
            "marker": {
             "colorbar": {
              "outlinewidth": 0,
              "ticks": ""
             }
            },
            "type": "scatterpolar"
           }
          ],
          "scatterpolargl": [
           {
            "marker": {
             "colorbar": {
              "outlinewidth": 0,
              "ticks": ""
             }
            },
            "type": "scatterpolargl"
           }
          ],
          "scatterternary": [
           {
            "marker": {
             "colorbar": {
              "outlinewidth": 0,
              "ticks": ""
             }
            },
            "type": "scatterternary"
           }
          ],
          "surface": [
           {
            "colorbar": {
             "outlinewidth": 0,
             "ticks": ""
            },
            "colorscale": [
             [
              0,
              "#0d0887"
             ],
             [
              0.1111111111111111,
              "#46039f"
             ],
             [
              0.2222222222222222,
              "#7201a8"
             ],
             [
              0.3333333333333333,
              "#9c179e"
             ],
             [
              0.4444444444444444,
              "#bd3786"
             ],
             [
              0.5555555555555556,
              "#d8576b"
             ],
             [
              0.6666666666666666,
              "#ed7953"
             ],
             [
              0.7777777777777778,
              "#fb9f3a"
             ],
             [
              0.8888888888888888,
              "#fdca26"
             ],
             [
              1,
              "#f0f921"
             ]
            ],
            "type": "surface"
           }
          ],
          "table": [
           {
            "cells": {
             "fill": {
              "color": "#EBF0F8"
             },
             "line": {
              "color": "white"
             }
            },
            "header": {
             "fill": {
              "color": "#C8D4E3"
             },
             "line": {
              "color": "white"
             }
            },
            "type": "table"
           }
          ]
         },
         "layout": {
          "annotationdefaults": {
           "arrowcolor": "#2a3f5f",
           "arrowhead": 0,
           "arrowwidth": 1
          },
          "autotypenumbers": "strict",
          "coloraxis": {
           "colorbar": {
            "outlinewidth": 0,
            "ticks": ""
           }
          },
          "colorscale": {
           "diverging": [
            [
             0,
             "#8e0152"
            ],
            [
             0.1,
             "#c51b7d"
            ],
            [
             0.2,
             "#de77ae"
            ],
            [
             0.3,
             "#f1b6da"
            ],
            [
             0.4,
             "#fde0ef"
            ],
            [
             0.5,
             "#f7f7f7"
            ],
            [
             0.6,
             "#e6f5d0"
            ],
            [
             0.7,
             "#b8e186"
            ],
            [
             0.8,
             "#7fbc41"
            ],
            [
             0.9,
             "#4d9221"
            ],
            [
             1,
             "#276419"
            ]
           ],
           "sequential": [
            [
             0,
             "#0d0887"
            ],
            [
             0.1111111111111111,
             "#46039f"
            ],
            [
             0.2222222222222222,
             "#7201a8"
            ],
            [
             0.3333333333333333,
             "#9c179e"
            ],
            [
             0.4444444444444444,
             "#bd3786"
            ],
            [
             0.5555555555555556,
             "#d8576b"
            ],
            [
             0.6666666666666666,
             "#ed7953"
            ],
            [
             0.7777777777777778,
             "#fb9f3a"
            ],
            [
             0.8888888888888888,
             "#fdca26"
            ],
            [
             1,
             "#f0f921"
            ]
           ],
           "sequentialminus": [
            [
             0,
             "#0d0887"
            ],
            [
             0.1111111111111111,
             "#46039f"
            ],
            [
             0.2222222222222222,
             "#7201a8"
            ],
            [
             0.3333333333333333,
             "#9c179e"
            ],
            [
             0.4444444444444444,
             "#bd3786"
            ],
            [
             0.5555555555555556,
             "#d8576b"
            ],
            [
             0.6666666666666666,
             "#ed7953"
            ],
            [
             0.7777777777777778,
             "#fb9f3a"
            ],
            [
             0.8888888888888888,
             "#fdca26"
            ],
            [
             1,
             "#f0f921"
            ]
           ]
          },
          "colorway": [
           "#636efa",
           "#EF553B",
           "#00cc96",
           "#ab63fa",
           "#FFA15A",
           "#19d3f3",
           "#FF6692",
           "#B6E880",
           "#FF97FF",
           "#FECB52"
          ],
          "font": {
           "color": "#2a3f5f"
          },
          "geo": {
           "bgcolor": "white",
           "lakecolor": "white",
           "landcolor": "#E5ECF6",
           "showlakes": true,
           "showland": true,
           "subunitcolor": "white"
          },
          "hoverlabel": {
           "align": "left"
          },
          "hovermode": "closest",
          "mapbox": {
           "style": "light"
          },
          "paper_bgcolor": "white",
          "plot_bgcolor": "#E5ECF6",
          "polar": {
           "angularaxis": {
            "gridcolor": "white",
            "linecolor": "white",
            "ticks": ""
           },
           "bgcolor": "#E5ECF6",
           "radialaxis": {
            "gridcolor": "white",
            "linecolor": "white",
            "ticks": ""
           }
          },
          "scene": {
           "xaxis": {
            "backgroundcolor": "#E5ECF6",
            "gridcolor": "white",
            "gridwidth": 2,
            "linecolor": "white",
            "showbackground": true,
            "ticks": "",
            "zerolinecolor": "white"
           },
           "yaxis": {
            "backgroundcolor": "#E5ECF6",
            "gridcolor": "white",
            "gridwidth": 2,
            "linecolor": "white",
            "showbackground": true,
            "ticks": "",
            "zerolinecolor": "white"
           },
           "zaxis": {
            "backgroundcolor": "#E5ECF6",
            "gridcolor": "white",
            "gridwidth": 2,
            "linecolor": "white",
            "showbackground": true,
            "ticks": "",
            "zerolinecolor": "white"
           }
          },
          "shapedefaults": {
           "line": {
            "color": "#2a3f5f"
           }
          },
          "ternary": {
           "aaxis": {
            "gridcolor": "white",
            "linecolor": "white",
            "ticks": ""
           },
           "baxis": {
            "gridcolor": "white",
            "linecolor": "white",
            "ticks": ""
           },
           "bgcolor": "#E5ECF6",
           "caxis": {
            "gridcolor": "white",
            "linecolor": "white",
            "ticks": ""
           }
          },
          "title": {
           "x": 0.05
          },
          "xaxis": {
           "automargin": true,
           "gridcolor": "white",
           "linecolor": "white",
           "ticks": "",
           "title": {
            "standoff": 15
           },
           "zerolinecolor": "white",
           "zerolinewidth": 2
          },
          "yaxis": {
           "automargin": true,
           "gridcolor": "white",
           "linecolor": "white",
           "ticks": "",
           "title": {
            "standoff": 15
           },
           "zerolinecolor": "white",
           "zerolinewidth": 2
          }
         }
        },
        "width": 600,
        "xaxis": {
         "anchor": "y",
         "domain": [
          0,
          1
         ],
         "title": {
          "text": "value"
         }
        },
        "yaxis": {
         "anchor": "x",
         "domain": [
          0,
          1
         ],
         "title": {
          "text": "variable"
         }
        }
       }
      }
     },
     "metadata": {},
     "output_type": "display_data"
    }
   ],
   "source": [
    "fig = px.box(df, x=['salary_min', 'salary_max'],\n",
    "                   width=600, height=400)\n",
    "fig.show()"
   ]
  },
  {
   "cell_type": "code",
   "execution_count": 4,
   "id": "4afc1ab5",
   "metadata": {},
   "outputs": [
    {
     "data": {
      "image/png": "[encoded data removed]",
      "text/plain": [
       "<Figure size 432x288 with 1 Axes>"
      ]
     },
     "metadata": {
      "needs_background": "light"
     },
     "output_type": "display_data"
    }
   ],
   "source": [
    "plt.hist(data=df, x='salary_min', label= 'Minimum Salary')\n",
    "plt.hist(data=df, x='salary_max', label= 'Maximum Salary')\n",
    "plt.xlabel('Salary')\n",
    "plt.ylabel('Count')\n",
    "plt.legend()\n",
    "plt.show()"
   ]
  },
  {
   "cell_type": "code",
   "execution_count": 5,
   "id": "8161b113-a999-4471-bc82-435f48f9e300",
   "metadata": {},
   "outputs": [
    {
     "data": {
      "text/html": [
       "<div>\n",
       "<style scoped>\n",
       "    .dataframe tbody tr th:only-of-type {\n",
       "        vertical-align: middle;\n",
       "    }\n",
       "\n",
       "    .dataframe tbody tr th {\n",
       "        vertical-align: top;\n",
       "    }\n",
       "\n",
       "    .dataframe thead th {\n",
       "        text-align: right;\n",
       "    }\n",
       "</style>\n",
       "<table border=\"1\" class=\"dataframe\">\n",
       "  <thead>\n",
       "    <tr style=\"text-align: right;\">\n",
       "      <th></th>\n",
       "      <th>salary_min</th>\n",
       "      <th>salary_max</th>\n",
       "    </tr>\n",
       "  </thead>\n",
       "  <tbody>\n",
       "    <tr>\n",
       "      <th>count</th>\n",
       "      <td>608.000000</td>\n",
       "      <td>608.000000</td>\n",
       "    </tr>\n",
       "    <tr>\n",
       "      <th>mean</th>\n",
       "      <td>72416.986842</td>\n",
       "      <td>94996.296053</td>\n",
       "    </tr>\n",
       "    <tr>\n",
       "      <th>std</th>\n",
       "      <td>21438.596849</td>\n",
       "      <td>30316.291124</td>\n",
       "    </tr>\n",
       "    <tr>\n",
       "      <th>min</th>\n",
       "      <td>20000.000000</td>\n",
       "      <td>30000.000000</td>\n",
       "    </tr>\n",
       "    <tr>\n",
       "      <th>25%</th>\n",
       "      <td>56618.000000</td>\n",
       "      <td>70300.000000</td>\n",
       "    </tr>\n",
       "    <tr>\n",
       "      <th>50%</th>\n",
       "      <td>69915.000000</td>\n",
       "      <td>90000.000000</td>\n",
       "    </tr>\n",
       "    <tr>\n",
       "      <th>75%</th>\n",
       "      <td>85000.000000</td>\n",
       "      <td>118754.000000</td>\n",
       "    </tr>\n",
       "    <tr>\n",
       "      <th>max</th>\n",
       "      <td>137500.000000</td>\n",
       "      <td>150000.000000</td>\n",
       "    </tr>\n",
       "  </tbody>\n",
       "</table>\n",
       "</div>"
      ],
      "text/plain": [
       "          salary_min     salary_max\n",
       "count     608.000000     608.000000\n",
       "mean    72416.986842   94996.296053\n",
       "std     21438.596849   30316.291124\n",
       "min     20000.000000   30000.000000\n",
       "25%     56618.000000   70300.000000\n",
       "50%     69915.000000   90000.000000\n",
       "75%     85000.000000  118754.000000\n",
       "max    137500.000000  150000.000000"
      ]
     },
     "execution_count": 5,
     "metadata": {},
     "output_type": "execute_result"
    }
   ],
   "source": [
    "df.describe()\n"
   ]
  },
  {
   "cell_type": "markdown",
   "id": "8c4ed346",
   "metadata": {},
   "source": [
    "Create New DataFrame that has no NaN salary values for the Visualizations"
   ]
  },
  {
   "cell_type": "code",
   "execution_count": 6,
   "id": "d5ae3dbd-8824-4cc1-b6cb-afaa1bfee17c",
   "metadata": {},
   "outputs": [
    {
     "data": {
      "text/html": [
       "<div>\n",
       "<style scoped>\n",
       "    .dataframe tbody tr th:only-of-type {\n",
       "        vertical-align: middle;\n",
       "    }\n",
       "\n",
       "    .dataframe tbody tr th {\n",
       "        vertical-align: top;\n",
       "    }\n",
       "\n",
       "    .dataframe thead th {\n",
       "        text-align: right;\n",
       "    }\n",
       "</style>\n",
       "<table border=\"1\" class=\"dataframe\">\n",
       "  <thead>\n",
       "    <tr style=\"text-align: right;\">\n",
       "      <th></th>\n",
       "      <th>titles</th>\n",
       "      <th>company</th>\n",
       "      <th>job_desc</th>\n",
       "      <th>location</th>\n",
       "      <th>salary_min</th>\n",
       "      <th>salary_max</th>\n",
       "      <th>city</th>\n",
       "      <th>state</th>\n",
       "    </tr>\n",
       "  </thead>\n",
       "  <tbody>\n",
       "    <tr>\n",
       "      <th>1</th>\n",
       "      <td>Statistical Data Analyst</td>\n",
       "      <td>University of South Florida</td>\n",
       "      <td>Dept Number/Name: 0-6414-000 / College of Publ...</td>\n",
       "      <td>Tampa FL 33620</td>\n",
       "      <td>50000.0</td>\n",
       "      <td>61050.0</td>\n",
       "      <td>Tampa</td>\n",
       "      <td>Florida</td>\n",
       "    </tr>\n",
       "    <tr>\n",
       "      <th>5</th>\n",
       "      <td>Applied Data Science Analyst (Remote Friendly)</td>\n",
       "      <td>Clark Associates</td>\n",
       "      <td>Location: Remote Job Summary: WebstaurantStore...</td>\n",
       "      <td>Lititz PA 17543</td>\n",
       "      <td>60000.0</td>\n",
       "      <td>110000.0</td>\n",
       "      <td>Lititz</td>\n",
       "      <td>Pennsylvania</td>\n",
       "    </tr>\n",
       "    <tr>\n",
       "      <th>8</th>\n",
       "      <td>Business Analyst</td>\n",
       "      <td>Cyber Tech Group</td>\n",
       "      <td>Department:      Project Management     P...</td>\n",
       "      <td>NaN</td>\n",
       "      <td>65000.0</td>\n",
       "      <td>65000.0</td>\n",
       "      <td>NaN</td>\n",
       "      <td>NaN</td>\n",
       "    </tr>\n",
       "    <tr>\n",
       "      <th>16</th>\n",
       "      <td>GIS Analyst Sr</td>\n",
       "      <td>Jefferson County Colorado</td>\n",
       "      <td>CURRENT Jefferson County employees Do NOT appl...</td>\n",
       "      <td>Golden CO</td>\n",
       "      <td>76527.0</td>\n",
       "      <td>118617.0</td>\n",
       "      <td>Golden</td>\n",
       "      <td>Colorado</td>\n",
       "    </tr>\n",
       "    <tr>\n",
       "      <th>18</th>\n",
       "      <td>Data Analyst with ServiceNow</td>\n",
       "      <td>Hopewell Health</td>\n",
       "      <td>Job Type: Job Category: ITJob DescriptionRole ...</td>\n",
       "      <td>Malvern PA</td>\n",
       "      <td>80000.0</td>\n",
       "      <td>80000.0</td>\n",
       "      <td>Malvern</td>\n",
       "      <td>Pennsylvania</td>\n",
       "    </tr>\n",
       "  </tbody>\n",
       "</table>\n",
       "</div>"
      ],
      "text/plain": [
       "                                            titles  \\\n",
       "1                         Statistical Data Analyst   \n",
       "5   Applied Data Science Analyst (Remote Friendly)   \n",
       "8                                 Business Analyst   \n",
       "16                                  GIS Analyst Sr   \n",
       "18                    Data Analyst with ServiceNow   \n",
       "\n",
       "                        company  \\\n",
       "1   University of South Florida   \n",
       "5              Clark Associates   \n",
       "8              Cyber Tech Group   \n",
       "16    Jefferson County Colorado   \n",
       "18              Hopewell Health   \n",
       "\n",
       "                                             job_desc         location  \\\n",
       "1   Dept Number/Name: 0-6414-000 / College of Publ...   Tampa FL 33620   \n",
       "5   Location: Remote Job Summary: WebstaurantStore...  Lititz PA 17543   \n",
       "8        Department:      Project Management     P...              NaN   \n",
       "16  CURRENT Jefferson County employees Do NOT appl...        Golden CO   \n",
       "18  Job Type: Job Category: ITJob DescriptionRole ...       Malvern PA   \n",
       "\n",
       "    salary_min  salary_max     city         state  \n",
       "1      50000.0     61050.0    Tampa       Florida  \n",
       "5      60000.0    110000.0   Lititz  Pennsylvania  \n",
       "8      65000.0     65000.0      NaN           NaN  \n",
       "16     76527.0    118617.0   Golden      Colorado  \n",
       "18     80000.0     80000.0  Malvern  Pennsylvania  "
      ]
     },
     "execution_count": 6,
     "metadata": {},
     "output_type": "execute_result"
    }
   ],
   "source": [
    "df2 = df.dropna(subset=['salary_min', 'salary_max'], axis=0)\n",
    "df2.head()\n"
   ]
  },
  {
   "cell_type": "code",
   "execution_count": 7,
   "id": "c684fa4c-3a28-45f9-8e57-97307b0c4fdb",
   "metadata": {},
   "outputs": [
    {
     "data": {
      "text/html": [
       "<div>\n",
       "<style scoped>\n",
       "    .dataframe tbody tr th:only-of-type {\n",
       "        vertical-align: middle;\n",
       "    }\n",
       "\n",
       "    .dataframe tbody tr th {\n",
       "        vertical-align: top;\n",
       "    }\n",
       "\n",
       "    .dataframe thead th {\n",
       "        text-align: right;\n",
       "    }\n",
       "</style>\n",
       "<table border=\"1\" class=\"dataframe\">\n",
       "  <thead>\n",
       "    <tr style=\"text-align: right;\">\n",
       "      <th></th>\n",
       "      <th>city</th>\n",
       "      <th>counts</th>\n",
       "    </tr>\n",
       "  </thead>\n",
       "  <tbody>\n",
       "    <tr>\n",
       "      <th>11</th>\n",
       "      <td>Austin</td>\n",
       "      <td>26</td>\n",
       "    </tr>\n",
       "    <tr>\n",
       "      <th>127</th>\n",
       "      <td>New York</td>\n",
       "      <td>18</td>\n",
       "    </tr>\n",
       "    <tr>\n",
       "      <th>53</th>\n",
       "      <td>Denver</td>\n",
       "      <td>18</td>\n",
       "    </tr>\n",
       "    <tr>\n",
       "      <th>13</th>\n",
       "      <td>Baltimore</td>\n",
       "      <td>13</td>\n",
       "    </tr>\n",
       "    <tr>\n",
       "      <th>211</th>\n",
       "      <td>Washington</td>\n",
       "      <td>13</td>\n",
       "    </tr>\n",
       "    <tr>\n",
       "      <th>50</th>\n",
       "      <td>Dallas</td>\n",
       "      <td>11</td>\n",
       "    </tr>\n",
       "    <tr>\n",
       "      <th>113</th>\n",
       "      <td>Los Angeles</td>\n",
       "      <td>10</td>\n",
       "    </tr>\n",
       "    <tr>\n",
       "      <th>185</th>\n",
       "      <td>Seattle</td>\n",
       "      <td>10</td>\n",
       "    </tr>\n",
       "    <tr>\n",
       "      <th>83</th>\n",
       "      <td>Hartford</td>\n",
       "      <td>8</td>\n",
       "    </tr>\n",
       "    <tr>\n",
       "      <th>10</th>\n",
       "      <td>Atlanta</td>\n",
       "      <td>8</td>\n",
       "    </tr>\n",
       "    <tr>\n",
       "      <th>35</th>\n",
       "      <td>Chicago</td>\n",
       "      <td>7</td>\n",
       "    </tr>\n",
       "  </tbody>\n",
       "</table>\n",
       "</div>"
      ],
      "text/plain": [
       "            city  counts\n",
       "11        Austin      26\n",
       "127     New York      18\n",
       "53        Denver      18\n",
       "13     Baltimore      13\n",
       "211   Washington      13\n",
       "50        Dallas      11\n",
       "113  Los Angeles      10\n",
       "185      Seattle      10\n",
       "83      Hartford       8\n",
       "10       Atlanta       8\n",
       "35       Chicago       7"
      ]
     },
     "execution_count": 7,
     "metadata": {},
     "output_type": "execute_result"
    }
   ],
   "source": [
    "df2 = df2.groupby(['city']).size().to_frame(name='counts')\n",
    "df2 = df2.reset_index()\n",
    "df2 = df2.sort_values(['counts'], ascending=False)\n",
    "\n",
    "df2 = df2[df2['counts'] >= 7]\n",
    "df2\n"
   ]
  },
  {
   "cell_type": "code",
   "execution_count": 8,
   "id": "d01bf8fa-0264-4811-9a85-ed5d0552d8a9",
   "metadata": {},
   "outputs": [],
   "source": [
    "df3 = df.groupby('city').mean('salary_min').reset_index()\n",
    "df3 = df3.sort_values(['salary_min'], ascending=False)\n",
    "df_top_cities = pd.merge(df2, df3, how='left')\n",
    "df_top_cities = df_top_cities.sort_values(['salary_min'], ascending=False)\n",
    "df_top_cities = df_top_cities.head(10)\n"
   ]
  },
  {
   "cell_type": "code",
   "execution_count": 9,
   "id": "c90e2290",
   "metadata": {},
   "outputs": [
    {
     "data": {
      "text/html": [
       "<div>\n",
       "<style scoped>\n",
       "    .dataframe tbody tr th:only-of-type {\n",
       "        vertical-align: middle;\n",
       "    }\n",
       "\n",
       "    .dataframe tbody tr th {\n",
       "        vertical-align: top;\n",
       "    }\n",
       "\n",
       "    .dataframe thead th {\n",
       "        text-align: right;\n",
       "    }\n",
       "</style>\n",
       "<table border=\"1\" class=\"dataframe\">\n",
       "  <thead>\n",
       "    <tr style=\"text-align: right;\">\n",
       "      <th></th>\n",
       "      <th>titles</th>\n",
       "      <th>company</th>\n",
       "      <th>job_desc</th>\n",
       "      <th>location</th>\n",
       "      <th>salary_min</th>\n",
       "      <th>salary_max</th>\n",
       "      <th>city</th>\n",
       "      <th>state</th>\n",
       "    </tr>\n",
       "  </thead>\n",
       "  <tbody>\n",
       "    <tr>\n",
       "      <th>1</th>\n",
       "      <td>Statistical Data Analyst</td>\n",
       "      <td>University of South Florida</td>\n",
       "      <td>Dept Number/Name: 0-6414-000 / College of Publ...</td>\n",
       "      <td>Tampa FL 33620</td>\n",
       "      <td>50000.0</td>\n",
       "      <td>61050.0</td>\n",
       "      <td>Tampa</td>\n",
       "      <td>Florida</td>\n",
       "    </tr>\n",
       "    <tr>\n",
       "      <th>5</th>\n",
       "      <td>Applied Data Science Analyst (Remote Friendly)</td>\n",
       "      <td>Clark Associates</td>\n",
       "      <td>Location: Remote Job Summary: WebstaurantStore...</td>\n",
       "      <td>Lititz PA 17543</td>\n",
       "      <td>60000.0</td>\n",
       "      <td>110000.0</td>\n",
       "      <td>Lititz</td>\n",
       "      <td>Pennsylvania</td>\n",
       "    </tr>\n",
       "    <tr>\n",
       "      <th>8</th>\n",
       "      <td>Business Analyst</td>\n",
       "      <td>Cyber Tech Group</td>\n",
       "      <td>Department:      Project Management     P...</td>\n",
       "      <td>NaN</td>\n",
       "      <td>65000.0</td>\n",
       "      <td>65000.0</td>\n",
       "      <td>NaN</td>\n",
       "      <td>NaN</td>\n",
       "    </tr>\n",
       "    <tr>\n",
       "      <th>16</th>\n",
       "      <td>GIS Analyst Sr</td>\n",
       "      <td>Jefferson County Colorado</td>\n",
       "      <td>CURRENT Jefferson County employees Do NOT appl...</td>\n",
       "      <td>Golden CO</td>\n",
       "      <td>76527.0</td>\n",
       "      <td>118617.0</td>\n",
       "      <td>Golden</td>\n",
       "      <td>Colorado</td>\n",
       "    </tr>\n",
       "    <tr>\n",
       "      <th>18</th>\n",
       "      <td>Data Analyst with ServiceNow</td>\n",
       "      <td>Hopewell Health</td>\n",
       "      <td>Job Type: Job Category: ITJob DescriptionRole ...</td>\n",
       "      <td>Malvern PA</td>\n",
       "      <td>80000.0</td>\n",
       "      <td>80000.0</td>\n",
       "      <td>Malvern</td>\n",
       "      <td>Pennsylvania</td>\n",
       "    </tr>\n",
       "  </tbody>\n",
       "</table>\n",
       "</div>"
      ],
      "text/plain": [
       "                                            titles  \\\n",
       "1                         Statistical Data Analyst   \n",
       "5   Applied Data Science Analyst (Remote Friendly)   \n",
       "8                                 Business Analyst   \n",
       "16                                  GIS Analyst Sr   \n",
       "18                    Data Analyst with ServiceNow   \n",
       "\n",
       "                        company  \\\n",
       "1   University of South Florida   \n",
       "5              Clark Associates   \n",
       "8              Cyber Tech Group   \n",
       "16    Jefferson County Colorado   \n",
       "18              Hopewell Health   \n",
       "\n",
       "                                             job_desc         location  \\\n",
       "1   Dept Number/Name: 0-6414-000 / College of Publ...   Tampa FL 33620   \n",
       "5   Location: Remote Job Summary: WebstaurantStore...  Lititz PA 17543   \n",
       "8        Department:      Project Management     P...              NaN   \n",
       "16  CURRENT Jefferson County employees Do NOT appl...        Golden CO   \n",
       "18  Job Type: Job Category: ITJob DescriptionRole ...       Malvern PA   \n",
       "\n",
       "    salary_min  salary_max     city         state  \n",
       "1      50000.0     61050.0    Tampa       Florida  \n",
       "5      60000.0    110000.0   Lititz  Pennsylvania  \n",
       "8      65000.0     65000.0      NaN           NaN  \n",
       "16     76527.0    118617.0   Golden      Colorado  \n",
       "18     80000.0     80000.0  Malvern  Pennsylvania  "
      ]
     },
     "execution_count": 9,
     "metadata": {},
     "output_type": "execute_result"
    }
   ],
   "source": [
    "df5 = df.dropna(subset=['salary_min', 'salary_max'], axis=0)\n",
    "df5.head()"
   ]
  },
  {
   "cell_type": "code",
   "execution_count": 10,
   "id": "a8d493a8",
   "metadata": {},
   "outputs": [
    {
     "data": {
      "text/html": [
       "<div>\n",
       "<style scoped>\n",
       "    .dataframe tbody tr th:only-of-type {\n",
       "        vertical-align: middle;\n",
       "    }\n",
       "\n",
       "    .dataframe tbody tr th {\n",
       "        vertical-align: top;\n",
       "    }\n",
       "\n",
       "    .dataframe thead th {\n",
       "        text-align: right;\n",
       "    }\n",
       "</style>\n",
       "<table border=\"1\" class=\"dataframe\">\n",
       "  <thead>\n",
       "    <tr style=\"text-align: right;\">\n",
       "      <th></th>\n",
       "      <th>state</th>\n",
       "      <th>counts</th>\n",
       "    </tr>\n",
       "  </thead>\n",
       "  <tbody>\n",
       "    <tr>\n",
       "      <th>2</th>\n",
       "      <td>California</td>\n",
       "      <td>64</td>\n",
       "    </tr>\n",
       "    <tr>\n",
       "      <th>39</th>\n",
       "      <td>Texas</td>\n",
       "      <td>54</td>\n",
       "    </tr>\n",
       "    <tr>\n",
       "      <th>3</th>\n",
       "      <td>Colorado</td>\n",
       "      <td>54</td>\n",
       "    </tr>\n",
       "    <tr>\n",
       "      <th>28</th>\n",
       "      <td>New York</td>\n",
       "      <td>36</td>\n",
       "    </tr>\n",
       "    <tr>\n",
       "      <th>42</th>\n",
       "      <td>Virginia</td>\n",
       "      <td>32</td>\n",
       "    </tr>\n",
       "    <tr>\n",
       "      <th>43</th>\n",
       "      <td>Washington</td>\n",
       "      <td>30</td>\n",
       "    </tr>\n",
       "    <tr>\n",
       "      <th>18</th>\n",
       "      <td>Maryland</td>\n",
       "      <td>24</td>\n",
       "    </tr>\n",
       "    <tr>\n",
       "      <th>21</th>\n",
       "      <td>Minnesota</td>\n",
       "      <td>16</td>\n",
       "    </tr>\n",
       "    <tr>\n",
       "      <th>7</th>\n",
       "      <td>Florida</td>\n",
       "      <td>16</td>\n",
       "    </tr>\n",
       "    <tr>\n",
       "      <th>1</th>\n",
       "      <td>Arizona</td>\n",
       "      <td>13</td>\n",
       "    </tr>\n",
       "    <tr>\n",
       "      <th>19</th>\n",
       "      <td>Massachusetts</td>\n",
       "      <td>12</td>\n",
       "    </tr>\n",
       "    <tr>\n",
       "      <th>11</th>\n",
       "      <td>Illinois</td>\n",
       "      <td>11</td>\n",
       "    </tr>\n",
       "    <tr>\n",
       "      <th>4</th>\n",
       "      <td>Connecticut</td>\n",
       "      <td>11</td>\n",
       "    </tr>\n",
       "  </tbody>\n",
       "</table>\n",
       "</div>"
      ],
      "text/plain": [
       "            state  counts\n",
       "2      California      64\n",
       "39          Texas      54\n",
       "3        Colorado      54\n",
       "28       New York      36\n",
       "42       Virginia      32\n",
       "43     Washington      30\n",
       "18       Maryland      24\n",
       "21      Minnesota      16\n",
       "7         Florida      16\n",
       "1         Arizona      13\n",
       "19  Massachusetts      12\n",
       "11       Illinois      11\n",
       "4     Connecticut      11"
      ]
     },
     "execution_count": 10,
     "metadata": {},
     "output_type": "execute_result"
    }
   ],
   "source": [
    "df5 = df5.groupby(['state']).size().to_frame(name='counts')\n",
    "df5 = df5.reset_index()\n",
    "df5 = df5.sort_values(['counts'], ascending=False)\n",
    "\n",
    "df5 = df5[df5['counts'] >= 11]\n",
    "df5"
   ]
  },
  {
   "cell_type": "code",
   "execution_count": 11,
   "id": "70af6b22",
   "metadata": {},
   "outputs": [],
   "source": [
    "df6 = df.groupby('state').mean('salary_min').reset_index()\n",
    "df6 = df6.sort_values(['salary_min'], ascending=False)\n",
    "df_top_states = pd.merge(df5, df6, how='left')\n",
    "df_top_states = df_top_states.sort_values(['salary_min'], ascending=False)\n",
    "df_top_states = df_top_states.head(10)\n"
   ]
  },
  {
   "cell_type": "markdown",
   "id": "bddcf37b-b4a1-4d73-a1ba-abf59973a1ad",
   "metadata": {},
   "source": [
    "Which Cities and have the Highest Average Minimum Salaries according to Jobs posted on Indeed\n"
   ]
  },
  {
   "cell_type": "code",
   "execution_count": 12,
   "id": "2ae53f88-e1f9-4f48-86d6-8024157845c0",
   "metadata": {},
   "outputs": [
    {
     "data": {
      "application/vnd.plotly.v1+json": {
       "config": {
        "plotlyServerURL": "https://plot.ly"
       },
       "data": [
        {
         "alignmentgroup": "True",
         "hovertemplate": "city=%{x}<br>salary_min=%{y}<extra></extra>",
         "legendgroup": "",
         "marker": {
          "color": "rgb(76,114,176)",
          "pattern": {
           "shape": ""
          }
         },
         "name": "",
         "offsetgroup": "",
         "orientation": "v",
         "showlegend": false,
         "textposition": "auto",
         "type": "bar",
         "x": [
          "Seattle",
          "Washington",
          "Los Angeles",
          "Hartford",
          "New York",
          "Chicago",
          "Atlanta",
          "Dallas",
          "Denver",
          "Austin"
         ],
         "xaxis": "x",
         "y": [
          86494.6,
          86407.38461538461,
          85391.5,
          84275,
          84047.05555555556,
          81000,
          74116.875,
          71767.54545454546,
          70577.33333333333,
          59705.5
         ],
         "yaxis": "y"
        }
       ],
       "layout": {
        "barmode": "relative",
        "height": 400,
        "legend": {
         "tracegroupgap": 0
        },
        "template": {
         "data": {
          "bar": [
           {
            "error_x": {
             "color": "rgb(36,36,36)"
            },
            "error_y": {
             "color": "rgb(36,36,36)"
            },
            "marker": {
             "line": {
              "color": "rgb(234,234,242)",
              "width": 0.5
             },
             "pattern": {
              "fillmode": "overlay",
              "size": 10,
              "solidity": 0.2
             }
            },
            "type": "bar"
           }
          ],
          "barpolar": [
           {
            "marker": {
             "line": {
              "color": "rgb(234,234,242)",
              "width": 0.5
             },
             "pattern": {
              "fillmode": "overlay",
              "size": 10,
              "solidity": 0.2
             }
            },
            "type": "barpolar"
           }
          ],
          "carpet": [
           {
            "aaxis": {
             "endlinecolor": "rgb(36,36,36)",
             "gridcolor": "white",
             "linecolor": "white",
             "minorgridcolor": "white",
             "startlinecolor": "rgb(36,36,36)"
            },
            "baxis": {
             "endlinecolor": "rgb(36,36,36)",
             "gridcolor": "white",
             "linecolor": "white",
             "minorgridcolor": "white",
             "startlinecolor": "rgb(36,36,36)"
            },
            "type": "carpet"
           }
          ],
          "choropleth": [
           {
            "colorbar": {
             "outlinewidth": 0,
             "tickcolor": "rgb(36,36,36)",
             "ticklen": 8,
             "ticks": "outside",
             "tickwidth": 2
            },
            "type": "choropleth"
           }
          ],
          "contour": [
           {
            "colorbar": {
             "outlinewidth": 0,
             "tickcolor": "rgb(36,36,36)",
             "ticklen": 8,
             "ticks": "outside",
             "tickwidth": 2
            },
            "colorscale": [
             [
              0,
              "rgb(2,4,25)"
             ],
             [
              0.06274509803921569,
              "rgb(24,15,41)"
             ],
             [
              0.12549019607843137,
              "rgb(47,23,57)"
             ],
             [
              0.18823529411764706,
              "rgb(71,28,72)"
             ],
             [
              0.25098039215686274,
              "rgb(97,30,82)"
             ],
             [
              0.3137254901960784,
              "rgb(123,30,89)"
             ],
             [
              0.3764705882352941,
              "rgb(150,27,91)"
             ],
             [
              0.4392156862745098,
              "rgb(177,22,88)"
             ],
             [
              0.5019607843137255,
              "rgb(203,26,79)"
             ],
             [
              0.5647058823529412,
              "rgb(223,47,67)"
             ],
             [
              0.6274509803921569,
              "rgb(236,76,61)"
             ],
             [
              0.6901960784313725,
              "rgb(242,107,73)"
             ],
             [
              0.7529411764705882,
              "rgb(244,135,95)"
             ],
             [
              0.8156862745098039,
              "rgb(245,162,122)"
             ],
             [
              0.8784313725490196,
              "rgb(246,188,153)"
             ],
             [
              0.9411764705882353,
              "rgb(247,212,187)"
             ],
             [
              1,
              "rgb(250,234,220)"
             ]
            ],
            "type": "contour"
           }
          ],
          "contourcarpet": [
           {
            "colorbar": {
             "outlinewidth": 0,
             "tickcolor": "rgb(36,36,36)",
             "ticklen": 8,
             "ticks": "outside",
             "tickwidth": 2
            },
            "type": "contourcarpet"
           }
          ],
          "heatmap": [
           {
            "colorbar": {
             "outlinewidth": 0,
             "tickcolor": "rgb(36,36,36)",
             "ticklen": 8,
             "ticks": "outside",
             "tickwidth": 2
            },
            "colorscale": [
             [
              0,
              "rgb(2,4,25)"
             ],
             [
              0.06274509803921569,
              "rgb(24,15,41)"
             ],
             [
              0.12549019607843137,
              "rgb(47,23,57)"
             ],
             [
              0.18823529411764706,
              "rgb(71,28,72)"
             ],
             [
              0.25098039215686274,
              "rgb(97,30,82)"
             ],
             [
              0.3137254901960784,
              "rgb(123,30,89)"
             ],
             [
              0.3764705882352941,
              "rgb(150,27,91)"
             ],
             [
              0.4392156862745098,
              "rgb(177,22,88)"
             ],
             [
              0.5019607843137255,
              "rgb(203,26,79)"
             ],
             [
              0.5647058823529412,
              "rgb(223,47,67)"
             ],
             [
              0.6274509803921569,
              "rgb(236,76,61)"
             ],
             [
              0.6901960784313725,
              "rgb(242,107,73)"
             ],
             [
              0.7529411764705882,
              "rgb(244,135,95)"
             ],
             [
              0.8156862745098039,
              "rgb(245,162,122)"
             ],
             [
              0.8784313725490196,
              "rgb(246,188,153)"
             ],
             [
              0.9411764705882353,
              "rgb(247,212,187)"
             ],
             [
              1,
              "rgb(250,234,220)"
             ]
            ],
            "type": "heatmap"
           }
          ],
          "heatmapgl": [
           {
            "colorbar": {
             "outlinewidth": 0,
             "tickcolor": "rgb(36,36,36)",
             "ticklen": 8,
             "ticks": "outside",
             "tickwidth": 2
            },
            "colorscale": [
             [
              0,
              "rgb(2,4,25)"
             ],
             [
              0.06274509803921569,
              "rgb(24,15,41)"
             ],
             [
              0.12549019607843137,
              "rgb(47,23,57)"
             ],
             [
              0.18823529411764706,
              "rgb(71,28,72)"
             ],
             [
              0.25098039215686274,
              "rgb(97,30,82)"
             ],
             [
              0.3137254901960784,
              "rgb(123,30,89)"
             ],
             [
              0.3764705882352941,
              "rgb(150,27,91)"
             ],
             [
              0.4392156862745098,
              "rgb(177,22,88)"
             ],
             [
              0.5019607843137255,
              "rgb(203,26,79)"
             ],
             [
              0.5647058823529412,
              "rgb(223,47,67)"
             ],
             [
              0.6274509803921569,
              "rgb(236,76,61)"
             ],
             [
              0.6901960784313725,
              "rgb(242,107,73)"
             ],
             [
              0.7529411764705882,
              "rgb(244,135,95)"
             ],
             [
              0.8156862745098039,
              "rgb(245,162,122)"
             ],
             [
              0.8784313725490196,
              "rgb(246,188,153)"
             ],
             [
              0.9411764705882353,
              "rgb(247,212,187)"
             ],
             [
              1,
              "rgb(250,234,220)"
             ]
            ],
            "type": "heatmapgl"
           }
          ],
          "histogram": [
           {
            "marker": {
             "pattern": {
              "fillmode": "overlay",
              "size": 10,
              "solidity": 0.2
             }
            },
            "type": "histogram"
           }
          ],
          "histogram2d": [
           {
            "colorbar": {
             "outlinewidth": 0,
             "tickcolor": "rgb(36,36,36)",
             "ticklen": 8,
             "ticks": "outside",
             "tickwidth": 2
            },
            "colorscale": [
             [
              0,
              "rgb(2,4,25)"
             ],
             [
              0.06274509803921569,
              "rgb(24,15,41)"
             ],
             [
              0.12549019607843137,
              "rgb(47,23,57)"
             ],
             [
              0.18823529411764706,
              "rgb(71,28,72)"
             ],
             [
              0.25098039215686274,
              "rgb(97,30,82)"
             ],
             [
              0.3137254901960784,
              "rgb(123,30,89)"
             ],
             [
              0.3764705882352941,
              "rgb(150,27,91)"
             ],
             [
              0.4392156862745098,
              "rgb(177,22,88)"
             ],
             [
              0.5019607843137255,
              "rgb(203,26,79)"
             ],
             [
              0.5647058823529412,
              "rgb(223,47,67)"
             ],
             [
              0.6274509803921569,
              "rgb(236,76,61)"
             ],
             [
              0.6901960784313725,
              "rgb(242,107,73)"
             ],
             [
              0.7529411764705882,
              "rgb(244,135,95)"
             ],
             [
              0.8156862745098039,
              "rgb(245,162,122)"
             ],
             [
              0.8784313725490196,
              "rgb(246,188,153)"
             ],
             [
              0.9411764705882353,
              "rgb(247,212,187)"
             ],
             [
              1,
              "rgb(250,234,220)"
             ]
            ],
            "type": "histogram2d"
           }
          ],
          "histogram2dcontour": [
           {
            "colorbar": {
             "outlinewidth": 0,
             "tickcolor": "rgb(36,36,36)",
             "ticklen": 8,
             "ticks": "outside",
             "tickwidth": 2
            },
            "colorscale": [
             [
              0,
              "rgb(2,4,25)"
             ],
             [
              0.06274509803921569,
              "rgb(24,15,41)"
             ],
             [
              0.12549019607843137,
              "rgb(47,23,57)"
             ],
             [
              0.18823529411764706,
              "rgb(71,28,72)"
             ],
             [
              0.25098039215686274,
              "rgb(97,30,82)"
             ],
             [
              0.3137254901960784,
              "rgb(123,30,89)"
             ],
             [
              0.3764705882352941,
              "rgb(150,27,91)"
             ],
             [
              0.4392156862745098,
              "rgb(177,22,88)"
             ],
             [
              0.5019607843137255,
              "rgb(203,26,79)"
             ],
             [
              0.5647058823529412,
              "rgb(223,47,67)"
             ],
             [
              0.6274509803921569,
              "rgb(236,76,61)"
             ],
             [
              0.6901960784313725,
              "rgb(242,107,73)"
             ],
             [
              0.7529411764705882,
              "rgb(244,135,95)"
             ],
             [
              0.8156862745098039,
              "rgb(245,162,122)"
             ],
             [
              0.8784313725490196,
              "rgb(246,188,153)"
             ],
             [
              0.9411764705882353,
              "rgb(247,212,187)"
             ],
             [
              1,
              "rgb(250,234,220)"
             ]
            ],
            "type": "histogram2dcontour"
           }
          ],
          "mesh3d": [
           {
            "colorbar": {
             "outlinewidth": 0,
             "tickcolor": "rgb(36,36,36)",
             "ticklen": 8,
             "ticks": "outside",
             "tickwidth": 2
            },
            "type": "mesh3d"
           }
          ],
          "parcoords": [
           {
            "line": {
             "colorbar": {
              "outlinewidth": 0,
              "tickcolor": "rgb(36,36,36)",
              "ticklen": 8,
              "ticks": "outside",
              "tickwidth": 2
             }
            },
            "type": "parcoords"
           }
          ],
          "pie": [
           {
            "automargin": true,
            "type": "pie"
           }
          ],
          "scatter": [
           {
            "fillpattern": {
             "fillmode": "overlay",
             "size": 10,
             "solidity": 0.2
            },
            "type": "scatter"
           }
          ],
          "scatter3d": [
           {
            "line": {
             "colorbar": {
              "outlinewidth": 0,
              "tickcolor": "rgb(36,36,36)",
              "ticklen": 8,
              "ticks": "outside",
              "tickwidth": 2
             }
            },
            "marker": {
             "colorbar": {
              "outlinewidth": 0,
              "tickcolor": "rgb(36,36,36)",
              "ticklen": 8,
              "ticks": "outside",
              "tickwidth": 2
             }
            },
            "type": "scatter3d"
           }
          ],
          "scattercarpet": [
           {
            "marker": {
             "colorbar": {
              "outlinewidth": 0,
              "tickcolor": "rgb(36,36,36)",
              "ticklen": 8,
              "ticks": "outside",
              "tickwidth": 2
             }
            },
            "type": "scattercarpet"
           }
          ],
          "scattergeo": [
           {
            "marker": {
             "colorbar": {
              "outlinewidth": 0,
              "tickcolor": "rgb(36,36,36)",
              "ticklen": 8,
              "ticks": "outside",
              "tickwidth": 2
             }
            },
            "type": "scattergeo"
           }
          ],
          "scattergl": [
           {
            "marker": {
             "colorbar": {
              "outlinewidth": 0,
              "tickcolor": "rgb(36,36,36)",
              "ticklen": 8,
              "ticks": "outside",
              "tickwidth": 2
             }
            },
            "type": "scattergl"
           }
          ],
          "scattermapbox": [
           {
            "marker": {
             "colorbar": {
              "outlinewidth": 0,
              "tickcolor": "rgb(36,36,36)",
              "ticklen": 8,
              "ticks": "outside",
              "tickwidth": 2
             }
            },
            "type": "scattermapbox"
           }
          ],
          "scatterpolar": [
           {
            "marker": {
             "colorbar": {
              "outlinewidth": 0,
              "tickcolor": "rgb(36,36,36)",
              "ticklen": 8,
              "ticks": "outside",
              "tickwidth": 2
             }
            },
            "type": "scatterpolar"
           }
          ],
          "scatterpolargl": [
           {
            "marker": {
             "colorbar": {
              "outlinewidth": 0,
              "tickcolor": "rgb(36,36,36)",
              "ticklen": 8,
              "ticks": "outside",
              "tickwidth": 2
             }
            },
            "type": "scatterpolargl"
           }
          ],
          "scatterternary": [
           {
            "marker": {
             "colorbar": {
              "outlinewidth": 0,
              "tickcolor": "rgb(36,36,36)",
              "ticklen": 8,
              "ticks": "outside",
              "tickwidth": 2
             }
            },
            "type": "scatterternary"
           }
          ],
          "surface": [
           {
            "colorbar": {
             "outlinewidth": 0,
             "tickcolor": "rgb(36,36,36)",
             "ticklen": 8,
             "ticks": "outside",
             "tickwidth": 2
            },
            "colorscale": [
             [
              0,
              "rgb(2,4,25)"
             ],
             [
              0.06274509803921569,
              "rgb(24,15,41)"
             ],
             [
              0.12549019607843137,
              "rgb(47,23,57)"
             ],
             [
              0.18823529411764706,
              "rgb(71,28,72)"
             ],
             [
              0.25098039215686274,
              "rgb(97,30,82)"
             ],
             [
              0.3137254901960784,
              "rgb(123,30,89)"
             ],
             [
              0.3764705882352941,
              "rgb(150,27,91)"
             ],
             [
              0.4392156862745098,
              "rgb(177,22,88)"
             ],
             [
              0.5019607843137255,
              "rgb(203,26,79)"
             ],
             [
              0.5647058823529412,
              "rgb(223,47,67)"
             ],
             [
              0.6274509803921569,
              "rgb(236,76,61)"
             ],
             [
              0.6901960784313725,
              "rgb(242,107,73)"
             ],
             [
              0.7529411764705882,
              "rgb(244,135,95)"
             ],
             [
              0.8156862745098039,
              "rgb(245,162,122)"
             ],
             [
              0.8784313725490196,
              "rgb(246,188,153)"
             ],
             [
              0.9411764705882353,
              "rgb(247,212,187)"
             ],
             [
              1,
              "rgb(250,234,220)"
             ]
            ],
            "type": "surface"
           }
          ],
          "table": [
           {
            "cells": {
             "fill": {
              "color": "rgb(231,231,240)"
             },
             "line": {
              "color": "white"
             }
            },
            "header": {
             "fill": {
              "color": "rgb(183,183,191)"
             },
             "line": {
              "color": "white"
             }
            },
            "type": "table"
           }
          ]
         },
         "layout": {
          "annotationdefaults": {
           "arrowcolor": "rgb(67,103,167)"
          },
          "autotypenumbers": "strict",
          "coloraxis": {
           "colorbar": {
            "outlinewidth": 0,
            "tickcolor": "rgb(36,36,36)",
            "ticklen": 8,
            "ticks": "outside",
            "tickwidth": 2
           }
          },
          "colorscale": {
           "sequential": [
            [
             0,
             "rgb(2,4,25)"
            ],
            [
             0.06274509803921569,
             "rgb(24,15,41)"
            ],
            [
             0.12549019607843137,
             "rgb(47,23,57)"
            ],
            [
             0.18823529411764706,
             "rgb(71,28,72)"
            ],
            [
             0.25098039215686274,
             "rgb(97,30,82)"
            ],
            [
             0.3137254901960784,
             "rgb(123,30,89)"
            ],
            [
             0.3764705882352941,
             "rgb(150,27,91)"
            ],
            [
             0.4392156862745098,
             "rgb(177,22,88)"
            ],
            [
             0.5019607843137255,
             "rgb(203,26,79)"
            ],
            [
             0.5647058823529412,
             "rgb(223,47,67)"
            ],
            [
             0.6274509803921569,
             "rgb(236,76,61)"
            ],
            [
             0.6901960784313725,
             "rgb(242,107,73)"
            ],
            [
             0.7529411764705882,
             "rgb(244,135,95)"
            ],
            [
             0.8156862745098039,
             "rgb(245,162,122)"
            ],
            [
             0.8784313725490196,
             "rgb(246,188,153)"
            ],
            [
             0.9411764705882353,
             "rgb(247,212,187)"
            ],
            [
             1,
             "rgb(250,234,220)"
            ]
           ],
           "sequentialminus": [
            [
             0,
             "rgb(2,4,25)"
            ],
            [
             0.06274509803921569,
             "rgb(24,15,41)"
            ],
            [
             0.12549019607843137,
             "rgb(47,23,57)"
            ],
            [
             0.18823529411764706,
             "rgb(71,28,72)"
            ],
            [
             0.25098039215686274,
             "rgb(97,30,82)"
            ],
            [
             0.3137254901960784,
             "rgb(123,30,89)"
            ],
            [
             0.3764705882352941,
             "rgb(150,27,91)"
            ],
            [
             0.4392156862745098,
             "rgb(177,22,88)"
            ],
            [
             0.5019607843137255,
             "rgb(203,26,79)"
            ],
            [
             0.5647058823529412,
             "rgb(223,47,67)"
            ],
            [
             0.6274509803921569,
             "rgb(236,76,61)"
            ],
            [
             0.6901960784313725,
             "rgb(242,107,73)"
            ],
            [
             0.7529411764705882,
             "rgb(244,135,95)"
            ],
            [
             0.8156862745098039,
             "rgb(245,162,122)"
            ],
            [
             0.8784313725490196,
             "rgb(246,188,153)"
            ],
            [
             0.9411764705882353,
             "rgb(247,212,187)"
            ],
            [
             1,
             "rgb(250,234,220)"
            ]
           ]
          },
          "colorway": [
           "rgb(76,114,176)",
           "rgb(221,132,82)",
           "rgb(85,168,104)",
           "rgb(196,78,82)",
           "rgb(129,114,179)",
           "rgb(147,120,96)",
           "rgb(218,139,195)",
           "rgb(140,140,140)",
           "rgb(204,185,116)",
           "rgb(100,181,205)"
          ],
          "font": {
           "color": "rgb(36,36,36)"
          },
          "geo": {
           "bgcolor": "white",
           "lakecolor": "white",
           "landcolor": "rgb(234,234,242)",
           "showlakes": true,
           "showland": true,
           "subunitcolor": "white"
          },
          "hoverlabel": {
           "align": "left"
          },
          "hovermode": "closest",
          "paper_bgcolor": "white",
          "plot_bgcolor": "rgb(234,234,242)",
          "polar": {
           "angularaxis": {
            "gridcolor": "white",
            "linecolor": "white",
            "showgrid": true,
            "ticks": ""
           },
           "bgcolor": "rgb(234,234,242)",
           "radialaxis": {
            "gridcolor": "white",
            "linecolor": "white",
            "showgrid": true,
            "ticks": ""
           }
          },
          "scene": {
           "xaxis": {
            "backgroundcolor": "rgb(234,234,242)",
            "gridcolor": "white",
            "gridwidth": 2,
            "linecolor": "white",
            "showbackground": true,
            "showgrid": true,
            "ticks": "",
            "zerolinecolor": "white"
           },
           "yaxis": {
            "backgroundcolor": "rgb(234,234,242)",
            "gridcolor": "white",
            "gridwidth": 2,
            "linecolor": "white",
            "showbackground": true,
            "showgrid": true,
            "ticks": "",
            "zerolinecolor": "white"
           },
           "zaxis": {
            "backgroundcolor": "rgb(234,234,242)",
            "gridcolor": "white",
            "gridwidth": 2,
            "linecolor": "white",
            "showbackground": true,
            "showgrid": true,
            "ticks": "",
            "zerolinecolor": "white"
           }
          },
          "shapedefaults": {
           "fillcolor": "rgb(67,103,167)",
           "line": {
            "width": 0
           },
           "opacity": 0.5
          },
          "ternary": {
           "aaxis": {
            "gridcolor": "white",
            "linecolor": "white",
            "showgrid": true,
            "ticks": ""
           },
           "baxis": {
            "gridcolor": "white",
            "linecolor": "white",
            "showgrid": true,
            "ticks": ""
           },
           "bgcolor": "rgb(234,234,242)",
           "caxis": {
            "gridcolor": "white",
            "linecolor": "white",
            "showgrid": true,
            "ticks": ""
           }
          },
          "xaxis": {
           "automargin": true,
           "gridcolor": "white",
           "linecolor": "white",
           "showgrid": true,
           "ticks": "",
           "title": {
            "standoff": 15
           },
           "zerolinecolor": "white"
          },
          "yaxis": {
           "automargin": true,
           "gridcolor": "white",
           "linecolor": "white",
           "showgrid": true,
           "ticks": "",
           "title": {
            "standoff": 15
           },
           "zerolinecolor": "white"
          }
         }
        },
        "title": {
         "text": "Indeed Data Analysts Average salaries by the Cities in USA"
        },
        "width": 600,
        "xaxis": {
         "anchor": "y",
         "categoryorder": "total descending",
         "domain": [
          0,
          1
         ],
         "title": {
          "text": "city"
         }
        },
        "yaxis": {
         "anchor": "x",
         "domain": [
          0,
          1
         ],
         "title": {
          "text": "salary_min"
         }
        }
       }
      }
     },
     "metadata": {},
     "output_type": "display_data"
    }
   ],
   "source": [
    "fig = px.bar(df_top_cities, x='city', y='salary_min',\n",
    "             title='Indeed Data Analysts Average salaries by the Cities in USA',\n",
    "             width=600, height=400,\n",
    "             template='seaborn')\n",
    "fig.update_xaxes(categoryorder='total descending')\n",
    "fig.show()\n"
   ]
  },
  {
   "cell_type": "code",
   "execution_count": 13,
   "id": "ce8c4a99",
   "metadata": {},
   "outputs": [
    {
     "data": {
      "application/vnd.plotly.v1+json": {
       "config": {
        "plotlyServerURL": "https://plot.ly"
       },
       "data": [
        {
         "alignmentgroup": "True",
         "hovertemplate": "state=%{x}<br>salary_min=%{y}<extra></extra>",
         "legendgroup": "",
         "marker": {
          "color": "rgb(76,114,176)",
          "pattern": {
           "shape": ""
          }
         },
         "name": "",
         "offsetgroup": "",
         "orientation": "v",
         "showlegend": false,
         "textposition": "auto",
         "type": "bar",
         "x": [
          "Massachusetts",
          "Connecticut",
          "Illinois",
          "Washington",
          "New York",
          "California",
          "Virginia",
          "Minnesota",
          "Colorado",
          "Florida"
         ],
         "xaxis": "x",
         "y": [
          85878.83333333333,
          84088.72727272728,
          78918.18181818182,
          78589.16666666667,
          78555,
          78171.78125,
          75309.28125,
          74738.6875,
          73250.66666666667,
          72286.25
         ],
         "yaxis": "y"
        }
       ],
       "layout": {
        "barmode": "relative",
        "height": 400,
        "legend": {
         "tracegroupgap": 0
        },
        "template": {
         "data": {
          "bar": [
           {
            "error_x": {
             "color": "rgb(36,36,36)"
            },
            "error_y": {
             "color": "rgb(36,36,36)"
            },
            "marker": {
             "line": {
              "color": "rgb(234,234,242)",
              "width": 0.5
             },
             "pattern": {
              "fillmode": "overlay",
              "size": 10,
              "solidity": 0.2
             }
            },
            "type": "bar"
           }
          ],
          "barpolar": [
           {
            "marker": {
             "line": {
              "color": "rgb(234,234,242)",
              "width": 0.5
             },
             "pattern": {
              "fillmode": "overlay",
              "size": 10,
              "solidity": 0.2
             }
            },
            "type": "barpolar"
           }
          ],
          "carpet": [
           {
            "aaxis": {
             "endlinecolor": "rgb(36,36,36)",
             "gridcolor": "white",
             "linecolor": "white",
             "minorgridcolor": "white",
             "startlinecolor": "rgb(36,36,36)"
            },
            "baxis": {
             "endlinecolor": "rgb(36,36,36)",
             "gridcolor": "white",
             "linecolor": "white",
             "minorgridcolor": "white",
             "startlinecolor": "rgb(36,36,36)"
            },
            "type": "carpet"
           }
          ],
          "choropleth": [
           {
            "colorbar": {
             "outlinewidth": 0,
             "tickcolor": "rgb(36,36,36)",
             "ticklen": 8,
             "ticks": "outside",
             "tickwidth": 2
            },
            "type": "choropleth"
           }
          ],
          "contour": [
           {
            "colorbar": {
             "outlinewidth": 0,
             "tickcolor": "rgb(36,36,36)",
             "ticklen": 8,
             "ticks": "outside",
             "tickwidth": 2
            },
            "colorscale": [
             [
              0,
              "rgb(2,4,25)"
             ],
             [
              0.06274509803921569,
              "rgb(24,15,41)"
             ],
             [
              0.12549019607843137,
              "rgb(47,23,57)"
             ],
             [
              0.18823529411764706,
              "rgb(71,28,72)"
             ],
             [
              0.25098039215686274,
              "rgb(97,30,82)"
             ],
             [
              0.3137254901960784,
              "rgb(123,30,89)"
             ],
             [
              0.3764705882352941,
              "rgb(150,27,91)"
             ],
             [
              0.4392156862745098,
              "rgb(177,22,88)"
             ],
             [
              0.5019607843137255,
              "rgb(203,26,79)"
             ],
             [
              0.5647058823529412,
              "rgb(223,47,67)"
             ],
             [
              0.6274509803921569,
              "rgb(236,76,61)"
             ],
             [
              0.6901960784313725,
              "rgb(242,107,73)"
             ],
             [
              0.7529411764705882,
              "rgb(244,135,95)"
             ],
             [
              0.8156862745098039,
              "rgb(245,162,122)"
             ],
             [
              0.8784313725490196,
              "rgb(246,188,153)"
             ],
             [
              0.9411764705882353,
              "rgb(247,212,187)"
             ],
             [
              1,
              "rgb(250,234,220)"
             ]
            ],
            "type": "contour"
           }
          ],
          "contourcarpet": [
           {
            "colorbar": {
             "outlinewidth": 0,
             "tickcolor": "rgb(36,36,36)",
             "ticklen": 8,
             "ticks": "outside",
             "tickwidth": 2
            },
            "type": "contourcarpet"
           }
          ],
          "heatmap": [
           {
            "colorbar": {
             "outlinewidth": 0,
             "tickcolor": "rgb(36,36,36)",
             "ticklen": 8,
             "ticks": "outside",
             "tickwidth": 2
            },
            "colorscale": [
             [
              0,
              "rgb(2,4,25)"
             ],
             [
              0.06274509803921569,
              "rgb(24,15,41)"
             ],
             [
              0.12549019607843137,
              "rgb(47,23,57)"
             ],
             [
              0.18823529411764706,
              "rgb(71,28,72)"
             ],
             [
              0.25098039215686274,
              "rgb(97,30,82)"
             ],
             [
              0.3137254901960784,
              "rgb(123,30,89)"
             ],
             [
              0.3764705882352941,
              "rgb(150,27,91)"
             ],
             [
              0.4392156862745098,
              "rgb(177,22,88)"
             ],
             [
              0.5019607843137255,
              "rgb(203,26,79)"
             ],
             [
              0.5647058823529412,
              "rgb(223,47,67)"
             ],
             [
              0.6274509803921569,
              "rgb(236,76,61)"
             ],
             [
              0.6901960784313725,
              "rgb(242,107,73)"
             ],
             [
              0.7529411764705882,
              "rgb(244,135,95)"
             ],
             [
              0.8156862745098039,
              "rgb(245,162,122)"
             ],
             [
              0.8784313725490196,
              "rgb(246,188,153)"
             ],
             [
              0.9411764705882353,
              "rgb(247,212,187)"
             ],
             [
              1,
              "rgb(250,234,220)"
             ]
            ],
            "type": "heatmap"
           }
          ],
          "heatmapgl": [
           {
            "colorbar": {
             "outlinewidth": 0,
             "tickcolor": "rgb(36,36,36)",
             "ticklen": 8,
             "ticks": "outside",
             "tickwidth": 2
            },
            "colorscale": [
             [
              0,
              "rgb(2,4,25)"
             ],
             [
              0.06274509803921569,
              "rgb(24,15,41)"
             ],
             [
              0.12549019607843137,
              "rgb(47,23,57)"
             ],
             [
              0.18823529411764706,
              "rgb(71,28,72)"
             ],
             [
              0.25098039215686274,
              "rgb(97,30,82)"
             ],
             [
              0.3137254901960784,
              "rgb(123,30,89)"
             ],
             [
              0.3764705882352941,
              "rgb(150,27,91)"
             ],
             [
              0.4392156862745098,
              "rgb(177,22,88)"
             ],
             [
              0.5019607843137255,
              "rgb(203,26,79)"
             ],
             [
              0.5647058823529412,
              "rgb(223,47,67)"
             ],
             [
              0.6274509803921569,
              "rgb(236,76,61)"
             ],
             [
              0.6901960784313725,
              "rgb(242,107,73)"
             ],
             [
              0.7529411764705882,
              "rgb(244,135,95)"
             ],
             [
              0.8156862745098039,
              "rgb(245,162,122)"
             ],
             [
              0.8784313725490196,
              "rgb(246,188,153)"
             ],
             [
              0.9411764705882353,
              "rgb(247,212,187)"
             ],
             [
              1,
              "rgb(250,234,220)"
             ]
            ],
            "type": "heatmapgl"
           }
          ],
          "histogram": [
           {
            "marker": {
             "pattern": {
              "fillmode": "overlay",
              "size": 10,
              "solidity": 0.2
             }
            },
            "type": "histogram"
           }
          ],
          "histogram2d": [
           {
            "colorbar": {
             "outlinewidth": 0,
             "tickcolor": "rgb(36,36,36)",
             "ticklen": 8,
             "ticks": "outside",
             "tickwidth": 2
            },
            "colorscale": [
             [
              0,
              "rgb(2,4,25)"
             ],
             [
              0.06274509803921569,
              "rgb(24,15,41)"
             ],
             [
              0.12549019607843137,
              "rgb(47,23,57)"
             ],
             [
              0.18823529411764706,
              "rgb(71,28,72)"
             ],
             [
              0.25098039215686274,
              "rgb(97,30,82)"
             ],
             [
              0.3137254901960784,
              "rgb(123,30,89)"
             ],
             [
              0.3764705882352941,
              "rgb(150,27,91)"
             ],
             [
              0.4392156862745098,
              "rgb(177,22,88)"
             ],
             [
              0.5019607843137255,
              "rgb(203,26,79)"
             ],
             [
              0.5647058823529412,
              "rgb(223,47,67)"
             ],
             [
              0.6274509803921569,
              "rgb(236,76,61)"
             ],
             [
              0.6901960784313725,
              "rgb(242,107,73)"
             ],
             [
              0.7529411764705882,
              "rgb(244,135,95)"
             ],
             [
              0.8156862745098039,
              "rgb(245,162,122)"
             ],
             [
              0.8784313725490196,
              "rgb(246,188,153)"
             ],
             [
              0.9411764705882353,
              "rgb(247,212,187)"
             ],
             [
              1,
              "rgb(250,234,220)"
             ]
            ],
            "type": "histogram2d"
           }
          ],
          "histogram2dcontour": [
           {
            "colorbar": {
             "outlinewidth": 0,
             "tickcolor": "rgb(36,36,36)",
             "ticklen": 8,
             "ticks": "outside",
             "tickwidth": 2
            },
            "colorscale": [
             [
              0,
              "rgb(2,4,25)"
             ],
             [
              0.06274509803921569,
              "rgb(24,15,41)"
             ],
             [
              0.12549019607843137,
              "rgb(47,23,57)"
             ],
             [
              0.18823529411764706,
              "rgb(71,28,72)"
             ],
             [
              0.25098039215686274,
              "rgb(97,30,82)"
             ],
             [
              0.3137254901960784,
              "rgb(123,30,89)"
             ],
             [
              0.3764705882352941,
              "rgb(150,27,91)"
             ],
             [
              0.4392156862745098,
              "rgb(177,22,88)"
             ],
             [
              0.5019607843137255,
              "rgb(203,26,79)"
             ],
             [
              0.5647058823529412,
              "rgb(223,47,67)"
             ],
             [
              0.6274509803921569,
              "rgb(236,76,61)"
             ],
             [
              0.6901960784313725,
              "rgb(242,107,73)"
             ],
             [
              0.7529411764705882,
              "rgb(244,135,95)"
             ],
             [
              0.8156862745098039,
              "rgb(245,162,122)"
             ],
             [
              0.8784313725490196,
              "rgb(246,188,153)"
             ],
             [
              0.9411764705882353,
              "rgb(247,212,187)"
             ],
             [
              1,
              "rgb(250,234,220)"
             ]
            ],
            "type": "histogram2dcontour"
           }
          ],
          "mesh3d": [
           {
            "colorbar": {
             "outlinewidth": 0,
             "tickcolor": "rgb(36,36,36)",
             "ticklen": 8,
             "ticks": "outside",
             "tickwidth": 2
            },
            "type": "mesh3d"
           }
          ],
          "parcoords": [
           {
            "line": {
             "colorbar": {
              "outlinewidth": 0,
              "tickcolor": "rgb(36,36,36)",
              "ticklen": 8,
              "ticks": "outside",
              "tickwidth": 2
             }
            },
            "type": "parcoords"
           }
          ],
          "pie": [
           {
            "automargin": true,
            "type": "pie"
           }
          ],
          "scatter": [
           {
            "fillpattern": {
             "fillmode": "overlay",
             "size": 10,
             "solidity": 0.2
            },
            "type": "scatter"
           }
          ],
          "scatter3d": [
           {
            "line": {
             "colorbar": {
              "outlinewidth": 0,
              "tickcolor": "rgb(36,36,36)",
              "ticklen": 8,
              "ticks": "outside",
              "tickwidth": 2
             }
            },
            "marker": {
             "colorbar": {
              "outlinewidth": 0,
              "tickcolor": "rgb(36,36,36)",
              "ticklen": 8,
              "ticks": "outside",
              "tickwidth": 2
             }
            },
            "type": "scatter3d"
           }
          ],
          "scattercarpet": [
           {
            "marker": {
             "colorbar": {
              "outlinewidth": 0,
              "tickcolor": "rgb(36,36,36)",
              "ticklen": 8,
              "ticks": "outside",
              "tickwidth": 2
             }
            },
            "type": "scattercarpet"
           }
          ],
          "scattergeo": [
           {
            "marker": {
             "colorbar": {
              "outlinewidth": 0,
              "tickcolor": "rgb(36,36,36)",
              "ticklen": 8,
              "ticks": "outside",
              "tickwidth": 2
             }
            },
            "type": "scattergeo"
           }
          ],
          "scattergl": [
           {
            "marker": {
             "colorbar": {
              "outlinewidth": 0,
              "tickcolor": "rgb(36,36,36)",
              "ticklen": 8,
              "ticks": "outside",
              "tickwidth": 2
             }
            },
            "type": "scattergl"
           }
          ],
          "scattermapbox": [
           {
            "marker": {
             "colorbar": {
              "outlinewidth": 0,
              "tickcolor": "rgb(36,36,36)",
              "ticklen": 8,
              "ticks": "outside",
              "tickwidth": 2
             }
            },
            "type": "scattermapbox"
           }
          ],
          "scatterpolar": [
           {
            "marker": {
             "colorbar": {
              "outlinewidth": 0,
              "tickcolor": "rgb(36,36,36)",
              "ticklen": 8,
              "ticks": "outside",
              "tickwidth": 2
             }
            },
            "type": "scatterpolar"
           }
          ],
          "scatterpolargl": [
           {
            "marker": {
             "colorbar": {
              "outlinewidth": 0,
              "tickcolor": "rgb(36,36,36)",
              "ticklen": 8,
              "ticks": "outside",
              "tickwidth": 2
             }
            },
            "type": "scatterpolargl"
           }
          ],
          "scatterternary": [
           {
            "marker": {
             "colorbar": {
              "outlinewidth": 0,
              "tickcolor": "rgb(36,36,36)",
              "ticklen": 8,
              "ticks": "outside",
              "tickwidth": 2
             }
            },
            "type": "scatterternary"
           }
          ],
          "surface": [
           {
            "colorbar": {
             "outlinewidth": 0,
             "tickcolor": "rgb(36,36,36)",
             "ticklen": 8,
             "ticks": "outside",
             "tickwidth": 2
            },
            "colorscale": [
             [
              0,
              "rgb(2,4,25)"
             ],
             [
              0.06274509803921569,
              "rgb(24,15,41)"
             ],
             [
              0.12549019607843137,
              "rgb(47,23,57)"
             ],
             [
              0.18823529411764706,
              "rgb(71,28,72)"
             ],
             [
              0.25098039215686274,
              "rgb(97,30,82)"
             ],
             [
              0.3137254901960784,
              "rgb(123,30,89)"
             ],
             [
              0.3764705882352941,
              "rgb(150,27,91)"
             ],
             [
              0.4392156862745098,
              "rgb(177,22,88)"
             ],
             [
              0.5019607843137255,
              "rgb(203,26,79)"
             ],
             [
              0.5647058823529412,
              "rgb(223,47,67)"
             ],
             [
              0.6274509803921569,
              "rgb(236,76,61)"
             ],
             [
              0.6901960784313725,
              "rgb(242,107,73)"
             ],
             [
              0.7529411764705882,
              "rgb(244,135,95)"
             ],
             [
              0.8156862745098039,
              "rgb(245,162,122)"
             ],
             [
              0.8784313725490196,
              "rgb(246,188,153)"
             ],
             [
              0.9411764705882353,
              "rgb(247,212,187)"
             ],
             [
              1,
              "rgb(250,234,220)"
             ]
            ],
            "type": "surface"
           }
          ],
          "table": [
           {
            "cells": {
             "fill": {
              "color": "rgb(231,231,240)"
             },
             "line": {
              "color": "white"
             }
            },
            "header": {
             "fill": {
              "color": "rgb(183,183,191)"
             },
             "line": {
              "color": "white"
             }
            },
            "type": "table"
           }
          ]
         },
         "layout": {
          "annotationdefaults": {
           "arrowcolor": "rgb(67,103,167)"
          },
          "autotypenumbers": "strict",
          "coloraxis": {
           "colorbar": {
            "outlinewidth": 0,
            "tickcolor": "rgb(36,36,36)",
            "ticklen": 8,
            "ticks": "outside",
            "tickwidth": 2
           }
          },
          "colorscale": {
           "sequential": [
            [
             0,
             "rgb(2,4,25)"
            ],
            [
             0.06274509803921569,
             "rgb(24,15,41)"
            ],
            [
             0.12549019607843137,
             "rgb(47,23,57)"
            ],
            [
             0.18823529411764706,
             "rgb(71,28,72)"
            ],
            [
             0.25098039215686274,
             "rgb(97,30,82)"
            ],
            [
             0.3137254901960784,
             "rgb(123,30,89)"
            ],
            [
             0.3764705882352941,
             "rgb(150,27,91)"
            ],
            [
             0.4392156862745098,
             "rgb(177,22,88)"
            ],
            [
             0.5019607843137255,
             "rgb(203,26,79)"
            ],
            [
             0.5647058823529412,
             "rgb(223,47,67)"
            ],
            [
             0.6274509803921569,
             "rgb(236,76,61)"
            ],
            [
             0.6901960784313725,
             "rgb(242,107,73)"
            ],
            [
             0.7529411764705882,
             "rgb(244,135,95)"
            ],
            [
             0.8156862745098039,
             "rgb(245,162,122)"
            ],
            [
             0.8784313725490196,
             "rgb(246,188,153)"
            ],
            [
             0.9411764705882353,
             "rgb(247,212,187)"
            ],
            [
             1,
             "rgb(250,234,220)"
            ]
           ],
           "sequentialminus": [
            [
             0,
             "rgb(2,4,25)"
            ],
            [
             0.06274509803921569,
             "rgb(24,15,41)"
            ],
            [
             0.12549019607843137,
             "rgb(47,23,57)"
            ],
            [
             0.18823529411764706,
             "rgb(71,28,72)"
            ],
            [
             0.25098039215686274,
             "rgb(97,30,82)"
            ],
            [
             0.3137254901960784,
             "rgb(123,30,89)"
            ],
            [
             0.3764705882352941,
             "rgb(150,27,91)"
            ],
            [
             0.4392156862745098,
             "rgb(177,22,88)"
            ],
            [
             0.5019607843137255,
             "rgb(203,26,79)"
            ],
            [
             0.5647058823529412,
             "rgb(223,47,67)"
            ],
            [
             0.6274509803921569,
             "rgb(236,76,61)"
            ],
            [
             0.6901960784313725,
             "rgb(242,107,73)"
            ],
            [
             0.7529411764705882,
             "rgb(244,135,95)"
            ],
            [
             0.8156862745098039,
             "rgb(245,162,122)"
            ],
            [
             0.8784313725490196,
             "rgb(246,188,153)"
            ],
            [
             0.9411764705882353,
             "rgb(247,212,187)"
            ],
            [
             1,
             "rgb(250,234,220)"
            ]
           ]
          },
          "colorway": [
           "rgb(76,114,176)",
           "rgb(221,132,82)",
           "rgb(85,168,104)",
           "rgb(196,78,82)",
           "rgb(129,114,179)",
           "rgb(147,120,96)",
           "rgb(218,139,195)",
           "rgb(140,140,140)",
           "rgb(204,185,116)",
           "rgb(100,181,205)"
          ],
          "font": {
           "color": "rgb(36,36,36)"
          },
          "geo": {
           "bgcolor": "white",
           "lakecolor": "white",
           "landcolor": "rgb(234,234,242)",
           "showlakes": true,
           "showland": true,
           "subunitcolor": "white"
          },
          "hoverlabel": {
           "align": "left"
          },
          "hovermode": "closest",
          "paper_bgcolor": "white",
          "plot_bgcolor": "rgb(234,234,242)",
          "polar": {
           "angularaxis": {
            "gridcolor": "white",
            "linecolor": "white",
            "showgrid": true,
            "ticks": ""
           },
           "bgcolor": "rgb(234,234,242)",
           "radialaxis": {
            "gridcolor": "white",
            "linecolor": "white",
            "showgrid": true,
            "ticks": ""
           }
          },
          "scene": {
           "xaxis": {
            "backgroundcolor": "rgb(234,234,242)",
            "gridcolor": "white",
            "gridwidth": 2,
            "linecolor": "white",
            "showbackground": true,
            "showgrid": true,
            "ticks": "",
            "zerolinecolor": "white"
           },
           "yaxis": {
            "backgroundcolor": "rgb(234,234,242)",
            "gridcolor": "white",
            "gridwidth": 2,
            "linecolor": "white",
            "showbackground": true,
            "showgrid": true,
            "ticks": "",
            "zerolinecolor": "white"
           },
           "zaxis": {
            "backgroundcolor": "rgb(234,234,242)",
            "gridcolor": "white",
            "gridwidth": 2,
            "linecolor": "white",
            "showbackground": true,
            "showgrid": true,
            "ticks": "",
            "zerolinecolor": "white"
           }
          },
          "shapedefaults": {
           "fillcolor": "rgb(67,103,167)",
           "line": {
            "width": 0
           },
           "opacity": 0.5
          },
          "ternary": {
           "aaxis": {
            "gridcolor": "white",
            "linecolor": "white",
            "showgrid": true,
            "ticks": ""
           },
           "baxis": {
            "gridcolor": "white",
            "linecolor": "white",
            "showgrid": true,
            "ticks": ""
           },
           "bgcolor": "rgb(234,234,242)",
           "caxis": {
            "gridcolor": "white",
            "linecolor": "white",
            "showgrid": true,
            "ticks": ""
           }
          },
          "xaxis": {
           "automargin": true,
           "gridcolor": "white",
           "linecolor": "white",
           "showgrid": true,
           "ticks": "",
           "title": {
            "standoff": 15
           },
           "zerolinecolor": "white"
          },
          "yaxis": {
           "automargin": true,
           "gridcolor": "white",
           "linecolor": "white",
           "showgrid": true,
           "ticks": "",
           "title": {
            "standoff": 15
           },
           "zerolinecolor": "white"
          }
         }
        },
        "title": {
         "text": "Indeed Data Analysts Average salaries by the States in USA"
        },
        "width": 600,
        "xaxis": {
         "anchor": "y",
         "categoryorder": "total descending",
         "domain": [
          0,
          1
         ],
         "title": {
          "text": "state"
         }
        },
        "yaxis": {
         "anchor": "x",
         "domain": [
          0,
          1
         ],
         "title": {
          "text": "salary_min"
         }
        }
       }
      }
     },
     "metadata": {},
     "output_type": "display_data"
    }
   ],
   "source": [
    "fig = px.bar(df_top_states, x='state', y='salary_min',\n",
    "             title='Indeed Data Analysts Average salaries by the States in USA',\n",
    "             width=600, height=400,\n",
    "             template='seaborn')\n",
    "fig.update_xaxes(categoryorder='total descending')\n",
    "fig.show()\n"
   ]
  },
  {
   "cell_type": "markdown",
   "id": "703ffc5c",
   "metadata": {},
   "source": [
    "What are the most Used Data Visualization Tools in USA"
   ]
  },
  {
   "cell_type": "markdown",
   "id": "e7e655d0",
   "metadata": {},
   "source": [
    "Search for matching values of BI tools in the Job description field"
   ]
  },
  {
   "cell_type": "code",
   "execution_count": 14,
   "id": "0350a4c7-a95c-4396-8f13-1245d22d9c6c",
   "metadata": {},
   "outputs": [],
   "source": [
    "tableau = len(df[df['job_desc'].str.contains('Tableau', case=False)])\n",
    "powerBI = len(df[df['job_desc'].str.contains('PowerBI|Power BI', case=False)])\n",
    "qlik = len(df[df['job_desc'].str.contains('Qlik', case=False)])\n",
    "domo = len(df[df['job_desc'].str.contains('Domo', case=False)])\n",
    "looker = len(df[df['job_desc'].str.contains('Looker', case=False)])\n",
    "ibm_cognos = len(df[df['job_desc'].str.contains('Cognos', case=False)])\n",
    "sisense = len(df[df['job_desc'].str.contains('Sisense', case=False)])\n",
    "google_data_studio = len(df[df['job_desc'].str.contains(\n",
    "    'Google Data Studio|Google DataStudio', case=False)])\n"
   ]
  },
  {
   "cell_type": "code",
   "execution_count": 15,
   "id": "596d54ee-3378-4c4e-a2a6-998bc520cf09",
   "metadata": {},
   "outputs": [],
   "source": [
    "bi_tools = {'BI Tools': ['Tableau', 'Power BI', 'Qlik', 'Domo', 'Looker', 'IBM Cognos', 'Sisense', 'Google Data Studio'],\n",
    "            'Count': [tableau, powerBI, qlik, domo, looker, ibm_cognos, sisense, google_data_studio]}\n",
    "bi_tools = pd.DataFrame(bi_tools)\n"
   ]
  },
  {
   "cell_type": "code",
   "execution_count": 23,
   "id": "12cf8d6d-2625-4151-91aa-1e67326cfea4",
   "metadata": {},
   "outputs": [
    {
     "data": {
      "application/vnd.plotly.v1+json": {
       "config": {
        "plotlyServerURL": "https://plot.ly"
       },
       "data": [
        {
         "alignmentgroup": "True",
         "hovertemplate": "BI Tools=%{x}<br>Count=%{y}<extra></extra>",
         "legendgroup": "",
         "marker": {
          "color": "#F8766D",
          "pattern": {
           "shape": ""
          }
         },
         "name": "",
         "offsetgroup": "",
         "orientation": "v",
         "showlegend": false,
         "textposition": "auto",
         "type": "bar",
         "x": [
          "Tableau",
          "Power BI",
          "Qlik",
          "Domo",
          "Looker",
          "IBM Cognos",
          "Sisense",
          "Google Data Studio"
         ],
         "xaxis": "x",
         "y": [
          514,
          328,
          52,
          20,
          68,
          29,
          5,
          13
         ],
         "yaxis": "y"
        }
       ],
       "layout": {
        "barmode": "relative",
        "height": 400,
        "legend": {
         "tracegroupgap": 0
        },
        "template": {
         "data": {
          "bar": [
           {
            "error_x": {
             "color": "rgb(51,51,51)"
            },
            "error_y": {
             "color": "rgb(51,51,51)"
            },
            "marker": {
             "line": {
              "color": "rgb(237,237,237)",
              "width": 0.5
             },
             "pattern": {
              "fillmode": "overlay",
              "size": 10,
              "solidity": 0.2
             }
            },
            "type": "bar"
           }
          ],
          "barpolar": [
           {
            "marker": {
             "line": {
              "color": "rgb(237,237,237)",
              "width": 0.5
             },
             "pattern": {
              "fillmode": "overlay",
              "size": 10,
              "solidity": 0.2
             }
            },
            "type": "barpolar"
           }
          ],
          "carpet": [
           {
            "aaxis": {
             "endlinecolor": "rgb(51,51,51)",
             "gridcolor": "white",
             "linecolor": "white",
             "minorgridcolor": "white",
             "startlinecolor": "rgb(51,51,51)"
            },
            "baxis": {
             "endlinecolor": "rgb(51,51,51)",
             "gridcolor": "white",
             "linecolor": "white",
             "minorgridcolor": "white",
             "startlinecolor": "rgb(51,51,51)"
            },
            "type": "carpet"
           }
          ],
          "choropleth": [
           {
            "colorbar": {
             "outlinewidth": 0,
             "tickcolor": "rgb(237,237,237)",
             "ticklen": 6,
             "ticks": "inside"
            },
            "type": "choropleth"
           }
          ],
          "contour": [
           {
            "colorbar": {
             "outlinewidth": 0,
             "tickcolor": "rgb(237,237,237)",
             "ticklen": 6,
             "ticks": "inside"
            },
            "colorscale": [
             [
              0,
              "rgb(20,44,66)"
             ],
             [
              1,
              "rgb(90,179,244)"
             ]
            ],
            "type": "contour"
           }
          ],
          "contourcarpet": [
           {
            "colorbar": {
             "outlinewidth": 0,
             "tickcolor": "rgb(237,237,237)",
             "ticklen": 6,
             "ticks": "inside"
            },
            "type": "contourcarpet"
           }
          ],
          "heatmap": [
           {
            "colorbar": {
             "outlinewidth": 0,
             "tickcolor": "rgb(237,237,237)",
             "ticklen": 6,
             "ticks": "inside"
            },
            "colorscale": [
             [
              0,
              "rgb(20,44,66)"
             ],
             [
              1,
              "rgb(90,179,244)"
             ]
            ],
            "type": "heatmap"
           }
          ],
          "heatmapgl": [
           {
            "colorbar": {
             "outlinewidth": 0,
             "tickcolor": "rgb(237,237,237)",
             "ticklen": 6,
             "ticks": "inside"
            },
            "colorscale": [
             [
              0,
              "rgb(20,44,66)"
             ],
             [
              1,
              "rgb(90,179,244)"
             ]
            ],
            "type": "heatmapgl"
           }
          ],
          "histogram": [
           {
            "marker": {
             "pattern": {
              "fillmode": "overlay",
              "size": 10,
              "solidity": 0.2
             }
            },
            "type": "histogram"
           }
          ],
          "histogram2d": [
           {
            "colorbar": {
             "outlinewidth": 0,
             "tickcolor": "rgb(237,237,237)",
             "ticklen": 6,
             "ticks": "inside"
            },
            "colorscale": [
             [
              0,
              "rgb(20,44,66)"
             ],
             [
              1,
              "rgb(90,179,244)"
             ]
            ],
            "type": "histogram2d"
           }
          ],
          "histogram2dcontour": [
           {
            "colorbar": {
             "outlinewidth": 0,
             "tickcolor": "rgb(237,237,237)",
             "ticklen": 6,
             "ticks": "inside"
            },
            "colorscale": [
             [
              0,
              "rgb(20,44,66)"
             ],
             [
              1,
              "rgb(90,179,244)"
             ]
            ],
            "type": "histogram2dcontour"
           }
          ],
          "mesh3d": [
           {
            "colorbar": {
             "outlinewidth": 0,
             "tickcolor": "rgb(237,237,237)",
             "ticklen": 6,
             "ticks": "inside"
            },
            "type": "mesh3d"
           }
          ],
          "parcoords": [
           {
            "line": {
             "colorbar": {
              "outlinewidth": 0,
              "tickcolor": "rgb(237,237,237)",
              "ticklen": 6,
              "ticks": "inside"
             }
            },
            "type": "parcoords"
           }
          ],
          "pie": [
           {
            "automargin": true,
            "type": "pie"
           }
          ],
          "scatter": [
           {
            "fillpattern": {
             "fillmode": "overlay",
             "size": 10,
             "solidity": 0.2
            },
            "type": "scatter"
           }
          ],
          "scatter3d": [
           {
            "line": {
             "colorbar": {
              "outlinewidth": 0,
              "tickcolor": "rgb(237,237,237)",
              "ticklen": 6,
              "ticks": "inside"
             }
            },
            "marker": {
             "colorbar": {
              "outlinewidth": 0,
              "tickcolor": "rgb(237,237,237)",
              "ticklen": 6,
              "ticks": "inside"
             }
            },
            "type": "scatter3d"
           }
          ],
          "scattercarpet": [
           {
            "marker": {
             "colorbar": {
              "outlinewidth": 0,
              "tickcolor": "rgb(237,237,237)",
              "ticklen": 6,
              "ticks": "inside"
             }
            },
            "type": "scattercarpet"
           }
          ],
          "scattergeo": [
           {
            "marker": {
             "colorbar": {
              "outlinewidth": 0,
              "tickcolor": "rgb(237,237,237)",
              "ticklen": 6,
              "ticks": "inside"
             }
            },
            "type": "scattergeo"
           }
          ],
          "scattergl": [
           {
            "marker": {
             "colorbar": {
              "outlinewidth": 0,
              "tickcolor": "rgb(237,237,237)",
              "ticklen": 6,
              "ticks": "inside"
             }
            },
            "type": "scattergl"
           }
          ],
          "scattermapbox": [
           {
            "marker": {
             "colorbar": {
              "outlinewidth": 0,
              "tickcolor": "rgb(237,237,237)",
              "ticklen": 6,
              "ticks": "inside"
             }
            },
            "type": "scattermapbox"
           }
          ],
          "scatterpolar": [
           {
            "marker": {
             "colorbar": {
              "outlinewidth": 0,
              "tickcolor": "rgb(237,237,237)",
              "ticklen": 6,
              "ticks": "inside"
             }
            },
            "type": "scatterpolar"
           }
          ],
          "scatterpolargl": [
           {
            "marker": {
             "colorbar": {
              "outlinewidth": 0,
              "tickcolor": "rgb(237,237,237)",
              "ticklen": 6,
              "ticks": "inside"
             }
            },
            "type": "scatterpolargl"
           }
          ],
          "scatterternary": [
           {
            "marker": {
             "colorbar": {
              "outlinewidth": 0,
              "tickcolor": "rgb(237,237,237)",
              "ticklen": 6,
              "ticks": "inside"
             }
            },
            "type": "scatterternary"
           }
          ],
          "surface": [
           {
            "colorbar": {
             "outlinewidth": 0,
             "tickcolor": "rgb(237,237,237)",
             "ticklen": 6,
             "ticks": "inside"
            },
            "colorscale": [
             [
              0,
              "rgb(20,44,66)"
             ],
             [
              1,
              "rgb(90,179,244)"
             ]
            ],
            "type": "surface"
           }
          ],
          "table": [
           {
            "cells": {
             "fill": {
              "color": "rgb(237,237,237)"
             },
             "line": {
              "color": "white"
             }
            },
            "header": {
             "fill": {
              "color": "rgb(217,217,217)"
             },
             "line": {
              "color": "white"
             }
            },
            "type": "table"
           }
          ]
         },
         "layout": {
          "annotationdefaults": {
           "arrowhead": 0,
           "arrowwidth": 1
          },
          "autotypenumbers": "strict",
          "coloraxis": {
           "colorbar": {
            "outlinewidth": 0,
            "tickcolor": "rgb(237,237,237)",
            "ticklen": 6,
            "ticks": "inside"
           }
          },
          "colorscale": {
           "sequential": [
            [
             0,
             "rgb(20,44,66)"
            ],
            [
             1,
             "rgb(90,179,244)"
            ]
           ],
           "sequentialminus": [
            [
             0,
             "rgb(20,44,66)"
            ],
            [
             1,
             "rgb(90,179,244)"
            ]
           ]
          },
          "colorway": [
           "#F8766D",
           "#A3A500",
           "#00BF7D",
           "#00B0F6",
           "#E76BF3"
          ],
          "font": {
           "color": "rgb(51,51,51)"
          },
          "geo": {
           "bgcolor": "white",
           "lakecolor": "white",
           "landcolor": "rgb(237,237,237)",
           "showlakes": true,
           "showland": true,
           "subunitcolor": "white"
          },
          "hoverlabel": {
           "align": "left"
          },
          "hovermode": "closest",
          "paper_bgcolor": "white",
          "plot_bgcolor": "rgb(237,237,237)",
          "polar": {
           "angularaxis": {
            "gridcolor": "white",
            "linecolor": "white",
            "showgrid": true,
            "tickcolor": "rgb(51,51,51)",
            "ticks": "outside"
           },
           "bgcolor": "rgb(237,237,237)",
           "radialaxis": {
            "gridcolor": "white",
            "linecolor": "white",
            "showgrid": true,
            "tickcolor": "rgb(51,51,51)",
            "ticks": "outside"
           }
          },
          "scene": {
           "xaxis": {
            "backgroundcolor": "rgb(237,237,237)",
            "gridcolor": "white",
            "gridwidth": 2,
            "linecolor": "white",
            "showbackground": true,
            "showgrid": true,
            "tickcolor": "rgb(51,51,51)",
            "ticks": "outside",
            "zerolinecolor": "white"
           },
           "yaxis": {
            "backgroundcolor": "rgb(237,237,237)",
            "gridcolor": "white",
            "gridwidth": 2,
            "linecolor": "white",
            "showbackground": true,
            "showgrid": true,
            "tickcolor": "rgb(51,51,51)",
            "ticks": "outside",
            "zerolinecolor": "white"
           },
           "zaxis": {
            "backgroundcolor": "rgb(237,237,237)",
            "gridcolor": "white",
            "gridwidth": 2,
            "linecolor": "white",
            "showbackground": true,
            "showgrid": true,
            "tickcolor": "rgb(51,51,51)",
            "ticks": "outside",
            "zerolinecolor": "white"
           }
          },
          "shapedefaults": {
           "fillcolor": "black",
           "line": {
            "width": 0
           },
           "opacity": 0.3
          },
          "ternary": {
           "aaxis": {
            "gridcolor": "white",
            "linecolor": "white",
            "showgrid": true,
            "tickcolor": "rgb(51,51,51)",
            "ticks": "outside"
           },
           "baxis": {
            "gridcolor": "white",
            "linecolor": "white",
            "showgrid": true,
            "tickcolor": "rgb(51,51,51)",
            "ticks": "outside"
           },
           "bgcolor": "rgb(237,237,237)",
           "caxis": {
            "gridcolor": "white",
            "linecolor": "white",
            "showgrid": true,
            "tickcolor": "rgb(51,51,51)",
            "ticks": "outside"
           }
          },
          "xaxis": {
           "automargin": true,
           "gridcolor": "white",
           "linecolor": "white",
           "showgrid": true,
           "tickcolor": "rgb(51,51,51)",
           "ticks": "outside",
           "title": {
            "standoff": 15
           },
           "zerolinecolor": "white"
          },
          "yaxis": {
           "automargin": true,
           "gridcolor": "white",
           "linecolor": "white",
           "showgrid": true,
           "tickcolor": "rgb(51,51,51)",
           "ticks": "outside",
           "title": {
            "standoff": 15
           },
           "zerolinecolor": "white"
          }
         }
        },
        "title": {
         "text": "Most in demand Visualization Tools"
        },
        "width": 600,
        "xaxis": {
         "anchor": "y",
         "categoryorder": "total descending",
         "domain": [
          0,
          1
         ],
         "title": {
          "text": "BI Tools"
         }
        },
        "yaxis": {
         "anchor": "x",
         "domain": [
          0,
          1
         ],
         "title": {
          "text": "Count"
         }
        }
       }
      }
     },
     "metadata": {},
     "output_type": "display_data"
    }
   ],
   "source": [
    "fig = px.bar(bi_tools, x='BI Tools', y='Count',\n",
    "             width=600, height=400,\n",
    "             title='Most in demand Visualization Tools',\n",
    "             template= 'ggplot2',\n",
    "             color_discrete_map= {'BI Tools': 'MediumPurple'})\n",
    "fig.update_xaxes(categoryorder='total descending')\n",
    "fig.show()\n"
   ]
  },
  {
   "cell_type": "markdown",
   "id": "da017817",
   "metadata": {},
   "source": [
    "What are the most used Statistical Tools"
   ]
  },
  {
   "cell_type": "code",
   "execution_count": 17,
   "id": "0e686a12-d72b-4a59-afe4-055783a55a20",
   "metadata": {},
   "outputs": [],
   "source": [
    "python = len(df[df['job_desc'].str.contains('Python', case=False)])\n",
    "r = len(df[df['job_desc'].str.contains(' R ', case=False)])\n",
    "sas = len(df[df['job_desc'].str.contains(' SAS ', case=False)])\n",
    "spss = len(df[df['job_desc'].str.contains('SPSS', case=False)])\n",
    "minitab = len(df[df['job_desc'].str.contains('Mimitab', case=False)])\n",
    "stata = len(df[df['job_desc'].str.contains('Stata', case=False)])\n",
    "matlab = len(df[df['job_desc'].str.contains('Matlab', case=False)])\n",
    "salesforce = len(df[df['job_desc'].str.contains('Salesforce', case=False)])\n",
    "knime = len(df[df['job_desc'].str.contains('Knime', case=False)])\n",
    "\n"
   ]
  },
  {
   "cell_type": "code",
   "execution_count": 18,
   "id": "d90e6a15-faed-4d53-a6de-18cad14d6094",
   "metadata": {},
   "outputs": [
    {
     "data": {
      "text/html": [
       "<div>\n",
       "<style scoped>\n",
       "    .dataframe tbody tr th:only-of-type {\n",
       "        vertical-align: middle;\n",
       "    }\n",
       "\n",
       "    .dataframe tbody tr th {\n",
       "        vertical-align: top;\n",
       "    }\n",
       "\n",
       "    .dataframe thead th {\n",
       "        text-align: right;\n",
       "    }\n",
       "</style>\n",
       "<table border=\"1\" class=\"dataframe\">\n",
       "  <thead>\n",
       "    <tr style=\"text-align: right;\">\n",
       "      <th></th>\n",
       "      <th>Statistical Tools</th>\n",
       "      <th>Count</th>\n",
       "    </tr>\n",
       "  </thead>\n",
       "  <tbody>\n",
       "    <tr>\n",
       "      <th>0</th>\n",
       "      <td>Python</td>\n",
       "      <td>478</td>\n",
       "    </tr>\n",
       "    <tr>\n",
       "      <th>1</th>\n",
       "      <td>R</td>\n",
       "      <td>184</td>\n",
       "    </tr>\n",
       "    <tr>\n",
       "      <th>2</th>\n",
       "      <td>SAS</td>\n",
       "      <td>120</td>\n",
       "    </tr>\n",
       "    <tr>\n",
       "      <th>3</th>\n",
       "      <td>Spss</td>\n",
       "      <td>96</td>\n",
       "    </tr>\n",
       "    <tr>\n",
       "      <th>4</th>\n",
       "      <td>Stata</td>\n",
       "      <td>56</td>\n",
       "    </tr>\n",
       "    <tr>\n",
       "      <th>5</th>\n",
       "      <td>Matlab</td>\n",
       "      <td>28</td>\n",
       "    </tr>\n",
       "    <tr>\n",
       "      <th>6</th>\n",
       "      <td>Salesforce</td>\n",
       "      <td>71</td>\n",
       "    </tr>\n",
       "    <tr>\n",
       "      <th>7</th>\n",
       "      <td>Knime</td>\n",
       "      <td>3</td>\n",
       "    </tr>\n",
       "  </tbody>\n",
       "</table>\n",
       "</div>"
      ],
      "text/plain": [
       "  Statistical Tools  Count\n",
       "0            Python    478\n",
       "1                 R    184\n",
       "2               SAS    120\n",
       "3              Spss     96\n",
       "4             Stata     56\n",
       "5            Matlab     28\n",
       "6        Salesforce     71\n",
       "7             Knime      3"
      ]
     },
     "execution_count": 18,
     "metadata": {},
     "output_type": "execute_result"
    }
   ],
   "source": [
    "stat_tools = {'Statistical Tools': ['Python', 'R', 'SAS', 'Spss', 'Stata', 'Matlab', 'Salesforce', 'Knime'],\n",
    "              'Count': [python, r, sas, spss, stata, matlab, salesforce, knime]}\n",
    "stat_tools = pd.DataFrame(stat_tools)\n",
    "stat_tools\n"
   ]
  },
  {
   "cell_type": "code",
   "execution_count": 19,
   "id": "0078d9d0-b7a0-47ce-963c-0b1db2fb6ff5",
   "metadata": {},
   "outputs": [
    {
     "data": {
      "application/vnd.plotly.v1+json": {
       "config": {
        "plotlyServerURL": "https://plot.ly"
       },
       "data": [
        {
         "alignmentgroup": "True",
         "hovertemplate": "Statistical Tools=%{x}<br>Count=%{y}<extra></extra>",
         "legendgroup": "",
         "marker": {
          "color": "#F8766D",
          "pattern": {
           "shape": ""
          }
         },
         "name": "",
         "offsetgroup": "",
         "orientation": "v",
         "showlegend": false,
         "textposition": "auto",
         "type": "bar",
         "x": [
          "Python",
          "R",
          "SAS",
          "Spss",
          "Stata",
          "Matlab",
          "Salesforce",
          "Knime"
         ],
         "xaxis": "x",
         "y": [
          478,
          184,
          120,
          96,
          56,
          28,
          71,
          3
         ],
         "yaxis": "y"
        }
       ],
       "layout": {
        "barmode": "relative",
        "height": 400,
        "legend": {
         "tracegroupgap": 0
        },
        "template": {
         "data": {
          "bar": [
           {
            "error_x": {
             "color": "rgb(51,51,51)"
            },
            "error_y": {
             "color": "rgb(51,51,51)"
            },
            "marker": {
             "line": {
              "color": "rgb(237,237,237)",
              "width": 0.5
             },
             "pattern": {
              "fillmode": "overlay",
              "size": 10,
              "solidity": 0.2
             }
            },
            "type": "bar"
           }
          ],
          "barpolar": [
           {
            "marker": {
             "line": {
              "color": "rgb(237,237,237)",
              "width": 0.5
             },
             "pattern": {
              "fillmode": "overlay",
              "size": 10,
              "solidity": 0.2
             }
            },
            "type": "barpolar"
           }
          ],
          "carpet": [
           {
            "aaxis": {
             "endlinecolor": "rgb(51,51,51)",
             "gridcolor": "white",
             "linecolor": "white",
             "minorgridcolor": "white",
             "startlinecolor": "rgb(51,51,51)"
            },
            "baxis": {
             "endlinecolor": "rgb(51,51,51)",
             "gridcolor": "white",
             "linecolor": "white",
             "minorgridcolor": "white",
             "startlinecolor": "rgb(51,51,51)"
            },
            "type": "carpet"
           }
          ],
          "choropleth": [
           {
            "colorbar": {
             "outlinewidth": 0,
             "tickcolor": "rgb(237,237,237)",
             "ticklen": 6,
             "ticks": "inside"
            },
            "type": "choropleth"
           }
          ],
          "contour": [
           {
            "colorbar": {
             "outlinewidth": 0,
             "tickcolor": "rgb(237,237,237)",
             "ticklen": 6,
             "ticks": "inside"
            },
            "colorscale": [
             [
              0,
              "rgb(20,44,66)"
             ],
             [
              1,
              "rgb(90,179,244)"
             ]
            ],
            "type": "contour"
           }
          ],
          "contourcarpet": [
           {
            "colorbar": {
             "outlinewidth": 0,
             "tickcolor": "rgb(237,237,237)",
             "ticklen": 6,
             "ticks": "inside"
            },
            "type": "contourcarpet"
           }
          ],
          "heatmap": [
           {
            "colorbar": {
             "outlinewidth": 0,
             "tickcolor": "rgb(237,237,237)",
             "ticklen": 6,
             "ticks": "inside"
            },
            "colorscale": [
             [
              0,
              "rgb(20,44,66)"
             ],
             [
              1,
              "rgb(90,179,244)"
             ]
            ],
            "type": "heatmap"
           }
          ],
          "heatmapgl": [
           {
            "colorbar": {
             "outlinewidth": 0,
             "tickcolor": "rgb(237,237,237)",
             "ticklen": 6,
             "ticks": "inside"
            },
            "colorscale": [
             [
              0,
              "rgb(20,44,66)"
             ],
             [
              1,
              "rgb(90,179,244)"
             ]
            ],
            "type": "heatmapgl"
           }
          ],
          "histogram": [
           {
            "marker": {
             "pattern": {
              "fillmode": "overlay",
              "size": 10,
              "solidity": 0.2
             }
            },
            "type": "histogram"
           }
          ],
          "histogram2d": [
           {
            "colorbar": {
             "outlinewidth": 0,
             "tickcolor": "rgb(237,237,237)",
             "ticklen": 6,
             "ticks": "inside"
            },
            "colorscale": [
             [
              0,
              "rgb(20,44,66)"
             ],
             [
              1,
              "rgb(90,179,244)"
             ]
            ],
            "type": "histogram2d"
           }
          ],
          "histogram2dcontour": [
           {
            "colorbar": {
             "outlinewidth": 0,
             "tickcolor": "rgb(237,237,237)",
             "ticklen": 6,
             "ticks": "inside"
            },
            "colorscale": [
             [
              0,
              "rgb(20,44,66)"
             ],
             [
              1,
              "rgb(90,179,244)"
             ]
            ],
            "type": "histogram2dcontour"
           }
          ],
          "mesh3d": [
           {
            "colorbar": {
             "outlinewidth": 0,
             "tickcolor": "rgb(237,237,237)",
             "ticklen": 6,
             "ticks": "inside"
            },
            "type": "mesh3d"
           }
          ],
          "parcoords": [
           {
            "line": {
             "colorbar": {
              "outlinewidth": 0,
              "tickcolor": "rgb(237,237,237)",
              "ticklen": 6,
              "ticks": "inside"
             }
            },
            "type": "parcoords"
           }
          ],
          "pie": [
           {
            "automargin": true,
            "type": "pie"
           }
          ],
          "scatter": [
           {
            "fillpattern": {
             "fillmode": "overlay",
             "size": 10,
             "solidity": 0.2
            },
            "type": "scatter"
           }
          ],
          "scatter3d": [
           {
            "line": {
             "colorbar": {
              "outlinewidth": 0,
              "tickcolor": "rgb(237,237,237)",
              "ticklen": 6,
              "ticks": "inside"
             }
            },
            "marker": {
             "colorbar": {
              "outlinewidth": 0,
              "tickcolor": "rgb(237,237,237)",
              "ticklen": 6,
              "ticks": "inside"
             }
            },
            "type": "scatter3d"
           }
          ],
          "scattercarpet": [
           {
            "marker": {
             "colorbar": {
              "outlinewidth": 0,
              "tickcolor": "rgb(237,237,237)",
              "ticklen": 6,
              "ticks": "inside"
             }
            },
            "type": "scattercarpet"
           }
          ],
          "scattergeo": [
           {
            "marker": {
             "colorbar": {
              "outlinewidth": 0,
              "tickcolor": "rgb(237,237,237)",
              "ticklen": 6,
              "ticks": "inside"
             }
            },
            "type": "scattergeo"
           }
          ],
          "scattergl": [
           {
            "marker": {
             "colorbar": {
              "outlinewidth": 0,
              "tickcolor": "rgb(237,237,237)",
              "ticklen": 6,
              "ticks": "inside"
             }
            },
            "type": "scattergl"
           }
          ],
          "scattermapbox": [
           {
            "marker": {
             "colorbar": {
              "outlinewidth": 0,
              "tickcolor": "rgb(237,237,237)",
              "ticklen": 6,
              "ticks": "inside"
             }
            },
            "type": "scattermapbox"
           }
          ],
          "scatterpolar": [
           {
            "marker": {
             "colorbar": {
              "outlinewidth": 0,
              "tickcolor": "rgb(237,237,237)",
              "ticklen": 6,
              "ticks": "inside"
             }
            },
            "type": "scatterpolar"
           }
          ],
          "scatterpolargl": [
           {
            "marker": {
             "colorbar": {
              "outlinewidth": 0,
              "tickcolor": "rgb(237,237,237)",
              "ticklen": 6,
              "ticks": "inside"
             }
            },
            "type": "scatterpolargl"
           }
          ],
          "scatterternary": [
           {
            "marker": {
             "colorbar": {
              "outlinewidth": 0,
              "tickcolor": "rgb(237,237,237)",
              "ticklen": 6,
              "ticks": "inside"
             }
            },
            "type": "scatterternary"
           }
          ],
          "surface": [
           {
            "colorbar": {
             "outlinewidth": 0,
             "tickcolor": "rgb(237,237,237)",
             "ticklen": 6,
             "ticks": "inside"
            },
            "colorscale": [
             [
              0,
              "rgb(20,44,66)"
             ],
             [
              1,
              "rgb(90,179,244)"
             ]
            ],
            "type": "surface"
           }
          ],
          "table": [
           {
            "cells": {
             "fill": {
              "color": "rgb(237,237,237)"
             },
             "line": {
              "color": "white"
             }
            },
            "header": {
             "fill": {
              "color": "rgb(217,217,217)"
             },
             "line": {
              "color": "white"
             }
            },
            "type": "table"
           }
          ]
         },
         "layout": {
          "annotationdefaults": {
           "arrowhead": 0,
           "arrowwidth": 1
          },
          "autotypenumbers": "strict",
          "coloraxis": {
           "colorbar": {
            "outlinewidth": 0,
            "tickcolor": "rgb(237,237,237)",
            "ticklen": 6,
            "ticks": "inside"
           }
          },
          "colorscale": {
           "sequential": [
            [
             0,
             "rgb(20,44,66)"
            ],
            [
             1,
             "rgb(90,179,244)"
            ]
           ],
           "sequentialminus": [
            [
             0,
             "rgb(20,44,66)"
            ],
            [
             1,
             "rgb(90,179,244)"
            ]
           ]
          },
          "colorway": [
           "#F8766D",
           "#A3A500",
           "#00BF7D",
           "#00B0F6",
           "#E76BF3"
          ],
          "font": {
           "color": "rgb(51,51,51)"
          },
          "geo": {
           "bgcolor": "white",
           "lakecolor": "white",
           "landcolor": "rgb(237,237,237)",
           "showlakes": true,
           "showland": true,
           "subunitcolor": "white"
          },
          "hoverlabel": {
           "align": "left"
          },
          "hovermode": "closest",
          "paper_bgcolor": "white",
          "plot_bgcolor": "rgb(237,237,237)",
          "polar": {
           "angularaxis": {
            "gridcolor": "white",
            "linecolor": "white",
            "showgrid": true,
            "tickcolor": "rgb(51,51,51)",
            "ticks": "outside"
           },
           "bgcolor": "rgb(237,237,237)",
           "radialaxis": {
            "gridcolor": "white",
            "linecolor": "white",
            "showgrid": true,
            "tickcolor": "rgb(51,51,51)",
            "ticks": "outside"
           }
          },
          "scene": {
           "xaxis": {
            "backgroundcolor": "rgb(237,237,237)",
            "gridcolor": "white",
            "gridwidth": 2,
            "linecolor": "white",
            "showbackground": true,
            "showgrid": true,
            "tickcolor": "rgb(51,51,51)",
            "ticks": "outside",
            "zerolinecolor": "white"
           },
           "yaxis": {
            "backgroundcolor": "rgb(237,237,237)",
            "gridcolor": "white",
            "gridwidth": 2,
            "linecolor": "white",
            "showbackground": true,
            "showgrid": true,
            "tickcolor": "rgb(51,51,51)",
            "ticks": "outside",
            "zerolinecolor": "white"
           },
           "zaxis": {
            "backgroundcolor": "rgb(237,237,237)",
            "gridcolor": "white",
            "gridwidth": 2,
            "linecolor": "white",
            "showbackground": true,
            "showgrid": true,
            "tickcolor": "rgb(51,51,51)",
            "ticks": "outside",
            "zerolinecolor": "white"
           }
          },
          "shapedefaults": {
           "fillcolor": "black",
           "line": {
            "width": 0
           },
           "opacity": 0.3
          },
          "ternary": {
           "aaxis": {
            "gridcolor": "white",
            "linecolor": "white",
            "showgrid": true,
            "tickcolor": "rgb(51,51,51)",
            "ticks": "outside"
           },
           "baxis": {
            "gridcolor": "white",
            "linecolor": "white",
            "showgrid": true,
            "tickcolor": "rgb(51,51,51)",
            "ticks": "outside"
           },
           "bgcolor": "rgb(237,237,237)",
           "caxis": {
            "gridcolor": "white",
            "linecolor": "white",
            "showgrid": true,
            "tickcolor": "rgb(51,51,51)",
            "ticks": "outside"
           }
          },
          "xaxis": {
           "automargin": true,
           "gridcolor": "white",
           "linecolor": "white",
           "showgrid": true,
           "tickcolor": "rgb(51,51,51)",
           "ticks": "outside",
           "title": {
            "standoff": 15
           },
           "zerolinecolor": "white"
          },
          "yaxis": {
           "automargin": true,
           "gridcolor": "white",
           "linecolor": "white",
           "showgrid": true,
           "tickcolor": "rgb(51,51,51)",
           "ticks": "outside",
           "title": {
            "standoff": 15
           },
           "zerolinecolor": "white"
          }
         }
        },
        "title": {
         "text": "Most in demand Statistical Tools"
        },
        "width": 600,
        "xaxis": {
         "anchor": "y",
         "categoryorder": "total descending",
         "domain": [
          0,
          1
         ],
         "title": {
          "text": "Statistical Tools"
         }
        },
        "yaxis": {
         "anchor": "x",
         "domain": [
          0,
          1
         ],
         "title": {
          "text": "Count"
         }
        }
       }
      }
     },
     "metadata": {},
     "output_type": "display_data"
    }
   ],
   "source": [
    "fig = px.bar(stat_tools, x='Statistical Tools', y='Count',\n",
    "             width=600, height=400,\n",
    "             title='Most in demand Statistical Tools',\n",
    "             template= 'ggplot2')\n",
    "fig.update_xaxes(categoryorder='total descending')\n",
    "fig.show()\n"
   ]
  },
  {
   "cell_type": "code",
   "execution_count": 20,
   "id": "94b1ed1b-9d5a-463f-a932-e04b5df28e2e",
   "metadata": {},
   "outputs": [],
   "source": [
    "sql = len(df[df['job_desc'].str.contains('SQL', case=False)])\n",
    "sql\n",
    "excel = len(df[df['job_desc'].str.contains(\n",
    "    'excel |Spreadsheet|sheet|Power Query', case=False)])"
   ]
  },
  {
   "cell_type": "code",
   "execution_count": 21,
   "id": "72e21b1c-a9f1-4b62-aa1c-9aa14f0f16a7",
   "metadata": {},
   "outputs": [],
   "source": [
    "tools = {'Tools': ['Python', 'R', 'SAS', 'Spss', 'Stata', 'Matlab', 'Salesforce', 'Knime', 'Excel', 'Tableau', 'Power BI', 'Qlik', 'Domo', 'Looker', 'IBM Cognos', 'Sisense', 'Google Data Studio', 'SQL'],\n",
    "         'Count': [python, r, sas, spss, stata, matlab, salesforce, knime, excel, tableau, powerBI, qlik, domo, looker, ibm_cognos, sisense, google_data_studio, sql]}\n",
    "tools = pd.DataFrame(tools)\n"
   ]
  },
  {
   "cell_type": "markdown",
   "id": "effcbc24",
   "metadata": {},
   "source": [
    "What are generally the most used tools in Data Analysis "
   ]
  },
  {
   "cell_type": "code",
   "execution_count": 22,
   "id": "741916b2-9bb5-4869-a3ae-4b8ae5474193",
   "metadata": {},
   "outputs": [
    {
     "data": {
      "application/vnd.plotly.v1+json": {
       "config": {
        "plotlyServerURL": "https://plot.ly"
       },
       "data": [
        {
         "alignmentgroup": "True",
         "hovertemplate": "Tools=%{x}<br>Count=%{y}<extra></extra>",
         "legendgroup": "",
         "marker": {
          "color": "#636efa",
          "pattern": {
           "shape": ""
          }
         },
         "name": "",
         "offsetgroup": "",
         "orientation": "v",
         "showlegend": false,
         "textposition": "auto",
         "type": "bar",
         "x": [
          "Python",
          "R",
          "SAS",
          "Spss",
          "Stata",
          "Matlab",
          "Salesforce",
          "Knime",
          "Excel",
          "Tableau",
          "Power BI",
          "Qlik",
          "Domo",
          "Looker",
          "IBM Cognos",
          "Sisense",
          "Google Data Studio",
          "SQL"
         ],
         "xaxis": "x",
         "y": [
          478,
          184,
          120,
          96,
          56,
          28,
          71,
          3,
          575,
          514,
          328,
          52,
          20,
          68,
          29,
          5,
          13,
          913
         ],
         "yaxis": "y"
        }
       ],
       "layout": {
        "barmode": "relative",
        "height": 400,
        "legend": {
         "tracegroupgap": 0
        },
        "template": {
         "data": {
          "bar": [
           {
            "error_x": {
             "color": "#2a3f5f"
            },
            "error_y": {
             "color": "#2a3f5f"
            },
            "marker": {
             "line": {
              "color": "#E5ECF6",
              "width": 0.5
             },
             "pattern": {
              "fillmode": "overlay",
              "size": 10,
              "solidity": 0.2
             }
            },
            "type": "bar"
           }
          ],
          "barpolar": [
           {
            "marker": {
             "line": {
              "color": "#E5ECF6",
              "width": 0.5
             },
             "pattern": {
              "fillmode": "overlay",
              "size": 10,
              "solidity": 0.2
             }
            },
            "type": "barpolar"
           }
          ],
          "carpet": [
           {
            "aaxis": {
             "endlinecolor": "#2a3f5f",
             "gridcolor": "white",
             "linecolor": "white",
             "minorgridcolor": "white",
             "startlinecolor": "#2a3f5f"
            },
            "baxis": {
             "endlinecolor": "#2a3f5f",
             "gridcolor": "white",
             "linecolor": "white",
             "minorgridcolor": "white",
             "startlinecolor": "#2a3f5f"
            },
            "type": "carpet"
           }
          ],
          "choropleth": [
           {
            "colorbar": {
             "outlinewidth": 0,
             "ticks": ""
            },
            "type": "choropleth"
           }
          ],
          "contour": [
           {
            "colorbar": {
             "outlinewidth": 0,
             "ticks": ""
            },
            "colorscale": [
             [
              0,
              "#0d0887"
             ],
             [
              0.1111111111111111,
              "#46039f"
             ],
             [
              0.2222222222222222,
              "#7201a8"
             ],
             [
              0.3333333333333333,
              "#9c179e"
             ],
             [
              0.4444444444444444,
              "#bd3786"
             ],
             [
              0.5555555555555556,
              "#d8576b"
             ],
             [
              0.6666666666666666,
              "#ed7953"
             ],
             [
              0.7777777777777778,
              "#fb9f3a"
             ],
             [
              0.8888888888888888,
              "#fdca26"
             ],
             [
              1,
              "#f0f921"
             ]
            ],
            "type": "contour"
           }
          ],
          "contourcarpet": [
           {
            "colorbar": {
             "outlinewidth": 0,
             "ticks": ""
            },
            "type": "contourcarpet"
           }
          ],
          "heatmap": [
           {
            "colorbar": {
             "outlinewidth": 0,
             "ticks": ""
            },
            "colorscale": [
             [
              0,
              "#0d0887"
             ],
             [
              0.1111111111111111,
              "#46039f"
             ],
             [
              0.2222222222222222,
              "#7201a8"
             ],
             [
              0.3333333333333333,
              "#9c179e"
             ],
             [
              0.4444444444444444,
              "#bd3786"
             ],
             [
              0.5555555555555556,
              "#d8576b"
             ],
             [
              0.6666666666666666,
              "#ed7953"
             ],
             [
              0.7777777777777778,
              "#fb9f3a"
             ],
             [
              0.8888888888888888,
              "#fdca26"
             ],
             [
              1,
              "#f0f921"
             ]
            ],
            "type": "heatmap"
           }
          ],
          "heatmapgl": [
           {
            "colorbar": {
             "outlinewidth": 0,
             "ticks": ""
            },
            "colorscale": [
             [
              0,
              "#0d0887"
             ],
             [
              0.1111111111111111,
              "#46039f"
             ],
             [
              0.2222222222222222,
              "#7201a8"
             ],
             [
              0.3333333333333333,
              "#9c179e"
             ],
             [
              0.4444444444444444,
              "#bd3786"
             ],
             [
              0.5555555555555556,
              "#d8576b"
             ],
             [
              0.6666666666666666,
              "#ed7953"
             ],
             [
              0.7777777777777778,
              "#fb9f3a"
             ],
             [
              0.8888888888888888,
              "#fdca26"
             ],
             [
              1,
              "#f0f921"
             ]
            ],
            "type": "heatmapgl"
           }
          ],
          "histogram": [
           {
            "marker": {
             "pattern": {
              "fillmode": "overlay",
              "size": 10,
              "solidity": 0.2
             }
            },
            "type": "histogram"
           }
          ],
          "histogram2d": [
           {
            "colorbar": {
             "outlinewidth": 0,
             "ticks": ""
            },
            "colorscale": [
             [
              0,
              "#0d0887"
             ],
             [
              0.1111111111111111,
              "#46039f"
             ],
             [
              0.2222222222222222,
              "#7201a8"
             ],
             [
              0.3333333333333333,
              "#9c179e"
             ],
             [
              0.4444444444444444,
              "#bd3786"
             ],
             [
              0.5555555555555556,
              "#d8576b"
             ],
             [
              0.6666666666666666,
              "#ed7953"
             ],
             [
              0.7777777777777778,
              "#fb9f3a"
             ],
             [
              0.8888888888888888,
              "#fdca26"
             ],
             [
              1,
              "#f0f921"
             ]
            ],
            "type": "histogram2d"
           }
          ],
          "histogram2dcontour": [
           {
            "colorbar": {
             "outlinewidth": 0,
             "ticks": ""
            },
            "colorscale": [
             [
              0,
              "#0d0887"
             ],
             [
              0.1111111111111111,
              "#46039f"
             ],
             [
              0.2222222222222222,
              "#7201a8"
             ],
             [
              0.3333333333333333,
              "#9c179e"
             ],
             [
              0.4444444444444444,
              "#bd3786"
             ],
             [
              0.5555555555555556,
              "#d8576b"
             ],
             [
              0.6666666666666666,
              "#ed7953"
             ],
             [
              0.7777777777777778,
              "#fb9f3a"
             ],
             [
              0.8888888888888888,
              "#fdca26"
             ],
             [
              1,
              "#f0f921"
             ]
            ],
            "type": "histogram2dcontour"
           }
          ],
          "mesh3d": [
           {
            "colorbar": {
             "outlinewidth": 0,
             "ticks": ""
            },
            "type": "mesh3d"
           }
          ],
          "parcoords": [
           {
            "line": {
             "colorbar": {
              "outlinewidth": 0,
              "ticks": ""
             }
            },
            "type": "parcoords"
           }
          ],
          "pie": [
           {
            "automargin": true,
            "type": "pie"
           }
          ],
          "scatter": [
           {
            "fillpattern": {
             "fillmode": "overlay",
             "size": 10,
             "solidity": 0.2
            },
            "type": "scatter"
           }
          ],
          "scatter3d": [
           {
            "line": {
             "colorbar": {
              "outlinewidth": 0,
              "ticks": ""
             }
            },
            "marker": {
             "colorbar": {
              "outlinewidth": 0,
              "ticks": ""
             }
            },
            "type": "scatter3d"
           }
          ],
          "scattercarpet": [
           {
            "marker": {
             "colorbar": {
              "outlinewidth": 0,
              "ticks": ""
             }
            },
            "type": "scattercarpet"
           }
          ],
          "scattergeo": [
           {
            "marker": {
             "colorbar": {
              "outlinewidth": 0,
              "ticks": ""
             }
            },
            "type": "scattergeo"
           }
          ],
          "scattergl": [
           {
            "marker": {
             "colorbar": {
              "outlinewidth": 0,
              "ticks": ""
             }
            },
            "type": "scattergl"
           }
          ],
          "scattermapbox": [
           {
            "marker": {
             "colorbar": {
              "outlinewidth": 0,
              "ticks": ""
             }
            },
            "type": "scattermapbox"
           }
          ],
          "scatterpolar": [
           {
            "marker": {
             "colorbar": {
              "outlinewidth": 0,
              "ticks": ""
             }
            },
            "type": "scatterpolar"
           }
          ],
          "scatterpolargl": [
           {
            "marker": {
             "colorbar": {
              "outlinewidth": 0,
              "ticks": ""
             }
            },
            "type": "scatterpolargl"
           }
          ],
          "scatterternary": [
           {
            "marker": {
             "colorbar": {
              "outlinewidth": 0,
              "ticks": ""
             }
            },
            "type": "scatterternary"
           }
          ],
          "surface": [
           {
            "colorbar": {
             "outlinewidth": 0,
             "ticks": ""
            },
            "colorscale": [
             [
              0,
              "#0d0887"
             ],
             [
              0.1111111111111111,
              "#46039f"
             ],
             [
              0.2222222222222222,
              "#7201a8"
             ],
             [
              0.3333333333333333,
              "#9c179e"
             ],
             [
              0.4444444444444444,
              "#bd3786"
             ],
             [
              0.5555555555555556,
              "#d8576b"
             ],
             [
              0.6666666666666666,
              "#ed7953"
             ],
             [
              0.7777777777777778,
              "#fb9f3a"
             ],
             [
              0.8888888888888888,
              "#fdca26"
             ],
             [
              1,
              "#f0f921"
             ]
            ],
            "type": "surface"
           }
          ],
          "table": [
           {
            "cells": {
             "fill": {
              "color": "#EBF0F8"
             },
             "line": {
              "color": "white"
             }
            },
            "header": {
             "fill": {
              "color": "#C8D4E3"
             },
             "line": {
              "color": "white"
             }
            },
            "type": "table"
           }
          ]
         },
         "layout": {
          "annotationdefaults": {
           "arrowcolor": "#2a3f5f",
           "arrowhead": 0,
           "arrowwidth": 1
          },
          "autotypenumbers": "strict",
          "coloraxis": {
           "colorbar": {
            "outlinewidth": 0,
            "ticks": ""
           }
          },
          "colorscale": {
           "diverging": [
            [
             0,
             "#8e0152"
            ],
            [
             0.1,
             "#c51b7d"
            ],
            [
             0.2,
             "#de77ae"
            ],
            [
             0.3,
             "#f1b6da"
            ],
            [
             0.4,
             "#fde0ef"
            ],
            [
             0.5,
             "#f7f7f7"
            ],
            [
             0.6,
             "#e6f5d0"
            ],
            [
             0.7,
             "#b8e186"
            ],
            [
             0.8,
             "#7fbc41"
            ],
            [
             0.9,
             "#4d9221"
            ],
            [
             1,
             "#276419"
            ]
           ],
           "sequential": [
            [
             0,
             "#0d0887"
            ],
            [
             0.1111111111111111,
             "#46039f"
            ],
            [
             0.2222222222222222,
             "#7201a8"
            ],
            [
             0.3333333333333333,
             "#9c179e"
            ],
            [
             0.4444444444444444,
             "#bd3786"
            ],
            [
             0.5555555555555556,
             "#d8576b"
            ],
            [
             0.6666666666666666,
             "#ed7953"
            ],
            [
             0.7777777777777778,
             "#fb9f3a"
            ],
            [
             0.8888888888888888,
             "#fdca26"
            ],
            [
             1,
             "#f0f921"
            ]
           ],
           "sequentialminus": [
            [
             0,
             "#0d0887"
            ],
            [
             0.1111111111111111,
             "#46039f"
            ],
            [
             0.2222222222222222,
             "#7201a8"
            ],
            [
             0.3333333333333333,
             "#9c179e"
            ],
            [
             0.4444444444444444,
             "#bd3786"
            ],
            [
             0.5555555555555556,
             "#d8576b"
            ],
            [
             0.6666666666666666,
             "#ed7953"
            ],
            [
             0.7777777777777778,
             "#fb9f3a"
            ],
            [
             0.8888888888888888,
             "#fdca26"
            ],
            [
             1,
             "#f0f921"
            ]
           ]
          },
          "colorway": [
           "#636efa",
           "#EF553B",
           "#00cc96",
           "#ab63fa",
           "#FFA15A",
           "#19d3f3",
           "#FF6692",
           "#B6E880",
           "#FF97FF",
           "#FECB52"
          ],
          "font": {
           "color": "#2a3f5f"
          },
          "geo": {
           "bgcolor": "white",
           "lakecolor": "white",
           "landcolor": "#E5ECF6",
           "showlakes": true,
           "showland": true,
           "subunitcolor": "white"
          },
          "hoverlabel": {
           "align": "left"
          },
          "hovermode": "closest",
          "mapbox": {
           "style": "light"
          },
          "paper_bgcolor": "white",
          "plot_bgcolor": "#E5ECF6",
          "polar": {
           "angularaxis": {
            "gridcolor": "white",
            "linecolor": "white",
            "ticks": ""
           },
           "bgcolor": "#E5ECF6",
           "radialaxis": {
            "gridcolor": "white",
            "linecolor": "white",
            "ticks": ""
           }
          },
          "scene": {
           "xaxis": {
            "backgroundcolor": "#E5ECF6",
            "gridcolor": "white",
            "gridwidth": 2,
            "linecolor": "white",
            "showbackground": true,
            "ticks": "",
            "zerolinecolor": "white"
           },
           "yaxis": {
            "backgroundcolor": "#E5ECF6",
            "gridcolor": "white",
            "gridwidth": 2,
            "linecolor": "white",
            "showbackground": true,
            "ticks": "",
            "zerolinecolor": "white"
           },
           "zaxis": {
            "backgroundcolor": "#E5ECF6",
            "gridcolor": "white",
            "gridwidth": 2,
            "linecolor": "white",
            "showbackground": true,
            "ticks": "",
            "zerolinecolor": "white"
           }
          },
          "shapedefaults": {
           "line": {
            "color": "#2a3f5f"
           }
          },
          "ternary": {
           "aaxis": {
            "gridcolor": "white",
            "linecolor": "white",
            "ticks": ""
           },
           "baxis": {
            "gridcolor": "white",
            "linecolor": "white",
            "ticks": ""
           },
           "bgcolor": "#E5ECF6",
           "caxis": {
            "gridcolor": "white",
            "linecolor": "white",
            "ticks": ""
           }
          },
          "title": {
           "x": 0.05
          },
          "xaxis": {
           "automargin": true,
           "gridcolor": "white",
           "linecolor": "white",
           "ticks": "",
           "title": {
            "standoff": 15
           },
           "zerolinecolor": "white",
           "zerolinewidth": 2
          },
          "yaxis": {
           "automargin": true,
           "gridcolor": "white",
           "linecolor": "white",
           "ticks": "",
           "title": {
            "standoff": 15
           },
           "zerolinecolor": "white",
           "zerolinewidth": 2
          }
         }
        },
        "title": {
         "text": "Most in demand Tools"
        },
        "width": 600,
        "xaxis": {
         "anchor": "y",
         "categoryorder": "total descending",
         "domain": [
          0,
          1
         ],
         "title": {
          "text": "Tools"
         }
        },
        "yaxis": {
         "anchor": "x",
         "domain": [
          0,
          1
         ],
         "title": {
          "text": "Count"
         }
        }
       }
      }
     },
     "metadata": {},
     "output_type": "display_data"
    }
   ],
   "source": [
    "fig = px.bar(tools, x='Tools', y='Count',\n",
    "             width=600, height=400,\n",
    "             title='Most in demand Tools')\n",
    "fig.update_xaxes(categoryorder='total descending')\n",
    "fig.show()\n"
   ]
  }
 ],
 "metadata": {
  "kernelspec": {
   "display_name": "Python 3.9.7 ('base')",
   "language": "python",
   "name": "python3"
  },
  "language_info": {
   "codemirror_mode": {
    "name": "ipython",
    "version": 3
   },
   "file_extension": ".py",
   "mimetype": "text/x-python",
   "name": "python",
   "nbconvert_exporter": "python",
   "pygments_lexer": "ipython3",
   "version": "3.9.7"
  },
  "vscode": {
   "interpreter": {
    "hash": "ad2bdc8ecc057115af97d19610ffacc2b4e99fae6737bb82f5d7fb13d2f2c186"
   }
  }
 },
 "nbformat": 4,
 "nbformat_minor": 5
}
